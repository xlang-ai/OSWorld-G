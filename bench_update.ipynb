{
 "cells": [
  {
   "cell_type": "code",
   "execution_count": 1,
   "metadata": {},
   "outputs": [
    {
     "name": "stdout",
     "output_type": "stream",
     "text": [
      "original length: 580\n",
      "1\n",
      "1\n",
      "1\n",
      "1\n",
      "1\n",
      "1\n",
      "1\n",
      "1\n",
      "1\n",
      "1\n",
      "1\n",
      "now length: 580\n"
     ]
    }
   ],
   "source": [
    "import json\n",
    "src_json_path = \"jixuan_01.json\"\n",
    "dst_json_path = \"annotations_v5 copy.json\"\n",
    "\n",
    "def convert_format(src_data):\n",
    "    result = []\n",
    "\n",
    "    for i, annotation in enumerate(src_data[\"annotations\"]):\n",
    "        converted_item = {\n",
    "            \"id\": f\"{src_data['id']}-{i}\",\n",
    "            \"image_path\": src_data[\"image\"][\"path\"],\n",
    "            \"image_size\": src_data[\"image\"][\"size\"],\n",
    "            \"instruction\": annotation[\"attributes\"][\"Instruction\"],\n",
    "            \"box_type\": annotation[\"type\"],\n",
    "            \"box_coordinates\": annotation[\"bbox\"] if annotation[\"type\"] == \"bbox\" else annotation[\"points\"]\n",
    "        }\n",
    "        result.append(converted_item)\n",
    "\n",
    "    return result\n",
    "\n",
    "# Sample src data - replace this with your actual data\n",
    "with open(src_json_path, \"r\") as file:\n",
    "    file_data = json.load(file)\n",
    "    src_data_list = file_data[\"items\"]\n",
    "\n",
    "with open(dst_json_path, \"r\")as file:\n",
    "    dst_data_list = json.load(file)\n",
    "    print(f\"original length: {len(dst_data_list)}\")\n",
    "    # iterate on id\n",
    "    for src_data in src_data_list:\n",
    "\n",
    "        src_id = src_data[\"id\"]\n",
    "        converted_data = convert_format(src_data)\n",
    "        # delete\n",
    "        indices_to_replace = [i for i, dst_data in enumerate(dst_data_list) if src_id in dst_data[\"id\"]]\n",
    "\n",
    "        # 如果找到了满足条件的元素，进行替换\n",
    "        if indices_to_replace:\n",
    "            print(1)\n",
    "            # 删除满足条件的元素\n",
    "            for index in reversed(indices_to_replace):\n",
    "                del dst_data_list[index]\n",
    "            # 插入 converted_data 中的元素\n",
    "            dst_data_list[indices_to_replace[0]:indices_to_replace[0]] = converted_data\n",
    "\n",
    "\n",
    "with open(dst_json_path, \"w\")as file:\n",
    "    print(f\"now length: {len(dst_data_list)}\")\n",
    "    json.dump(dst_data_list, file, indent=2)"
   ]
  },
  {
   "cell_type": "code",
   "execution_count": 3,
   "metadata": {},
   "outputs": [],
   "source": [
    "import json\n",
    "with open(\"annotations_v5.json\", \"r\") as file:\n",
    "    data_list = json.load(file)\n",
    "    for data in data_list:\n",
    "        if data[\"image_size\"][0]<data[\"image_size\"][1]:\n",
    "            data[\"image_size\"] = [data[\"image_size\"][1], data[\"image_size\"][0]]\n",
    "            if data[\"image_size\"][0] != 1920 and data[\"image_size\"][0] != 1280:\n",
    "                print(data[\"image_size\"])\n",
    "with open(\"annotations_v5.json\", \"w\") as file:\n",
    "    json.dump(data_list, file, indent=2)"
   ]
  }
 ],
 "metadata": {
  "kernelspec": {
   "display_name": "others",
   "language": "python",
   "name": "python3"
  },
  "language_info": {
   "codemirror_mode": {
    "name": "ipython",
    "version": 3
   },
   "file_extension": ".py",
   "mimetype": "text/x-python",
   "name": "python",
   "nbconvert_exporter": "python",
   "pygments_lexer": "ipython3",
   "version": "3.10.15"
  }
 },
 "nbformat": 4,
 "nbformat_minor": 2
}

{
 "cells": [
  {
   "cell_type": "code",
   "execution_count": 1,
   "metadata": {},
   "outputs": [],
   "source": [
    "import cv2\n",
    "import numpy as np\n",
    "\n",
    "def is_solid_color_cv2(image_path, tolerance=10):\n",
    "\n",
    "    # 读取图片\n",
    "    img = cv2.imread(image_path)\n",
    "    if img is None:\n",
    "        raise ValueError(\"无法读取图片\")\n",
    "    \n",
    "    # 计算每个通道的标准差\n",
    "    std_per_channel = np.std(img, axis=(0,1))\n",
    "    \n",
    "    # 如果所有通道的标准差都小于容差值，则认为是纯色图片\n",
    "    return np.all(std_per_channel <= tolerance)"
   ]
  },
  {
   "cell_type": "code",
   "execution_count": 2,
   "metadata": {},
   "outputs": [],
   "source": [
    "import jsonlines\n",
    "import os\n",
    "\n",
    "data_dir = \"/mnt/moonfs/dengjiaqi-m2/OSWorld-G/layout_crawling/systhesis/cropped_data_v4\"\n",
    "\n",
    "data = []\n",
    "with jsonlines.open(os.path.join(data_dir, \"layout2k.jsonl\")) as reader:\n",
    "    for obj in reader:\n",
    "        data.append(obj)"
   ]
  },
  {
   "cell_type": "code",
   "execution_count": 3,
   "metadata": {},
   "outputs": [
    {
     "name": "stderr",
     "output_type": "stream",
     "text": [
      "过滤图片:   4%|▍         | 5513/125807 [00:18<04:09, 482.18it/s][ WARN:0@24.113] global loadsave.cpp:241 findDecoder imread_('/mnt/moonfs/dengjiaqi-m2/OSWorld-G/layout_crawling/systhesis/cropped_data_v4/cropped_images/6ad10c913cb50d5a38f175c3433fdea3.png'): can't open/read file: check file path/integrity\n",
      "[ WARN:1@24.142] global loadsave.cpp:241 findDecoder imread_('/mnt/moonfs/dengjiaqi-m2/OSWorld-G/layout_crawling/systhesis/cropped_data_v4/cropped_images/918a58d82b70c359a54a139e8b1b71d6.png'): can't open/read file: check file path/integrity\n",
      "[ WARN:2@24.149] global loadsave.cpp:241 findDecoder imread_('/mnt/moonfs/dengjiaqi-m2/OSWorld-G/layout_crawling/systhesis/cropped_data_v4/cropped_images/a2c7e3870f1f09e570ef35cea00d84a5.png'): can't open/read file: check file path/integrity\n",
      "[ WARN:3@24.151] global loadsave.cpp:241 findDecoder imread_('/mnt/moonfs/dengjiaqi-m2/OSWorld-G/layout_crawling/systhesis/cropped_data_v4/cropped_images/b58e8dbe1ed8dc4228dd4c10133b73e7.png'): can't open/read file: check file path/integrity\n",
      "[ WARN:4@24.153] global loadsave.cpp:241 findDecoder imread_('/mnt/moonfs/dengjiaqi-m2/OSWorld-G/layout_crawling/systhesis/cropped_data_v4/cropped_images/587a0bf4ece1667e2502c2f820428bba.png'): can't open/read file: check file path/integrity\n",
      "[ WARN:5@24.171] global loadsave.cpp:241 findDecoder imread_('/mnt/moonfs/dengjiaqi-m2/OSWorld-G/layout_crawling/systhesis/cropped_data_v4/cropped_images/ad870515c6ffdb7ada0196cd7948d427.png'): can't open/read file: check file path/integrity\n",
      "[ WARN:6@24.188] global loadsave.cpp:241 findDecoder imread_('/mnt/moonfs/dengjiaqi-m2/OSWorld-G/layout_crawling/systhesis/cropped_data_v4/cropped_images/2e98e48a88dde6ef8e3086a08c025fe0.png'): can't open/read file: check file path/integrity\n",
      "[ WARN:1@24.206] global loadsave.cpp:241 findDecoder imread_('/mnt/moonfs/dengjiaqi-m2/OSWorld-G/layout_crawling/systhesis/cropped_data_v4/cropped_images/0d1f50f8f3a1b54de4e2fa07ee13db4c.png'): can't open/read file: check file path/integrity\n",
      "过滤图片:   4%|▍         | 5640/125807 [00:18<04:14, 472.42it/s]"
     ]
    },
    {
     "name": "stdout",
     "output_type": "stream",
     "text": [
      "处理图片 6ad10c913cb50d5a38f175c3433fdea3.png 时出错: 无法读取图片\n",
      "处理图片 918a58d82b70c359a54a139e8b1b71d6.png 时出错: 无法读取图片\n",
      "处理图片 a2c7e3870f1f09e570ef35cea00d84a5.png 时出错: 无法读取图片\n",
      "处理图片 b58e8dbe1ed8dc4228dd4c10133b73e7.png 时出错: 无法读取图片\n",
      "处理图片 587a0bf4ece1667e2502c2f820428bba.png 时出错: 无法读取图片\n",
      "处理图片 ad870515c6ffdb7ada0196cd7948d427.png 时出错: 无法读取图片\n",
      "处理图片 2e98e48a88dde6ef8e3086a08c025fe0.png 时出错: 无法读取图片\n",
      "处理图片 0d1f50f8f3a1b54de4e2fa07ee13db4c.png 时出错: 无法读取图片\n",
      "处理图片 b9252a412737b68bcfb945cc5f181a83.png 时出错: 无法读取图片\n",
      "处理图片 c1c2621e6485a6d0440eec1a6b997ca7.png 时出错: 无法读取图片\n",
      "处理图片 98ac3a3b2522a01a7b130617041e092f.png 时出错: 无法读取图片\n",
      "处理图片 bf4f426f3e893adf433a45917da8dec3.png 时出错: 无法读取图片\n",
      "处理图片 d2d80f50702fb26a4315f0a739ab1256.png 时出错: 无法读取图片\n",
      "处理图片 369cfed0cdb97b75da8a43e5778f9d30.png 时出错: 无法读取图片\n"
     ]
    },
    {
     "name": "stderr",
     "output_type": "stream",
     "text": [
      "[ WARN:7@24.211] global loadsave.cpp:241 findDecoder imread_('/mnt/moonfs/dengjiaqi-m2/OSWorld-G/layout_crawling/systhesis/cropped_data_v4/cropped_images/b9252a412737b68bcfb945cc5f181a83.png'): can't open/read file: check file path/integrity\n",
      "[ WARN:8@24.222] global loadsave.cpp:241 findDecoder imread_('/mnt/moonfs/dengjiaqi-m2/OSWorld-G/layout_crawling/systhesis/cropped_data_v4/cropped_images/c1c2621e6485a6d0440eec1a6b997ca7.png'): can't open/read file: check file path/integrity\n",
      "[ WARN:9@24.224] global loadsave.cpp:241 findDecoder imread_('/mnt/moonfs/dengjiaqi-m2/OSWorld-G/layout_crawling/systhesis/cropped_data_v4/cropped_images/98ac3a3b2522a01a7b130617041e092f.png'): can't open/read file: check file path/integrity\n",
      "[ WARN:10@24.244] global loadsave.cpp:241 findDecoder imread_('/mnt/moonfs/dengjiaqi-m2/OSWorld-G/layout_crawling/systhesis/cropped_data_v4/cropped_images/bf4f426f3e893adf433a45917da8dec3.png'): can't open/read file: check file path/integrity\n",
      "[ WARN:11@24.249] global loadsave.cpp:241 findDecoder imread_('/mnt/moonfs/dengjiaqi-m2/OSWorld-G/layout_crawling/systhesis/cropped_data_v4/cropped_images/d2d80f50702fb26a4315f0a739ab1256.png'): can't open/read file: check file path/integrity\n",
      "[ WARN:12@24.302] global loadsave.cpp:241 findDecoder imread_('/mnt/moonfs/dengjiaqi-m2/OSWorld-G/layout_crawling/systhesis/cropped_data_v4/cropped_images/369cfed0cdb97b75da8a43e5778f9d30.png'): can't open/read file: check file path/integrity\n",
      "过滤图片:   5%|▍         | 5742/125807 [00:18<04:21, 458.79it/s][ WARN:12@24.541] global loadsave.cpp:241 findDecoder imread_('/mnt/moonfs/dengjiaqi-m2/OSWorld-G/layout_crawling/systhesis/cropped_data_v4/cropped_images/2bbec222e87ad977d437889494e9f3dc.png'): can't open/read file: check file path/integrity\n",
      "[ WARN:13@24.566] global loadsave.cpp:241 findDecoder imread_('/mnt/moonfs/dengjiaqi-m2/OSWorld-G/layout_crawling/systhesis/cropped_data_v4/cropped_images/8298a2f923034890e0ac4694b7b4ccc8.png'): can't open/read file: check file path/integrity\n",
      "[ WARN:10@24.587] global loadsave.cpp:241 findDecoder imread_('/mnt/moonfs/dengjiaqi-m2/OSWorld-G/layout_crawling/systhesis/cropped_data_v4/cropped_images/387384638686e7892696b4120c313242.png'): can't open/read file: check file path/integrity\n",
      "[ WARN:7@24.591] global loadsave.cpp:241 findDecoder imread_('/mnt/moonfs/dengjiaqi-m2/OSWorld-G/layout_crawling/systhesis/cropped_data_v4/cropped_images/ef5db83b1dddac9abdaff6d8bd099386.png'): can't open/read file: check file path/integrity\n",
      "[ WARN:1@24.609] global loadsave.cpp:241 findDecoder imread_('/mnt/moonfs/dengjiaqi-m2/OSWorld-G/layout_crawling/systhesis/cropped_data_v4/cropped_images/36813ab5dce80d246f9f3084831fc93e.png'): can't open/read file: check file path/integrity\n",
      "[ WARN:5@24.614] global loadsave.cpp:241 findDecoder imread_('/mnt/moonfs/dengjiaqi-m2/OSWorld-G/layout_crawling/systhesis/cropped_data_v4/cropped_images/626d430e95662251a9ab56c334a38bc0.png'): can't open/read file: check file path/integrity\n",
      "[ WARN:14@24.620] global loadsave.cpp:241 findDecoder imread_('/mnt/moonfs/dengjiaqi-m2/OSWorld-G/layout_crawling/systhesis/cropped_data_v4/cropped_images/647781509818c9b37380398c17d62d29.png'): can't open/read file: check file path/integrity\n",
      "[ WARN:15@24.622] global loadsave.cpp:241 findDecoder imread_('/mnt/moonfs/dengjiaqi-m2/OSWorld-G/layout_crawling/systhesis/cropped_data_v4/cropped_images/2ed37a0506a80b786ad93fca6f4b7099.png'): can't open/read file: check file path/integrity\n",
      "[ WARN:2@24.627] global loadsave.cpp:241 findDecoder imread_('/mnt/moonfs/dengjiaqi-m2/OSWorld-G/layout_crawling/systhesis/cropped_data_v4/cropped_images/04b35675e256308e02972a31b24bda35.png'): can't open/read file: check file path/integrity\n",
      "[ WARN:9@24.638] global loadsave.cpp:241 findDecoder imread_('/mnt/moonfs/dengjiaqi-m2/OSWorld-G/layout_crawling/systhesis/cropped_data_v4/cropped_images/cba280c42b93124f8a21e26f673c6653.png'): can't open/read file: check file path/integrity\n",
      "[ WARN:16@24.648] global loadsave.cpp:241 findDecoder imread_('/mnt/moonfs/dengjiaqi-m2/OSWorld-G/layout_crawling/systhesis/cropped_data_v4/cropped_images/29d4d3452fd454279656e5503fd26fa5.png'): can't open/read file: check file path/integrity\n",
      "过滤图片:   5%|▍         | 5826/125807 [00:18<04:24, 453.12it/s]"
     ]
    },
    {
     "name": "stdout",
     "output_type": "stream",
     "text": [
      "处理图片 2bbec222e87ad977d437889494e9f3dc.png 时出错: 无法读取图片\n",
      "处理图片 8298a2f923034890e0ac4694b7b4ccc8.png 时出错: 无法读取图片\n",
      "处理图片 387384638686e7892696b4120c313242.png 时出错: 无法读取图片\n",
      "处理图片 ef5db83b1dddac9abdaff6d8bd099386.png 时出错: 无法读取图片\n",
      "处理图片 36813ab5dce80d246f9f3084831fc93e.png 时出错: 无法读取图片\n",
      "处理图片 626d430e95662251a9ab56c334a38bc0.png 时出错: 无法读取图片\n",
      "处理图片 647781509818c9b37380398c17d62d29.png 时出错: 无法读取图片\n",
      "处理图片 2ed37a0506a80b786ad93fca6f4b7099.png 时出错: 无法读取图片\n",
      "处理图片 04b35675e256308e02972a31b24bda35.png 时出错: 无法读取图片\n",
      "处理图片 cba280c42b93124f8a21e26f673c6653.png 时出错: 无法读取图片\n",
      "处理图片 29d4d3452fd454279656e5503fd26fa5.png 时出错: 无法读取图片\n",
      "处理图片 0de91eccefea3aa5c2c4bf1344c535de.png 时出错: 无法读取图片\n",
      "处理图片 b374d4e90147b97514ca47f28d97b938.png 时出错: 无法读取图片\n",
      "处理图片 bb5f66faf490f4258adf65984b40d9e0.png 时出错: 无法读取图片\n",
      "处理图片 0ac3517490b6decf169435c9928a7acc.png 时出错: 无法读取图片\n",
      "处理图片 def4bc81d99346c5aed6e26f291a4ae1.png 时出错: 无法读取图片\n"
     ]
    },
    {
     "name": "stderr",
     "output_type": "stream",
     "text": [
      "[ WARN:17@24.664] global loadsave.cpp:241 findDecoder imread_('/mnt/moonfs/dengjiaqi-m2/OSWorld-G/layout_crawling/systhesis/cropped_data_v4/cropped_images/0de91eccefea3aa5c2c4bf1344c535de.png'): can't open/read file: check file path/integrity\n",
      "[ WARN:1@24.673] global loadsave.cpp:241 findDecoder imread_('/mnt/moonfs/dengjiaqi-m2/OSWorld-G/layout_crawling/systhesis/cropped_data_v4/cropped_images/b374d4e90147b97514ca47f28d97b938.png'): can't open/read file: check file path/integrity\n",
      "[ WARN:2@24.686] global loadsave.cpp:241 findDecoder imread_('/mnt/moonfs/dengjiaqi-m2/OSWorld-G/layout_crawling/systhesis/cropped_data_v4/cropped_images/bb5f66faf490f4258adf65984b40d9e0.png'): can't open/read file: check file path/integrity\n",
      "[ WARN:14@24.700] global loadsave.cpp:241 findDecoder imread_('/mnt/moonfs/dengjiaqi-m2/OSWorld-G/layout_crawling/systhesis/cropped_data_v4/cropped_images/0ac3517490b6decf169435c9928a7acc.png'): can't open/read file: check file path/integrity\n",
      "[ WARN:18@24.709] global loadsave.cpp:241 findDecoder imread_('/mnt/moonfs/dengjiaqi-m2/OSWorld-G/layout_crawling/systhesis/cropped_data_v4/cropped_images/def4bc81d99346c5aed6e26f291a4ae1.png'): can't open/read file: check file path/integrity\n",
      "过滤图片:   5%|▌         | 6332/125807 [00:20<04:56, 402.30it/s][ WARN:17@25.954] global loadsave.cpp:241 findDecoder imread_('/mnt/moonfs/dengjiaqi-m2/OSWorld-G/layout_crawling/systhesis/cropped_data_v4/cropped_images/4e2f05a4f09fbfd374c1b43b03335fbe.png'): can't open/read file: check file path/integrity\n",
      "[ WARN:12@25.963] global loadsave.cpp:241 findDecoder imread_('/mnt/moonfs/dengjiaqi-m2/OSWorld-G/layout_crawling/systhesis/cropped_data_v4/cropped_images/ea53bbd134d9c23262e19e3140ac88f8.png'): can't open/read file: check file path/integrity\n",
      "[ WARN:19@25.990] global loadsave.cpp:241 findDecoder imread_('/mnt/moonfs/dengjiaqi-m2/OSWorld-G/layout_crawling/systhesis/cropped_data_v4/cropped_images/cd5af26b5cb510f28638382638be94a0.png'): can't open/read file: check file path/integrity\n",
      "[ WARN:16@26.010] global loadsave.cpp:241 findDecoder imread_('/mnt/moonfs/dengjiaqi-m2/OSWorld-G/layout_crawling/systhesis/cropped_data_v4/cropped_images/3bdf4c6b360996ac5a02197a76522a08.png'): can't open/read file: check file path/integrity\n",
      "[ WARN:20@26.012] global loadsave.cpp:241 findDecoder imread_('/mnt/moonfs/dengjiaqi-m2/OSWorld-G/layout_crawling/systhesis/cropped_data_v4/cropped_images/0c3ca1aa60e88b392e90fe9ed04ab3e3.png'): can't open/read file: check file path/integrity\n",
      "[ WARN:3@26.014] global loadsave.cpp:241 findDecoder imread_('/mnt/moonfs/dengjiaqi-m2/OSWorld-G/layout_crawling/systhesis/cropped_data_v4/cropped_images/1709205ec9b7376b9c92882799ee0c27.png'): can't open/read file: check file path/integrity\n",
      "[ WARN:21@26.016] global loadsave.cpp:241 findDecoder imread_('/mnt/moonfs/dengjiaqi-m2/OSWorld-G/layout_crawling/systhesis/cropped_data_v4/cropped_images/ac2a405eec7e9395da2efc5640c9b361.png'): can't open/read file: check file path/integrity\n",
      "过滤图片:   5%|▌         | 6375/125807 [00:20<04:59, 399.22it/s][ WARN:22@26.043] global loadsave.cpp:241 findDecoder imread_('/mnt/moonfs/dengjiaqi-m2/OSWorld-G/layout_crawling/systhesis/cropped_data_v4/cropped_images/ad7916bef46ac4ad2f3548345f778722.png'): can't open/read file: check file path/integrity\n",
      "[ WARN:23@26.047] global loadsave.cpp:241 findDecoder imread_('/mnt/moonfs/dengjiaqi-m2/OSWorld-G/layout_crawling/systhesis/cropped_data_v4/cropped_images/8646cdea46ad3398bcaa21b568258e9e.png'): can't open/read file: check file path/integrity\n",
      "[ WARN:24@26.054] global loadsave.cpp:241 findDecoder imread_('/mnt/moonfs/dengjiaqi-m2/OSWorld-G/layout_crawling/systhesis/cropped_data_v4/cropped_images/ae9a1c885a1fafe008b09f645a60c162.png'): can't open/read file: check file path/integrity\n",
      "[ WARN:16@26.061] global loadsave.cpp:241 findDecoder imread_('/mnt/moonfs/dengjiaqi-m2/OSWorld-G/layout_crawling/systhesis/cropped_data_v4/cropped_images/47222238259104593afcb6fe96665dc5.png'): can't open/read file: check file path/integrity\n",
      "[ WARN:8@26.067] global loadsave.cpp:241 findDecoder imread_('/mnt/moonfs/dengjiaqi-m2/OSWorld-G/layout_crawling/systhesis/cropped_data_v4/cropped_images/7937f4690ac3eb19f86b9954d1eef8a8.png'): can't open/read file: check file path/integrity\n",
      "[ WARN:25@26.091] global loadsave.cpp:241 findDecoder imread_('/mnt/moonfs/dengjiaqi-m2/OSWorld-G/layout_crawling/systhesis/cropped_data_v4/cropped_images/29bc3af98e91b227acbc65fd6ccee723.png'): can't open/read file: check file path/integrity\n",
      "[ WARN:17@26.100] global loadsave.cpp:241 findDecoder imread_('/mnt/moonfs/dengjiaqi-m2/OSWorld-G/layout_crawling/systhesis/cropped_data_v4/cropped_images/1e7f92925cc936955b885cb25e6ebef3.png'): can't open/read file: check file path/integrity\n",
      "过滤图片:   5%|▌         | 6443/125807 [00:20<04:26, 448.14it/s]"
     ]
    },
    {
     "name": "stdout",
     "output_type": "stream",
     "text": [
      "处理图片 4e2f05a4f09fbfd374c1b43b03335fbe.png 时出错: 无法读取图片\n",
      "处理图片 ea53bbd134d9c23262e19e3140ac88f8.png 时出错: 无法读取图片\n",
      "处理图片 cd5af26b5cb510f28638382638be94a0.png 时出错: 无法读取图片\n",
      "处理图片 3bdf4c6b360996ac5a02197a76522a08.png 时出错: 无法读取图片\n",
      "处理图片 0c3ca1aa60e88b392e90fe9ed04ab3e3.png 时出错: 无法读取图片\n",
      "处理图片 1709205ec9b7376b9c92882799ee0c27.png 时出错: 无法读取图片\n",
      "处理图片 ac2a405eec7e9395da2efc5640c9b361.png 时出错: 无法读取图片\n",
      "处理图片 ad7916bef46ac4ad2f3548345f778722.png 时出错: 无法读取图片\n",
      "处理图片 8646cdea46ad3398bcaa21b568258e9e.png 时出错: 无法读取图片\n",
      "处理图片 ae9a1c885a1fafe008b09f645a60c162.png 时出错: 无法读取图片\n",
      "处理图片 47222238259104593afcb6fe96665dc5.png 时出错: 无法读取图片\n",
      "处理图片 7937f4690ac3eb19f86b9954d1eef8a8.png 时出错: 无法读取图片\n",
      "处理图片 29bc3af98e91b227acbc65fd6ccee723.png 时出错: 无法读取图片\n",
      "处理图片 1e7f92925cc936955b885cb25e6ebef3.png 时出错: 无法读取图片\n"
     ]
    },
    {
     "name": "stderr",
     "output_type": "stream",
     "text": [
      "过滤图片:   5%|▌         | 6535/125807 [00:20<04:36, 431.42it/s][ WARN:7@26.453] global loadsave.cpp:241 findDecoder imread_('/mnt/moonfs/dengjiaqi-m2/OSWorld-G/layout_crawling/systhesis/cropped_data_v4/cropped_images/8f081fab4e32a8adde3528ca2568d1eb.png'): can't open/read file: check file path/integrity\n",
      "[ WARN:5@26.462] global loadsave.cpp:241 findDecoder imread_('/mnt/moonfs/dengjiaqi-m2/OSWorld-G/layout_crawling/systhesis/cropped_data_v4/cropped_images/8489724303eda7e5e07debf099e96878.png'): can't open/read file: check file path/integrity\n",
      "[ WARN:26@26.478] global loadsave.cpp:241 findDecoder imread_('/mnt/moonfs/dengjiaqi-m2/OSWorld-G/layout_crawling/systhesis/cropped_data_v4/cropped_images/bd1407166c0c3e898c43eb9ea5296cc2.png'): can't open/read file: check file path/integrity\n"
     ]
    },
    {
     "name": "stdout",
     "output_type": "stream",
     "text": [
      "处理图片 8f081fab4e32a8adde3528ca2568d1eb.png 时出错: 无法读取图片\n",
      "处理图片 8489724303eda7e5e07debf099e96878.png 时出错: 无法读取图片\n",
      "处理图片 bd1407166c0c3e898c43eb9ea5296cc2.png 时出错: 无法读取图片\n",
      "处理图片 e481aa1b0755242aa2700010cd0fe8c2.png 时出错: 无法读取图片\n",
      "处理图片 a28a2b5176df41b778dda8d1aed297a9.png 时出错: 无法读取图片\n",
      "处理图片 ecb4e7c35c757737ebd9eb1deac624fb.png 时出错: 无法读取图片\n",
      "处理图片 116d4add2cdc49483ac3f3a9784413aa.png 时出错: 无法读取图片\n",
      "处理图片 4b9b98bf39e6cdbf0662e5ac9512c809.png 时出错: 无法读取图片\n",
      "处理图片 edc67e73fb70e781d4d0d002d6e0669f.png 时出错: 无法读取图片\n",
      "处理图片 18bc3dca9569046e7481b358c24e6a8b.png 时出错: 无法读取图片\n",
      "处理图片 9f713bfc1d387dfc13241c0009f9b13d.png 时出错: 无法读取图片\n",
      "处理图片 a7eede96936260b8fb6a4549d7b6d5f4.png 时出错: 无法读取图片\n",
      "处理图片 28b23739fbe2fc056492fdf31b951d72.png 时出错: 无法读取图片\n",
      "处理图片 1efa954d5878e6da6ed0c7a00626092c.png 时出错: 无法读取图片\n"
     ]
    },
    {
     "name": "stderr",
     "output_type": "stream",
     "text": [
      "[ WARN:17@27.381] global loadsave.cpp:241 findDecoder imread_('/mnt/moonfs/dengjiaqi-m2/OSWorld-G/layout_crawling/systhesis/cropped_data_v4/cropped_images/e481aa1b0755242aa2700010cd0fe8c2.png'): can't open/read file: check file path/integrity\n",
      "[ WARN:27@27.383] global loadsave.cpp:241 findDecoder imread_('/mnt/moonfs/dengjiaqi-m2/OSWorld-G/layout_crawling/systhesis/cropped_data_v4/cropped_images/a28a2b5176df41b778dda8d1aed297a9.png'): can't open/read file: check file path/integrity\n",
      "[ WARN:19@27.392] global loadsave.cpp:241 findDecoder imread_('/mnt/moonfs/dengjiaqi-m2/OSWorld-G/layout_crawling/systhesis/cropped_data_v4/cropped_images/ecb4e7c35c757737ebd9eb1deac624fb.png'): can't open/read file: check file path/integrity\n",
      "[ WARN:1@27.394] global loadsave.cpp:241 findDecoder imread_('/mnt/moonfs/dengjiaqi-m2/OSWorld-G/layout_crawling/systhesis/cropped_data_v4/cropped_images/116d4add2cdc49483ac3f3a9784413aa.png'): can't open/read file: check file path/integrity\n",
      "[ WARN:18@27.401] global loadsave.cpp:241 findDecoder imread_('/mnt/moonfs/dengjiaqi-m2/OSWorld-G/layout_crawling/systhesis/cropped_data_v4/cropped_images/4b9b98bf39e6cdbf0662e5ac9512c809.png'): can't open/read file: check file path/integrity\n",
      "[ WARN:14@27.412] global loadsave.cpp:241 findDecoder imread_('/mnt/moonfs/dengjiaqi-m2/OSWorld-G/layout_crawling/systhesis/cropped_data_v4/cropped_images/edc67e73fb70e781d4d0d002d6e0669f.png'): can't open/read file: check file path/integrity\n",
      "[ WARN:23@27.437] global loadsave.cpp:241 findDecoder imread_('/mnt/moonfs/dengjiaqi-m2/OSWorld-G/layout_crawling/systhesis/cropped_data_v4/cropped_images/18bc3dca9569046e7481b358c24e6a8b.png'): can't open/read file: check file path/integrity\n",
      "[ WARN:19@27.448] global loadsave.cpp:241 findDecoder imread_('/mnt/moonfs/dengjiaqi-m2/OSWorld-G/layout_crawling/systhesis/cropped_data_v4/cropped_images/9f713bfc1d387dfc13241c0009f9b13d.png'): can't open/read file: check file path/integrity\n",
      "[ WARN:10@27.452] global loadsave.cpp:241 findDecoder imread_('/mnt/moonfs/dengjiaqi-m2/OSWorld-G/layout_crawling/systhesis/cropped_data_v4/cropped_images/a7eede96936260b8fb6a4549d7b6d5f4.png'): can't open/read file: check file path/integrity\n",
      "[ WARN:17@27.479] global loadsave.cpp:241 findDecoder imread_('/mnt/moonfs/dengjiaqi-m2/OSWorld-G/layout_crawling/systhesis/cropped_data_v4/cropped_images/28b23739fbe2fc056492fdf31b951d72.png'): can't open/read file: check file path/integrity\n",
      "[ WARN:12@27.488] global loadsave.cpp:241 findDecoder imread_('/mnt/moonfs/dengjiaqi-m2/OSWorld-G/layout_crawling/systhesis/cropped_data_v4/cropped_images/1efa954d5878e6da6ed0c7a00626092c.png'): can't open/read file: check file path/integrity\n",
      "过滤图片:   6%|▌         | 7154/125807 [00:22<05:28, 361.63it/s][ WARN:2@28.677] global loadsave.cpp:241 findDecoder imread_('/mnt/moonfs/dengjiaqi-m2/OSWorld-G/layout_crawling/systhesis/cropped_data_v4/cropped_images/58df0f0788b2b6061fbcc89d966f067d.png'): can't open/read file: check file path/integrity\n",
      "[ WARN:1@28.680] global loadsave.cpp:241 findDecoder imread_('/mnt/moonfs/dengjiaqi-m2/OSWorld-G/layout_crawling/systhesis/cropped_data_v4/cropped_images/031d605efbd4e3ec4c3cbb26a1aabc9d.png'): can't open/read file: check file path/integrity\n",
      "[ WARN:9@28.701] global loadsave.cpp:241 findDecoder imread_('/mnt/moonfs/dengjiaqi-m2/OSWorld-G/layout_crawling/systhesis/cropped_data_v4/cropped_images/8987cb976329bc883789c6e28d4dd882.png'): can't open/read file: check file path/integrity\n",
      "[ WARN:12@28.710] global loadsave.cpp:241 findDecoder imread_('/mnt/moonfs/dengjiaqi-m2/OSWorld-G/layout_crawling/systhesis/cropped_data_v4/cropped_images/91081c2ded18293e3f8102495dcd2bb6.png'): can't open/read file: check file path/integrity\n",
      "[ WARN:17@28.712] global loadsave.cpp:241 findDecoder imread_('/mnt/moonfs/dengjiaqi-m2/OSWorld-G/layout_crawling/systhesis/cropped_data_v4/cropped_images/0c93d103452b36671b1d9783eef2de19.png'): can't open/read file: check file path/integrity\n",
      "[ WARN:13@28.725] global loadsave.cpp:241 findDecoder imread_('/mnt/moonfs/dengjiaqi-m2/OSWorld-G/layout_crawling/systhesis/cropped_data_v4/cropped_images/4a9bbc3f60d679b343b10e9a2450deb5.png'): can't open/read file: check file path/integrity\n",
      "[ WARN:24@28.736] global loadsave.cpp:241 findDecoder imread_('/mnt/moonfs/dengjiaqi-m2/OSWorld-G/layout_crawling/systhesis/cropped_data_v4/cropped_images/ad9a204eb93743aaeb5a4eaa0e7d1da5.png'): can't open/read file: check file path/integrity\n",
      "[ WARN:28@28.745] global loadsave.cpp:241 findDecoder imread_('/mnt/moonfs/dengjiaqi-m2/OSWorld-G/layout_crawling/systhesis/cropped_data_v4/cropped_images/2f09a268421ab5e63d052afee409f9b5.png'): can't open/read file: check file path/integrity\n",
      "[ WARN:8@28.757] global loadsave.cpp:241 findDecoder imread_('/mnt/moonfs/dengjiaqi-m2/OSWorld-G/layout_crawling/systhesis/cropped_data_v4/cropped_images/95dedb7ef27c6a0da1466cfa1d159fc5.png'): can't open/read file: check file path/integrity\n",
      "[ WARN:22@28.761] global loadsave.cpp:241 findDecoder imread_('/mnt/moonfs/dengjiaqi-m2/OSWorld-G/layout_crawling/systhesis/cropped_data_v4/cropped_images/221ab95a87598fa6f4abbb9c0ac5ae66.png'): can't open/read file: check file path/integrity\n",
      "[ WARN:16@28.771] global loadsave.cpp:241 findDecoder imread_('/mnt/moonfs/dengjiaqi-m2/OSWorld-G/layout_crawling/systhesis/cropped_data_v4/cropped_images/74bc3583141f336970c81e07f9616811.png'): can't open/read file: check file path/integrity\n",
      "[ WARN:21@28.802] global loadsave.cpp:241 findDecoder imread_('/mnt/moonfs/dengjiaqi-m2/OSWorld-G/layout_crawling/systhesis/cropped_data_v4/cropped_images/13ba9748120958a3566317a65f724b85.png'): can't open/read file: check file path/integrity\n",
      "[ WARN:2@28.811] global loadsave.cpp:241 findDecoder imread_('/mnt/moonfs/dengjiaqi-m2/OSWorld-G/layout_crawling/systhesis/cropped_data_v4/cropped_images/0e400b4146f3cfa71a02d8b1fd6f5019.png'): can't open/read file: check file path/integrity\n",
      "[ WARN:11@28.813] global loadsave.cpp:241 findDecoder imread_('/mnt/moonfs/dengjiaqi-m2/OSWorld-G/layout_crawling/systhesis/cropped_data_v4/cropped_images/7d21e6478e4f8028560160714094f862.png'): can't open/read file: check file path/integrity\n",
      "[ WARN:5@28.833] global loadsave.cpp:241 findDecoder imread_('/mnt/moonfs/dengjiaqi-m2/OSWorld-G/layout_crawling/systhesis/cropped_data_v4/cropped_images/8502a79cd483606b7e6db41cc013f92f.png'): can't open/read file: check file path/integrity\n",
      "[ WARN:18@28.838] global loadsave.cpp:241 findDecoder imread_('/mnt/moonfs/dengjiaqi-m2/OSWorld-G/layout_crawling/systhesis/cropped_data_v4/cropped_images/12240598c6735abe0caa9958ab2c0749.png'): can't open/read file: check file path/integrity\n",
      "过滤图片:   6%|▌         | 7234/125807 [00:23<05:22, 367.15it/s]"
     ]
    },
    {
     "name": "stdout",
     "output_type": "stream",
     "text": [
      "处理图片 58df0f0788b2b6061fbcc89d966f067d.png 时出错: 无法读取图片\n",
      "处理图片 031d605efbd4e3ec4c3cbb26a1aabc9d.png 时出错: 无法读取图片\n",
      "处理图片 8987cb976329bc883789c6e28d4dd882.png 时出错: 无法读取图片\n",
      "处理图片 91081c2ded18293e3f8102495dcd2bb6.png 时出错: 无法读取图片\n",
      "处理图片 0c93d103452b36671b1d9783eef2de19.png 时出错: 无法读取图片\n",
      "处理图片 4a9bbc3f60d679b343b10e9a2450deb5.png 时出错: 无法读取图片\n",
      "处理图片 ad9a204eb93743aaeb5a4eaa0e7d1da5.png 时出错: 无法读取图片\n",
      "处理图片 2f09a268421ab5e63d052afee409f9b5.png 时出错: 无法读取图片\n",
      "处理图片 95dedb7ef27c6a0da1466cfa1d159fc5.png 时出错: 无法读取图片\n",
      "处理图片 221ab95a87598fa6f4abbb9c0ac5ae66.png 时出错: 无法读取图片\n",
      "处理图片 74bc3583141f336970c81e07f9616811.png 时出错: 无法读取图片\n",
      "处理图片 13ba9748120958a3566317a65f724b85.png 时出错: 无法读取图片\n",
      "处理图片 0e400b4146f3cfa71a02d8b1fd6f5019.png 时出错: 无法读取图片\n",
      "处理图片 7d21e6478e4f8028560160714094f862.png 时出错: 无法读取图片\n",
      "处理图片 8502a79cd483606b7e6db41cc013f92f.png 时出错: 无法读取图片\n",
      "处理图片 12240598c6735abe0caa9958ab2c0749.png 时出错: 无法读取图片\n"
     ]
    },
    {
     "name": "stderr",
     "output_type": "stream",
     "text": [
      "过滤图片:   6%|▌         | 7800/125807 [00:24<04:43, 416.57it/s][ WARN:14@30.253] global loadsave.cpp:241 findDecoder imread_('/mnt/moonfs/dengjiaqi-m2/OSWorld-G/layout_crawling/systhesis/cropped_data_v4/cropped_images/264e49bed0764c93166effae2370ed33.png'): can't open/read file: check file path/integrity\n",
      "[ WARN:18@30.259] global loadsave.cpp:241 findDecoder imread_('/mnt/moonfs/dengjiaqi-m2/OSWorld-G/layout_crawling/systhesis/cropped_data_v4/cropped_images/4d4570cd53b3d069bfcb497442a4219d.png'): can't open/read file: check file path/integrity\n",
      "[ WARN:29@30.275] global loadsave.cpp:241 findDecoder imread_('/mnt/moonfs/dengjiaqi-m2/OSWorld-G/layout_crawling/systhesis/cropped_data_v4/cropped_images/0a6f9575d914e0a97e523aad972f1817.png'): can't open/read file: check file path/integrity\n",
      "[ WARN:8@30.284] global loadsave.cpp:241 findDecoder imread_('/mnt/moonfs/dengjiaqi-m2/OSWorld-G/layout_crawling/systhesis/cropped_data_v4/cropped_images/e63f384f97c03e2cd045a6da3abae2da.png'): can't open/read file: check file path/integrity\n",
      "[ WARN:24@30.286] global loadsave.cpp:241 findDecoder imread_('/mnt/moonfs/dengjiaqi-m2/OSWorld-G/layout_crawling/systhesis/cropped_data_v4/cropped_images/fa9d778d573ebfcc7107745c93f0a708.png'): can't open/read file: check file path/integrity\n",
      "过滤图片:   6%|▌         | 7854/125807 [00:24<04:24, 445.87it/s][ WARN:3@30.290] global loadsave.cpp:241 findDecoder imread_('/mnt/moonfs/dengjiaqi-m2/OSWorld-G/layout_crawling/systhesis/cropped_data_v4/cropped_images/7ed8a25d57e9a5fb3b943df16ae06ea2.png'): can't open/read file: check file path/integrity\n",
      "[ WARN:30@30.330] global loadsave.cpp:241 findDecoder imread_('/mnt/moonfs/dengjiaqi-m2/OSWorld-G/layout_crawling/systhesis/cropped_data_v4/cropped_images/b0cdd79f93608302c25cd9f04027143b.png'): can't open/read file: check file path/integrity\n",
      "[ WARN:23@30.332] global loadsave.cpp:241 findDecoder imread_('/mnt/moonfs/dengjiaqi-m2/OSWorld-G/layout_crawling/systhesis/cropped_data_v4/cropped_images/19a35c10ce91b5147794d2a666261586.png'): can't open/read file: check file path/integrity\n",
      "[ WARN:5@30.341] global loadsave.cpp:241 findDecoder imread_('/mnt/moonfs/dengjiaqi-m2/OSWorld-G/layout_crawling/systhesis/cropped_data_v4/cropped_images/c8a218fb86d73f431988730e18aa8ce8.png'): can't open/read file: check file path/integrity\n",
      "[ WARN:10@30.347] global loadsave.cpp:241 findDecoder imread_('/mnt/moonfs/dengjiaqi-m2/OSWorld-G/layout_crawling/systhesis/cropped_data_v4/cropped_images/4c7d18627f017a02057a29eb70bb6bbd.png'): can't open/read file: check file path/integrity\n",
      "[ WARN:19@30.356] global loadsave.cpp:241 findDecoder imread_('/mnt/moonfs/dengjiaqi-m2/OSWorld-G/layout_crawling/systhesis/cropped_data_v4/cropped_images/2654f727c6d8d45092a4565a2b5dc5a3.png'): can't open/read file: check file path/integrity\n",
      "[ WARN:28@30.362] global loadsave.cpp:241 findDecoder imread_('/mnt/moonfs/dengjiaqi-m2/OSWorld-G/layout_crawling/systhesis/cropped_data_v4/cropped_images/24dc4122275fe5e1ae4a2b90cb0fb49f.png'): can't open/read file: check file path/integrity\n",
      "[ WARN:12@30.369] global loadsave.cpp:241 findDecoder imread_('/mnt/moonfs/dengjiaqi-m2/OSWorld-G/layout_crawling/systhesis/cropped_data_v4/cropped_images/74405e96b01b181c3795d0175255f60a.png'): can't open/read file: check file path/integrity\n",
      "[ WARN:29@30.391] global loadsave.cpp:241 findDecoder imread_('/mnt/moonfs/dengjiaqi-m2/OSWorld-G/layout_crawling/systhesis/cropped_data_v4/cropped_images/368d6aff60986c374b753c6c234d87ba.png'): can't open/read file: check file path/integrity\n",
      "过滤图片:   6%|▋         | 7901/125807 [00:24<04:25, 443.31it/s]"
     ]
    },
    {
     "name": "stdout",
     "output_type": "stream",
     "text": [
      "处理图片 264e49bed0764c93166effae2370ed33.png 时出错: 无法读取图片\n",
      "处理图片 4d4570cd53b3d069bfcb497442a4219d.png 时出错: 无法读取图片\n",
      "处理图片 0a6f9575d914e0a97e523aad972f1817.png 时出错: 无法读取图片\n",
      "处理图片 e63f384f97c03e2cd045a6da3abae2da.png 时出错: 无法读取图片\n",
      "处理图片 fa9d778d573ebfcc7107745c93f0a708.png 时出错: 无法读取图片\n",
      "处理图片 7ed8a25d57e9a5fb3b943df16ae06ea2.png 时出错: 无法读取图片\n",
      "处理图片 b0cdd79f93608302c25cd9f04027143b.png 时出错: 无法读取图片\n",
      "处理图片 19a35c10ce91b5147794d2a666261586.png 时出错: 无法读取图片\n",
      "处理图片 c8a218fb86d73f431988730e18aa8ce8.png 时出错: 无法读取图片\n",
      "处理图片 4c7d18627f017a02057a29eb70bb6bbd.png 时出错: 无法读取图片\n",
      "处理图片 2654f727c6d8d45092a4565a2b5dc5a3.png 时出错: 无法读取图片\n",
      "处理图片 24dc4122275fe5e1ae4a2b90cb0fb49f.png 时出错: 无法读取图片\n",
      "处理图片 74405e96b01b181c3795d0175255f60a.png 时出错: 无法读取图片\n",
      "处理图片 368d6aff60986c374b753c6c234d87ba.png 时出错: 无法读取图片\n"
     ]
    },
    {
     "name": "stderr",
     "output_type": "stream",
     "text": [
      "过滤图片:   7%|▋         | 9232/125807 [00:27<04:28, 433.67it/s][ WARN:22@33.980] global loadsave.cpp:241 findDecoder imread_('/mnt/moonfs/dengjiaqi-m2/OSWorld-G/layout_crawling/systhesis/cropped_data_v4/cropped_images/2f08ad33ff6767f025e69eaf2dc7e3cb.png'): can't open/read file: check file path/integrity\n",
      "[ WARN:7@33.986] global loadsave.cpp:241 findDecoder imread_('/mnt/moonfs/dengjiaqi-m2/OSWorld-G/layout_crawling/systhesis/cropped_data_v4/cropped_images/c18f0f54a00eece443567fc5abbaf530.png'): can't open/read file: check file path/integrity\n",
      "过滤图片:   7%|▋         | 9276/125807 [00:28<09:03, 214.52it/s][ WARN:13@34.020] global loadsave.cpp:241 findDecoder imread_('/mnt/moonfs/dengjiaqi-m2/OSWorld-G/layout_crawling/systhesis/cropped_data_v4/cropped_images/a183b294c1059c5bb172dbcae3108387.png'): can't open/read file: check file path/integrity\n",
      "[ WARN:22@34.025] global loadsave.cpp:241 findDecoder imread_('/mnt/moonfs/dengjiaqi-m2/OSWorld-G/layout_crawling/systhesis/cropped_data_v4/cropped_images/e436bf5f30295d2bf32b6a41663a2e96.png'): can't open/read file: check file path/integrity\n",
      "[ WARN:9@34.034] global loadsave.cpp:241 findDecoder imread_('/mnt/moonfs/dengjiaqi-m2/OSWorld-G/layout_crawling/systhesis/cropped_data_v4/cropped_images/987f67d6932620645754101d08d9ab97.png'): can't open/read file: check file path/integrity\n",
      "[ WARN:26@34.043] global loadsave.cpp:241 findDecoder imread_('/mnt/moonfs/dengjiaqi-m2/OSWorld-G/layout_crawling/systhesis/cropped_data_v4/cropped_images/2c1ec7e8d45cae6d6b205b9b49f066ce.png'): can't open/read file: check file path/integrity\n",
      "[ WARN:7@34.065] global loadsave.cpp:241 findDecoder imread_('/mnt/moonfs/dengjiaqi-m2/OSWorld-G/layout_crawling/systhesis/cropped_data_v4/cropped_images/d20d93140e761932228b0549a8348a85.png'): can't open/read file: check file path/integrity\n",
      "[ WARN:19@34.070] global loadsave.cpp:241 findDecoder imread_('/mnt/moonfs/dengjiaqi-m2/OSWorld-G/layout_crawling/systhesis/cropped_data_v4/cropped_images/e18d548c28413864641ac17836f5d8d5.png'): can't open/read file: check file path/integrity\n",
      "[ WARN:18@34.079] global loadsave.cpp:241 findDecoder imread_('/mnt/moonfs/dengjiaqi-m2/OSWorld-G/layout_crawling/systhesis/cropped_data_v4/cropped_images/68f7330091140c91d7acc40518fd4ccd.png'): can't open/read file: check file path/integrity\n",
      "[ WARN:4@34.081] global loadsave.cpp:241 findDecoder imread_('/mnt/moonfs/dengjiaqi-m2/OSWorld-G/layout_crawling/systhesis/cropped_data_v4/cropped_images/6eca98f5bf25a449b64fb4294cdc1487.png'): can't open/read file: check file path/integrity\n",
      "[ WARN:5@34.092] global loadsave.cpp:241 findDecoder imread_('/mnt/moonfs/dengjiaqi-m2/OSWorld-G/layout_crawling/systhesis/cropped_data_v4/cropped_images/3d52796979cf5cb8dbcf83312ee6f9c4.png'): can't open/read file: check file path/integrity\n",
      "[ WARN:13@34.099] global loadsave.cpp:241 findDecoder imread_('/mnt/moonfs/dengjiaqi-m2/OSWorld-G/layout_crawling/systhesis/cropped_data_v4/cropped_images/20f64c55ae4d719bb48e0fcf0e1e7d6e.png'): can't open/read file: check file path/integrity\n",
      "[ WARN:7@34.119] global loadsave.cpp:241 findDecoder imread_('/mnt/moonfs/dengjiaqi-m2/OSWorld-G/layout_crawling/systhesis/cropped_data_v4/cropped_images/5430dcce44c9c72cd756f142b9b23c41.png'): can't open/read file: check file path/integrity\n",
      "[ WARN:29@34.121] global loadsave.cpp:241 findDecoder imread_('/mnt/moonfs/dengjiaqi-m2/OSWorld-G/layout_crawling/systhesis/cropped_data_v4/cropped_images/ae7f9095934964c58a5588188290ca65.png'): can't open/read file: check file path/integrity\n",
      "过滤图片:   8%|▊         | 9499/125807 [00:28<03:48, 508.82it/s]"
     ]
    },
    {
     "name": "stdout",
     "output_type": "stream",
     "text": [
      "处理图片 2f08ad33ff6767f025e69eaf2dc7e3cb.png 时出错: 无法读取图片\n",
      "处理图片 c18f0f54a00eece443567fc5abbaf530.png 时出错: 无法读取图片\n",
      "处理图片 a183b294c1059c5bb172dbcae3108387.png 时出错: 无法读取图片\n",
      "处理图片 e436bf5f30295d2bf32b6a41663a2e96.png 时出错: 无法读取图片\n",
      "处理图片 987f67d6932620645754101d08d9ab97.png 时出错: 无法读取图片\n",
      "处理图片 2c1ec7e8d45cae6d6b205b9b49f066ce.png 时出错: 无法读取图片\n",
      "处理图片 d20d93140e761932228b0549a8348a85.png 时出错: 无法读取图片\n",
      "处理图片 e18d548c28413864641ac17836f5d8d5.png 时出错: 无法读取图片\n",
      "处理图片 68f7330091140c91d7acc40518fd4ccd.png 时出错: 无法读取图片\n",
      "处理图片 6eca98f5bf25a449b64fb4294cdc1487.png 时出错: 无法读取图片\n",
      "处理图片 3d52796979cf5cb8dbcf83312ee6f9c4.png 时出错: 无法读取图片\n",
      "处理图片 20f64c55ae4d719bb48e0fcf0e1e7d6e.png 时出错: 无法读取图片\n",
      "处理图片 5430dcce44c9c72cd756f142b9b23c41.png 时出错: 无法读取图片\n",
      "处理图片 ae7f9095934964c58a5588188290ca65.png 时出错: 无法读取图片\n",
      "处理图片 6c24b57df301b60d76444cdce27849ec.png 时出错: 无法读取图片\n",
      "处理图片 0d4079f144a22bc49a66691b0acef247.png 时出错: 无法读取图片\n"
     ]
    },
    {
     "name": "stderr",
     "output_type": "stream",
     "text": [
      "[ WARN:27@34.133] global loadsave.cpp:241 findDecoder imread_('/mnt/moonfs/dengjiaqi-m2/OSWorld-G/layout_crawling/systhesis/cropped_data_v4/cropped_images/6c24b57df301b60d76444cdce27849ec.png'): can't open/read file: check file path/integrity\n",
      "[ WARN:1@34.160] global loadsave.cpp:241 findDecoder imread_('/mnt/moonfs/dengjiaqi-m2/OSWorld-G/layout_crawling/systhesis/cropped_data_v4/cropped_images/0d4079f144a22bc49a66691b0acef247.png'): can't open/read file: check file path/integrity\n",
      "[ WARN:11@34.191] global loadsave.cpp:241 findDecoder imread_('/mnt/moonfs/dengjiaqi-m2/OSWorld-G/layout_crawling/systhesis/cropped_data_v4/cropped_images/a9dfa44b61870a1ccdf1770632ba7792.png'): can't open/read file: check file path/integrity\n",
      "[ WARN:23@34.223] global loadsave.cpp:241 findDecoder imread_('/mnt/moonfs/dengjiaqi-m2/OSWorld-G/layout_crawling/systhesis/cropped_data_v4/cropped_images/91732f91392e75a791d29b9f379ebdba.png'): can't open/read file: check file path/integrity\n",
      "[ WARN:8@34.237] global loadsave.cpp:241 findDecoder imread_('/mnt/moonfs/dengjiaqi-m2/OSWorld-G/layout_crawling/systhesis/cropped_data_v4/cropped_images/3b451983914ef658cafb76decc446b0b.png'): can't open/read file: check file path/integrity\n",
      "[ WARN:17@34.241] global loadsave.cpp:241 findDecoder imread_('/mnt/moonfs/dengjiaqi-m2/OSWorld-G/layout_crawling/systhesis/cropped_data_v4/cropped_images/2012b7502cf847bd390d7df7800708f9.png'): can't open/read file: check file path/integrity\n",
      "[ WARN:1@34.244] global loadsave.cpp:241 findDecoder imread_('/mnt/moonfs/dengjiaqi-m2/OSWorld-G/layout_crawling/systhesis/cropped_data_v4/cropped_images/ba89e097f61c407c158dc0bcd77fa0ca.png'): can't open/read file: check file path/integrity\n",
      "[ WARN:25@34.266] global loadsave.cpp:241 findDecoder imread_('/mnt/moonfs/dengjiaqi-m2/OSWorld-G/layout_crawling/systhesis/cropped_data_v4/cropped_images/29ac7da51b9aee15a13651058aff61bd.png'): can't open/read file: check file path/integrity\n",
      "[ WARN:18@34.295] global loadsave.cpp:241 findDecoder imread_('/mnt/moonfs/dengjiaqi-m2/OSWorld-G/layout_crawling/systhesis/cropped_data_v4/cropped_images/135dc4dd721e1f607e2fd34dd8239442.png'): can't open/read file: check file path/integrity\n",
      "[ WARN:22@34.301] global loadsave.cpp:241 findDecoder imread_('/mnt/moonfs/dengjiaqi-m2/OSWorld-G/layout_crawling/systhesis/cropped_data_v4/cropped_images/446e3b0b26ce2a6e7bfeba8ce3c2b1cc.png'): can't open/read file: check file path/integrity\n",
      "[ WARN:30@34.306] global loadsave.cpp:241 findDecoder imread_('/mnt/moonfs/dengjiaqi-m2/OSWorld-G/layout_crawling/systhesis/cropped_data_v4/cropped_images/e85a7c6e38224ae266f1cb60a9b9274a.png'): can't open/read file: check file path/integrity\n",
      "[ WARN:2@34.315] global loadsave.cpp:241 findDecoder imread_('/mnt/moonfs/dengjiaqi-m2/OSWorld-G/layout_crawling/systhesis/cropped_data_v4/cropped_images/a5e701a1125d879fa9edd2bfd35dd357.png'): can't open/read file: check file path/integrity\n",
      "[ WARN:25@34.328] global loadsave.cpp:241 findDecoder imread_('/mnt/moonfs/dengjiaqi-m2/OSWorld-G/layout_crawling/systhesis/cropped_data_v4/cropped_images/c9df4436e5b3339a7661dae127ef72d1.png'): can't open/read file: check file path/integrity\n",
      "[ WARN:13@34.330] global loadsave.cpp:241 findDecoder imread_('/mnt/moonfs/dengjiaqi-m2/OSWorld-G/layout_crawling/systhesis/cropped_data_v4/cropped_images/7996f92e7ddac48679cd907839cd467a.png'): can't open/read file: check file path/integrity\n"
     ]
    },
    {
     "name": "stdout",
     "output_type": "stream",
     "text": [
      "处理图片 a9dfa44b61870a1ccdf1770632ba7792.png 时出错: 无法读取图片\n",
      "处理图片 91732f91392e75a791d29b9f379ebdba.png 时出错: 无法读取图片\n",
      "处理图片 3b451983914ef658cafb76decc446b0b.png 时出错: 无法读取图片\n",
      "处理图片 2012b7502cf847bd390d7df7800708f9.png 时出错: 无法读取图片\n",
      "处理图片 ba89e097f61c407c158dc0bcd77fa0ca.png 时出错: 无法读取图片\n",
      "处理图片 29ac7da51b9aee15a13651058aff61bd.png 时出错: 无法读取图片\n",
      "处理图片 135dc4dd721e1f607e2fd34dd8239442.png 时出错: 无法读取图片\n",
      "处理图片 446e3b0b26ce2a6e7bfeba8ce3c2b1cc.png 时出错: 无法读取图片\n",
      "处理图片 e85a7c6e38224ae266f1cb60a9b9274a.png 时出错: 无法读取图片\n",
      "处理图片 a5e701a1125d879fa9edd2bfd35dd357.png 时出错: 无法读取图片\n",
      "处理图片 c9df4436e5b3339a7661dae127ef72d1.png 时出错: 无法读取图片\n",
      "处理图片 7996f92e7ddac48679cd907839cd467a.png 时出错: 无法读取图片\n",
      "处理图片 1ac06f7b33c40bfe1791390177b2ac86.png 时出错: 无法读取图片\n",
      "处理图片 8e496bafb948c5f13f1983136ca1b261.png 时出错: 无法读取图片\n",
      "处理图片 ef9e6be07d3c25da3b2a853388a44cb4.png 时出错: 无法读取图片\n"
     ]
    },
    {
     "name": "stderr",
     "output_type": "stream",
     "text": [
      "[ WARN:23@34.348] global loadsave.cpp:241 findDecoder imread_('/mnt/moonfs/dengjiaqi-m2/OSWorld-G/layout_crawling/systhesis/cropped_data_v4/cropped_images/1ac06f7b33c40bfe1791390177b2ac86.png'): can't open/read file: check file path/integrity\n",
      "[ WARN:1@34.352] global loadsave.cpp:241 findDecoder imread_('/mnt/moonfs/dengjiaqi-m2/OSWorld-G/layout_crawling/systhesis/cropped_data_v4/cropped_images/8e496bafb948c5f13f1983136ca1b261.png'): can't open/read file: check file path/integrity\n",
      "[ WARN:8@34.361] global loadsave.cpp:241 findDecoder imread_('/mnt/moonfs/dengjiaqi-m2/OSWorld-G/layout_crawling/systhesis/cropped_data_v4/cropped_images/ef9e6be07d3c25da3b2a853388a44cb4.png'): can't open/read file: check file path/integrity\n",
      "[ WARN:24@34.426] global loadsave.cpp:241 findDecoder imread_('/mnt/moonfs/dengjiaqi-m2/OSWorld-G/layout_crawling/systhesis/cropped_data_v4/cropped_images/2cb2758da044a1f387ebe941939ce5e9.png'): can't open/read file: check file path/integrity\n",
      "过滤图片:   8%|▊         | 9575/125807 [00:28<05:49, 332.19it/s]"
     ]
    },
    {
     "name": "stdout",
     "output_type": "stream",
     "text": [
      "处理图片 2cb2758da044a1f387ebe941939ce5e9.png 时出错: 无法读取图片\n"
     ]
    },
    {
     "name": "stderr",
     "output_type": "stream",
     "text": [
      "过滤图片:  23%|██▎       | 29314/125807 [01:22<03:40, 437.84it/s][ WARN:0@88.501] global loadsave.cpp:241 findDecoder imread_('/mnt/moonfs/dengjiaqi-m2/OSWorld-G/layout_crawling/systhesis/cropped_data_v4/cropped_images/74623c08d74c0973184f813390e603bb.png'): can't open/read file: check file path/integrity\n",
      "过滤图片:  23%|██▎       | 29364/125807 [01:22<04:56, 325.13it/s][ WARN:4@88.520] global loadsave.cpp:241 findDecoder imread_('/mnt/moonfs/dengjiaqi-m2/OSWorld-G/layout_crawling/systhesis/cropped_data_v4/cropped_images/59aee74a3564ac0488ae541fd4ca7bc2.png'): can't open/read file: check file path/integrity\n",
      "[ WARN:2@88.555] global loadsave.cpp:241 findDecoder imread_('/mnt/moonfs/dengjiaqi-m2/OSWorld-G/layout_crawling/systhesis/cropped_data_v4/cropped_images/241e81cf8dd2c8ca7e9b8e1383637205.png'): can't open/read file: check file path/integrity\n",
      "过滤图片:  23%|██▎       | 29487/125807 [01:22<03:21, 478.18it/s]"
     ]
    },
    {
     "name": "stdout",
     "output_type": "stream",
     "text": [
      "处理图片 74623c08d74c0973184f813390e603bb.png 时出错: 无法读取图片\n",
      "处理图片 59aee74a3564ac0488ae541fd4ca7bc2.png 时出错: 无法读取图片\n",
      "处理图片 241e81cf8dd2c8ca7e9b8e1383637205.png 时出错: 无法读取图片\n"
     ]
    },
    {
     "name": "stderr",
     "output_type": "stream",
     "text": [
      "过滤图片:  24%|██▎       | 29666/125807 [01:23<03:43, 429.61it/s][ WARN:7@89.139] global loadsave.cpp:241 findDecoder imread_('/mnt/moonfs/dengjiaqi-m2/OSWorld-G/layout_crawling/systhesis/cropped_data_v4/cropped_images/5274d41dc71973fa6d979bda6a764dd6.png'): can't open/read file: check file path/integrity\n",
      "[ WARN:22@89.149] global loadsave.cpp:241 findDecoder imread_('/mnt/moonfs/dengjiaqi-m2/OSWorld-G/layout_crawling/systhesis/cropped_data_v4/cropped_images/80a8e76ea38ca18646e3b0bd77e8b812.png'): can't open/read file: check file path/integrity\n",
      "[ WARN:4@89.162] global loadsave.cpp:241 findDecoder imread_('/mnt/moonfs/dengjiaqi-m2/OSWorld-G/layout_crawling/systhesis/cropped_data_v4/cropped_images/8e5f7672f00dbf70100173215a1547ba.png'): can't open/read file: check file path/integrity\n",
      "过滤图片:  24%|██▎       | 29715/125807 [01:23<03:57, 405.30it/s]"
     ]
    },
    {
     "name": "stdout",
     "output_type": "stream",
     "text": [
      "处理图片 5274d41dc71973fa6d979bda6a764dd6.png 时出错: 无法读取图片\n",
      "处理图片 80a8e76ea38ca18646e3b0bd77e8b812.png 时出错: 无法读取图片\n",
      "处理图片 8e5f7672f00dbf70100173215a1547ba.png 时出错: 无法读取图片\n"
     ]
    },
    {
     "name": "stderr",
     "output_type": "stream",
     "text": [
      "过滤图片:  24%|██▍       | 30318/125807 [01:24<03:22, 471.83it/s][ WARN:3@90.803] global loadsave.cpp:241 findDecoder imread_('/mnt/moonfs/dengjiaqi-m2/OSWorld-G/layout_crawling/systhesis/cropped_data_v4/cropped_images/a74ba4c482c435111219a07d1ce1051e.png'): can't open/read file: check file path/integrity\n",
      "[ WARN:12@90.823] global loadsave.cpp:241 findDecoder imread_('/mnt/moonfs/dengjiaqi-m2/OSWorld-G/layout_crawling/systhesis/cropped_data_v4/cropped_images/99124682ff65b19d39828e89c317cac0.png'): can't open/read file: check file path/integrity\n",
      "[ WARN:25@90.825] global loadsave.cpp:241 findDecoder imread_('/mnt/moonfs/dengjiaqi-m2/OSWorld-G/layout_crawling/systhesis/cropped_data_v4/cropped_images/acddb683b631989cf2bd68f86f51619f.png'): can't open/read file: check file path/integrity\n",
      "过滤图片:  24%|██▍       | 30392/125807 [01:25<04:07, 385.70it/s]"
     ]
    },
    {
     "name": "stdout",
     "output_type": "stream",
     "text": [
      "处理图片 a74ba4c482c435111219a07d1ce1051e.png 时出错: 无法读取图片\n",
      "处理图片 99124682ff65b19d39828e89c317cac0.png 时出错: 无法读取图片\n",
      "处理图片 acddb683b631989cf2bd68f86f51619f.png 时出错: 无法读取图片\n"
     ]
    },
    {
     "name": "stderr",
     "output_type": "stream",
     "text": [
      "过滤图片:  25%|██▍       | 31162/125807 [01:26<03:17, 480.42it/s][ WARN:9@93.096] global loadsave.cpp:241 findDecoder imread_('/mnt/moonfs/dengjiaqi-m2/OSWorld-G/layout_crawling/systhesis/cropped_data_v4/cropped_images/425bbd8a0f9d2cb391ca6b7d0f592540.png'): can't open/read file: check file path/integrity\n",
      "[ WARN:0@93.131] global loadsave.cpp:241 findDecoder imread_('/mnt/moonfs/dengjiaqi-m2/OSWorld-G/layout_crawling/systhesis/cropped_data_v4/cropped_images/fa34847c051fe30f0d08c67745cd6213.png'): can't open/read file: check file path/integrity\n",
      "[ WARN:15@93.151] global loadsave.cpp:241 findDecoder imread_('/mnt/moonfs/dengjiaqi-m2/OSWorld-G/layout_crawling/systhesis/cropped_data_v4/cropped_images/c9a7e0783fe87a0138f7bd8c81fe4108.png'): can't open/read file: check file path/integrity\n",
      "过滤图片:  25%|██▍       | 31407/125807 [01:27<03:20, 470.63it/s]"
     ]
    },
    {
     "name": "stdout",
     "output_type": "stream",
     "text": [
      "处理图片 425bbd8a0f9d2cb391ca6b7d0f592540.png 时出错: 无法读取图片\n",
      "处理图片 fa34847c051fe30f0d08c67745cd6213.png 时出错: 无法读取图片\n",
      "处理图片 c9a7e0783fe87a0138f7bd8c81fe4108.png 时出错: 无法读取图片\n"
     ]
    },
    {
     "name": "stderr",
     "output_type": "stream",
     "text": [
      "过滤图片:  31%|███       | 39255/125807 [01:49<02:42, 531.07it/s][ WARN:10@115.296] global loadsave.cpp:241 findDecoder imread_('/mnt/moonfs/dengjiaqi-m2/OSWorld-G/layout_crawling/systhesis/cropped_data_v4/cropped_images/63141731a716ba869f9ff7a735e1ba6f.png'): can't open/read file: check file path/integrity\n",
      "过滤图片:  31%|███▏      | 39399/125807 [01:49<02:56, 490.31it/s]"
     ]
    },
    {
     "name": "stdout",
     "output_type": "stream",
     "text": [
      "处理图片 63141731a716ba869f9ff7a735e1ba6f.png 时出错: 无法读取图片\n",
      "处理图片 3db5c15afea8e9921622905505e8c48b.png 时出错: 无法读取图片\n",
      "处理图片 4d596ad8b3e941b6fbaa619f213ccb1a.png 时出错: 无法读取图片\n"
     ]
    },
    {
     "name": "stderr",
     "output_type": "stream",
     "text": [
      "[ WARN:21@115.530] global loadsave.cpp:241 findDecoder imread_('/mnt/moonfs/dengjiaqi-m2/OSWorld-G/layout_crawling/systhesis/cropped_data_v4/cropped_images/3db5c15afea8e9921622905505e8c48b.png'): can't open/read file: check file path/integrity\n",
      "[ WARN:28@115.555] global loadsave.cpp:241 findDecoder imread_('/mnt/moonfs/dengjiaqi-m2/OSWorld-G/layout_crawling/systhesis/cropped_data_v4/cropped_images/4d596ad8b3e941b6fbaa619f213ccb1a.png'): can't open/read file: check file path/integrity\n",
      "过滤图片:  32%|███▏      | 40110/125807 [01:51<02:57, 482.97it/s][ WARN:10@117.227] global loadsave.cpp:241 findDecoder imread_('/mnt/moonfs/dengjiaqi-m2/OSWorld-G/layout_crawling/systhesis/cropped_data_v4/cropped_images/666d5890e2973699b25f004552b68782.png'): can't open/read file: check file path/integrity\n",
      "[ WARN:8@117.252] global loadsave.cpp:241 findDecoder imread_('/mnt/moonfs/dengjiaqi-m2/OSWorld-G/layout_crawling/systhesis/cropped_data_v4/cropped_images/b208c51643487ec9fb0dcc8fa5f32ff8.png'): can't open/read file: check file path/integrity\n",
      "[ WARN:17@117.295] global loadsave.cpp:241 findDecoder imread_('/mnt/moonfs/dengjiaqi-m2/OSWorld-G/layout_crawling/systhesis/cropped_data_v4/cropped_images/f8f449a6f41dbb94b2e198589ad99c6b.png'): can't open/read file: check file path/integrity\n",
      "过滤图片:  32%|███▏      | 40176/125807 [01:51<02:57, 483.67it/s][ WARN:1@117.332] global loadsave.cpp:241 findDecoder imread_('/mnt/moonfs/dengjiaqi-m2/OSWorld-G/layout_crawling/systhesis/cropped_data_v4/cropped_images/7ccccbe9f715bc3f69319b7ff4db4570.png'): can't open/read file: check file path/integrity\n",
      "过滤图片:  32%|███▏      | 40247/125807 [01:51<02:47, 511.45it/s]"
     ]
    },
    {
     "name": "stdout",
     "output_type": "stream",
     "text": [
      "处理图片 666d5890e2973699b25f004552b68782.png 时出错: 无法读取图片\n",
      "处理图片 b208c51643487ec9fb0dcc8fa5f32ff8.png 时出错: 无法读取图片\n",
      "处理图片 f8f449a6f41dbb94b2e198589ad99c6b.png 时出错: 无法读取图片\n",
      "处理图片 7ccccbe9f715bc3f69319b7ff4db4570.png 时出错: 无法读取图片\n"
     ]
    },
    {
     "name": "stderr",
     "output_type": "stream",
     "text": [
      "[ WARN:2@117.462] global loadsave.cpp:241 findDecoder imread_('/mnt/moonfs/dengjiaqi-m2/OSWorld-G/layout_crawling/systhesis/cropped_data_v4/cropped_images/350818d83e3a0e6b81fcd29203c27591.png'): can't open/read file: check file path/integrity\n",
      "[ WARN:13@117.486] global loadsave.cpp:241 findDecoder imread_('/mnt/moonfs/dengjiaqi-m2/OSWorld-G/layout_crawling/systhesis/cropped_data_v4/cropped_images/e2fc2a08f3b2f533c00d4792fec1faa4.png'): can't open/read file: check file path/integrity\n",
      "[ WARN:7@117.493] global loadsave.cpp:241 findDecoder imread_('/mnt/moonfs/dengjiaqi-m2/OSWorld-G/layout_crawling/systhesis/cropped_data_v4/cropped_images/ab464ec6fc1bea75b918a229bf65c998.png'): can't open/read file: check file path/integrity\n",
      "[ WARN:8@117.538] global loadsave.cpp:241 findDecoder imread_('/mnt/moonfs/dengjiaqi-m2/OSWorld-G/layout_crawling/systhesis/cropped_data_v4/cropped_images/a46300e0a449a96b8ac1128a77af798a.png'): can't open/read file: check file path/integrity\n",
      "[ WARN:7@117.563] global loadsave.cpp:241 findDecoder imread_('/mnt/moonfs/dengjiaqi-m2/OSWorld-G/layout_crawling/systhesis/cropped_data_v4/cropped_images/11bee9db2912eb7302a620cc34b34ea4.png'): can't open/read file: check file path/integrity\n",
      "[ WARN:0@117.594] global loadsave.cpp:241 findDecoder imread_('/mnt/moonfs/dengjiaqi-m2/OSWorld-G/layout_crawling/systhesis/cropped_data_v4/cropped_images/dfc7b98f1c240113fb0f217beeef0cae.png'): can't open/read file: check file path/integrity\n",
      "[ WARN:6@117.609] global loadsave.cpp:241 findDecoder imread_('/mnt/moonfs/dengjiaqi-m2/OSWorld-G/layout_crawling/systhesis/cropped_data_v4/cropped_images/a21a12043a78205d0c7bf5b197287f23.png'): can't open/read file: check file path/integrity\n",
      "[ WARN:12@117.611] global loadsave.cpp:241 findDecoder imread_('/mnt/moonfs/dengjiaqi-m2/OSWorld-G/layout_crawling/systhesis/cropped_data_v4/cropped_images/2ca6fc1084a0a322b0ad4936dc829704.png'): can't open/read file: check file path/integrity\n"
     ]
    },
    {
     "name": "stdout",
     "output_type": "stream",
     "text": [
      "处理图片 350818d83e3a0e6b81fcd29203c27591.png 时出错: 无法读取图片\n",
      "处理图片 e2fc2a08f3b2f533c00d4792fec1faa4.png 时出错: 无法读取图片\n",
      "处理图片 ab464ec6fc1bea75b918a229bf65c998.png 时出错: 无法读取图片\n",
      "处理图片 a46300e0a449a96b8ac1128a77af798a.png 时出错: 无法读取图片\n",
      "处理图片 11bee9db2912eb7302a620cc34b34ea4.png 时出错: 无法读取图片\n",
      "处理图片 dfc7b98f1c240113fb0f217beeef0cae.png 时出错: 无法读取图片\n",
      "处理图片 a21a12043a78205d0c7bf5b197287f23.png 时出错: 无法读取图片\n",
      "处理图片 2ca6fc1084a0a322b0ad4936dc829704.png 时出错: 无法读取图片\n",
      "处理图片 338f3d54541fc1d69a0b3a30bfb51800.png 时出错: 无法读取图片\n"
     ]
    },
    {
     "name": "stderr",
     "output_type": "stream",
     "text": [
      "[ WARN:26@117.650] global loadsave.cpp:241 findDecoder imread_('/mnt/moonfs/dengjiaqi-m2/OSWorld-G/layout_crawling/systhesis/cropped_data_v4/cropped_images/338f3d54541fc1d69a0b3a30bfb51800.png'): can't open/read file: check file path/integrity\n",
      "[ WARN:7@117.758] global loadsave.cpp:241 findDecoder imread_('/mnt/moonfs/dengjiaqi-m2/OSWorld-G/layout_crawling/systhesis/cropped_data_v4/cropped_images/3f7ab0a8c7767e072f596e5042f996a0.png'): can't open/read file: check file path/integrity\n",
      "过滤图片:  32%|███▏      | 40309/125807 [01:52<03:52, 367.51it/s][ WARN:9@117.809] global loadsave.cpp:241 findDecoder imread_('/mnt/moonfs/dengjiaqi-m2/OSWorld-G/layout_crawling/systhesis/cropped_data_v4/cropped_images/a51c1e201179c080afcb42ce541bf8d9.png'): can't open/read file: check file path/integrity\n",
      "[ WARN:19@117.931] global loadsave.cpp:241 findDecoder imread_('/mnt/moonfs/dengjiaqi-m2/OSWorld-G/layout_crawling/systhesis/cropped_data_v4/cropped_images/fd740dc87ae96983b3ddf8a6706a1c26.png'): can't open/read file: check file path/integrity\n",
      "过滤图片:  32%|███▏      | 40358/125807 [01:52<04:03, 350.54it/s]"
     ]
    },
    {
     "name": "stdout",
     "output_type": "stream",
     "text": [
      "处理图片 3f7ab0a8c7767e072f596e5042f996a0.png 时出错: 无法读取图片\n",
      "处理图片 a51c1e201179c080afcb42ce541bf8d9.png 时出错: 无法读取图片\n",
      "处理图片 fd740dc87ae96983b3ddf8a6706a1c26.png 时出错: 无法读取图片\n"
     ]
    },
    {
     "name": "stderr",
     "output_type": "stream",
     "text": [
      "[ WARN:31@117.980] global loadsave.cpp:241 findDecoder imread_('/mnt/moonfs/dengjiaqi-m2/OSWorld-G/layout_crawling/systhesis/cropped_data_v4/cropped_images/ad55de64b07ebacca47a433424063256.png'): can't open/read file: check file path/integrity\n",
      "[ WARN:13@118.042] global loadsave.cpp:241 findDecoder imread_('/mnt/moonfs/dengjiaqi-m2/OSWorld-G/layout_crawling/systhesis/cropped_data_v4/cropped_images/ff563a22ccce52c3364e131a3f68f42b.png'): can't open/read file: check file path/integrity\n",
      "过滤图片:  32%|███▏      | 40485/125807 [01:52<03:24, 417.83it/s]"
     ]
    },
    {
     "name": "stdout",
     "output_type": "stream",
     "text": [
      "处理图片 ad55de64b07ebacca47a433424063256.png 时出错: 无法读取图片\n",
      "处理图片 ff563a22ccce52c3364e131a3f68f42b.png 时出错: 无法读取图片\n"
     ]
    },
    {
     "name": "stderr",
     "output_type": "stream",
     "text": [
      "过滤图片:  32%|███▏      | 40783/125807 [01:53<03:05, 457.50it/s][ WARN:13@118.717] global loadsave.cpp:241 findDecoder imread_('/mnt/moonfs/dengjiaqi-m2/OSWorld-G/layout_crawling/systhesis/cropped_data_v4/cropped_images/bf11ee7bed0d2fc6bafba4ce50ee7bb6.png'): can't open/read file: check file path/integrity\n",
      "[ WARN:21@118.724] global loadsave.cpp:241 findDecoder imread_('/mnt/moonfs/dengjiaqi-m2/OSWorld-G/layout_crawling/systhesis/cropped_data_v4/cropped_images/2efdd85889342ada6d8966ce520cd9a0.png'): can't open/read file: check file path/integrity\n",
      "过滤图片:  32%|███▏      | 40832/125807 [01:53<03:08, 450.38it/s][ WARN:29@118.839] global loadsave.cpp:241 findDecoder imread_('/mnt/moonfs/dengjiaqi-m2/OSWorld-G/layout_crawling/systhesis/cropped_data_v4/cropped_images/e55390230621e30312e24115e87b0fd8.png'): can't open/read file: check file path/integrity\n",
      "[ WARN:23@118.856] global loadsave.cpp:241 findDecoder imread_('/mnt/moonfs/dengjiaqi-m2/OSWorld-G/layout_crawling/systhesis/cropped_data_v4/cropped_images/ea765eba6329ddfabb977fcba68be176.png'): can't open/read file: check file path/integrity\n",
      "[ WARN:19@118.865] global loadsave.cpp:241 findDecoder imread_('/mnt/moonfs/dengjiaqi-m2/OSWorld-G/layout_crawling/systhesis/cropped_data_v4/cropped_images/6d42ed3d4144f1836e2959c51dfa98b2.png'): can't open/read file: check file path/integrity\n"
     ]
    },
    {
     "name": "stdout",
     "output_type": "stream",
     "text": [
      "处理图片 bf11ee7bed0d2fc6bafba4ce50ee7bb6.png 时出错: 无法读取图片\n",
      "处理图片 2efdd85889342ada6d8966ce520cd9a0.png 时出错: 无法读取图片\n",
      "处理图片 e55390230621e30312e24115e87b0fd8.png 时出错: 无法读取图片\n",
      "处理图片 ea765eba6329ddfabb977fcba68be176.png 时出错: 无法读取图片\n",
      "处理图片 6d42ed3d4144f1836e2959c51dfa98b2.png 时出错: 无法读取图片\n",
      "处理图片 640992453757884e95327a6274b56bd1.png 时出错: 无法读取图片\n"
     ]
    },
    {
     "name": "stderr",
     "output_type": "stream",
     "text": [
      "[ WARN:28@118.910] global loadsave.cpp:241 findDecoder imread_('/mnt/moonfs/dengjiaqi-m2/OSWorld-G/layout_crawling/systhesis/cropped_data_v4/cropped_images/640992453757884e95327a6274b56bd1.png'): can't open/read file: check file path/integrity\n",
      "过滤图片:  33%|███▎      | 41038/125807 [01:53<03:19, 425.25it/s][ WARN:12@119.396] global loadsave.cpp:241 findDecoder imread_('/mnt/moonfs/dengjiaqi-m2/OSWorld-G/layout_crawling/systhesis/cropped_data_v4/cropped_images/acbcfa78430d465b5dbfa4756188c763.png'): can't open/read file: check file path/integrity\n",
      "[ WARN:16@119.429] global loadsave.cpp:241 findDecoder imread_('/mnt/moonfs/dengjiaqi-m2/OSWorld-G/layout_crawling/systhesis/cropped_data_v4/cropped_images/7be72514cde7cf4a9547bb7a40bcc4fe.png'): can't open/read file: check file path/integrity\n",
      "过滤图片:  33%|███▎      | 41094/125807 [01:53<03:06, 455.41it/s][ WARN:0@119.496] global loadsave.cpp:241 findDecoder imread_('/mnt/moonfs/dengjiaqi-m2/OSWorld-G/layout_crawling/systhesis/cropped_data_v4/cropped_images/093258e96aa416140741df41761b8cd6.png'): can't open/read file: check file path/integrity\n",
      "[ WARN:10@119.528] global loadsave.cpp:241 findDecoder imread_('/mnt/moonfs/dengjiaqi-m2/OSWorld-G/layout_crawling/systhesis/cropped_data_v4/cropped_images/569ade66eaea5fd7174f398bd1e4ced6.png'): can't open/read file: check file path/integrity\n"
     ]
    },
    {
     "name": "stdout",
     "output_type": "stream",
     "text": [
      "处理图片 acbcfa78430d465b5dbfa4756188c763.png 时出错: 无法读取图片\n",
      "处理图片 7be72514cde7cf4a9547bb7a40bcc4fe.png 时出错: 无法读取图片\n",
      "处理图片 093258e96aa416140741df41761b8cd6.png 时出错: 无法读取图片\n",
      "处理图片 569ade66eaea5fd7174f398bd1e4ced6.png 时出错: 无法读取图片\n"
     ]
    },
    {
     "name": "stderr",
     "output_type": "stream",
     "text": [
      "过滤图片:  33%|███▎      | 41247/125807 [01:54<03:22, 417.47it/s][ WARN:5@119.891] global loadsave.cpp:241 findDecoder imread_('/mnt/moonfs/dengjiaqi-m2/OSWorld-G/layout_crawling/systhesis/cropped_data_v4/cropped_images/acb3d79d8c1964840303671977cfeea2.png'): can't open/read file: check file path/integrity\n",
      "[ WARN:27@119.899] global loadsave.cpp:241 findDecoder imread_('/mnt/moonfs/dengjiaqi-m2/OSWorld-G/layout_crawling/systhesis/cropped_data_v4/cropped_images/985f6b979b011ff8427117f50646aa02.png'): can't open/read file: check file path/integrity\n",
      "过滤图片:  33%|███▎      | 41306/125807 [01:54<03:06, 453.80it/s][ WARN:1@119.972] global loadsave.cpp:241 findDecoder imread_('/mnt/moonfs/dengjiaqi-m2/OSWorld-G/layout_crawling/systhesis/cropped_data_v4/cropped_images/07829df109b504a71f050b3b105e3fa9.png'): can't open/read file: check file path/integrity\n",
      "[ WARN:14@119.974] global loadsave.cpp:241 findDecoder imread_('/mnt/moonfs/dengjiaqi-m2/OSWorld-G/layout_crawling/systhesis/cropped_data_v4/cropped_images/df850de9f770b194932b63790cc70e67.png'): can't open/read file: check file path/integrity\n",
      "[ WARN:5@120.022] global loadsave.cpp:241 findDecoder imread_('/mnt/moonfs/dengjiaqi-m2/OSWorld-G/layout_crawling/systhesis/cropped_data_v4/cropped_images/1fd0a5ec8497e47badd4a0827ed01248.png'): can't open/read file: check file path/integrity\n",
      "[ WARN:14@120.060] global loadsave.cpp:241 findDecoder imread_('/mnt/moonfs/dengjiaqi-m2/OSWorld-G/layout_crawling/systhesis/cropped_data_v4/cropped_images/5d1087a0cc6b6ebe34a61b53a0097a73.png'): can't open/read file: check file path/integrity\n",
      "过滤图片:  33%|███▎      | 41354/125807 [01:54<03:07, 450.98it/s]"
     ]
    },
    {
     "name": "stdout",
     "output_type": "stream",
     "text": [
      "处理图片 acb3d79d8c1964840303671977cfeea2.png 时出错: 无法读取图片\n",
      "处理图片 985f6b979b011ff8427117f50646aa02.png 时出错: 无法读取图片\n",
      "处理图片 07829df109b504a71f050b3b105e3fa9.png 时出错: 无法读取图片\n",
      "处理图片 df850de9f770b194932b63790cc70e67.png 时出错: 无法读取图片\n",
      "处理图片 1fd0a5ec8497e47badd4a0827ed01248.png 时出错: 无法读取图片\n",
      "处理图片 5d1087a0cc6b6ebe34a61b53a0097a73.png 时出错: 无法读取图片\n"
     ]
    },
    {
     "name": "stderr",
     "output_type": "stream",
     "text": [
      "[ WARN:7@120.097] global loadsave.cpp:241 findDecoder imread_('/mnt/moonfs/dengjiaqi-m2/OSWorld-G/layout_crawling/systhesis/cropped_data_v4/cropped_images/36ffbb67093cbfca294c0922438c598f.png'): can't open/read file: check file path/integrity\n",
      "[ WARN:14@120.127] global loadsave.cpp:241 findDecoder imread_('/mnt/moonfs/dengjiaqi-m2/OSWorld-G/layout_crawling/systhesis/cropped_data_v4/cropped_images/a347538abaa8595485275e4d22b2dfd0.png'): can't open/read file: check file path/integrity\n",
      "[ WARN:22@120.185] global loadsave.cpp:241 findDecoder imread_('/mnt/moonfs/dengjiaqi-m2/OSWorld-G/layout_crawling/systhesis/cropped_data_v4/cropped_images/f9068c86858d374b0fe5089508e7cc95.png'): can't open/read file: check file path/integrity\n"
     ]
    },
    {
     "name": "stdout",
     "output_type": "stream",
     "text": [
      "处理图片 36ffbb67093cbfca294c0922438c598f.png 时出错: 无法读取图片\n",
      "处理图片 a347538abaa8595485275e4d22b2dfd0.png 时出错: 无法读取图片\n",
      "处理图片 f9068c86858d374b0fe5089508e7cc95.png 时出错: 无法读取图片\n",
      "处理图片 c968abf9dd8f57faa2f6a76f5421c7c5.png 时出错: 无法读取图片\n"
     ]
    },
    {
     "name": "stderr",
     "output_type": "stream",
     "text": [
      "[ WARN:2@120.298] global loadsave.cpp:241 findDecoder imread_('/mnt/moonfs/dengjiaqi-m2/OSWorld-G/layout_crawling/systhesis/cropped_data_v4/cropped_images/c968abf9dd8f57faa2f6a76f5421c7c5.png'): can't open/read file: check file path/integrity\n",
      "[ WARN:12@120.314] global loadsave.cpp:241 findDecoder imread_('/mnt/moonfs/dengjiaqi-m2/OSWorld-G/layout_crawling/systhesis/cropped_data_v4/cropped_images/496cf53f4418a51197ad399519f478f1.png'): can't open/read file: check file path/integrity\n",
      "[ WARN:9@120.321] global loadsave.cpp:241 findDecoder imread_('/mnt/moonfs/dengjiaqi-m2/OSWorld-G/layout_crawling/systhesis/cropped_data_v4/cropped_images/93802f85c849d2ea5f775c059451b2e2.png'): can't open/read file: check file path/integrity\n",
      "[ WARN:13@120.368] global loadsave.cpp:241 findDecoder imread_('/mnt/moonfs/dengjiaqi-m2/OSWorld-G/layout_crawling/systhesis/cropped_data_v4/cropped_images/d2e4427b9cb7d37ce85b53cdaf375403.png'): can't open/read file: check file path/integrity\n",
      "[ WARN:24@120.419] global loadsave.cpp:241 findDecoder imread_('/mnt/moonfs/dengjiaqi-m2/OSWorld-G/layout_crawling/systhesis/cropped_data_v4/cropped_images/193e88d2b71c9ca4af8d13889ebfb3ec.png'): can't open/read file: check file path/integrity\n",
      "过滤图片:  33%|███▎      | 41401/125807 [01:54<05:18, 264.95it/s][ WARN:26@120.468] global loadsave.cpp:241 findDecoder imread_('/mnt/moonfs/dengjiaqi-m2/OSWorld-G/layout_crawling/systhesis/cropped_data_v4/cropped_images/1d9000d9aae494b0bbfaccd3bccd5523.png'): can't open/read file: check file path/integrity\n",
      "[ WARN:1@120.483] global loadsave.cpp:241 findDecoder imread_('/mnt/moonfs/dengjiaqi-m2/OSWorld-G/layout_crawling/systhesis/cropped_data_v4/cropped_images/f604d0a1c9ef75baa2a3274784079709.png'): can't open/read file: check file path/integrity\n"
     ]
    },
    {
     "name": "stdout",
     "output_type": "stream",
     "text": [
      "处理图片 496cf53f4418a51197ad399519f478f1.png 时出错: 无法读取图片\n",
      "处理图片 93802f85c849d2ea5f775c059451b2e2.png 时出错: 无法读取图片\n",
      "处理图片 d2e4427b9cb7d37ce85b53cdaf375403.png 时出错: 无法读取图片\n",
      "处理图片 193e88d2b71c9ca4af8d13889ebfb3ec.png 时出错: 无法读取图片\n",
      "处理图片 1d9000d9aae494b0bbfaccd3bccd5523.png 时出错: 无法读取图片\n",
      "处理图片 f604d0a1c9ef75baa2a3274784079709.png 时出错: 无法读取图片\n",
      "处理图片 d0cc494ce71a081863d61bf4f1c23c7e.png 时出错: 无法读取图片\n"
     ]
    },
    {
     "name": "stderr",
     "output_type": "stream",
     "text": [
      "[ WARN:2@120.511] global loadsave.cpp:241 findDecoder imread_('/mnt/moonfs/dengjiaqi-m2/OSWorld-G/layout_crawling/systhesis/cropped_data_v4/cropped_images/d0cc494ce71a081863d61bf4f1c23c7e.png'): can't open/read file: check file path/integrity\n",
      "过滤图片:  33%|███▎      | 41555/125807 [01:54<03:01, 463.34it/s][ WARN:29@120.622] global loadsave.cpp:241 findDecoder imread_('/mnt/moonfs/dengjiaqi-m2/OSWorld-G/layout_crawling/systhesis/cropped_data_v4/cropped_images/2edd6aa24fe133701effca927792055e.png'): can't open/read file: check file path/integrity\n",
      "[ WARN:2@120.636] global loadsave.cpp:241 findDecoder imread_('/mnt/moonfs/dengjiaqi-m2/OSWorld-G/layout_crawling/systhesis/cropped_data_v4/cropped_images/4791f771110a7fc83c0d1e6cf886b37c.png'): can't open/read file: check file path/integrity\n",
      "[ WARN:29@120.776] global loadsave.cpp:241 findDecoder imread_('/mnt/moonfs/dengjiaqi-m2/OSWorld-G/layout_crawling/systhesis/cropped_data_v4/cropped_images/20db235deaf21ae364c59bd51e360b00.png'): can't open/read file: check file path/integrity\n",
      "[ WARN:14@120.778] global loadsave.cpp:241 findDecoder imread_('/mnt/moonfs/dengjiaqi-m2/OSWorld-G/layout_crawling/systhesis/cropped_data_v4/cropped_images/773b30969e5a244c7c86af36227744ad.png'): can't open/read file: check file path/integrity\n"
     ]
    },
    {
     "name": "stdout",
     "output_type": "stream",
     "text": [
      "处理图片 2edd6aa24fe133701effca927792055e.png 时出错: 无法读取图片\n",
      "处理图片 4791f771110a7fc83c0d1e6cf886b37c.png 时出错: 无法读取图片\n",
      "处理图片 20db235deaf21ae364c59bd51e360b00.png 时出错: 无法读取图片\n",
      "处理图片 773b30969e5a244c7c86af36227744ad.png 时出错: 无法读取图片\n",
      "处理图片 b10754a7f624f3de36a5a62f47f16ba3.png 时出错: 无法读取图片\n"
     ]
    },
    {
     "name": "stderr",
     "output_type": "stream",
     "text": [
      "[ WARN:10@120.794] global loadsave.cpp:241 findDecoder imread_('/mnt/moonfs/dengjiaqi-m2/OSWorld-G/layout_crawling/systhesis/cropped_data_v4/cropped_images/b10754a7f624f3de36a5a62f47f16ba3.png'): can't open/read file: check file path/integrity\n",
      "过滤图片:  33%|███▎      | 41614/125807 [01:55<04:53, 287.25it/s][ WARN:21@121.047] global loadsave.cpp:241 findDecoder imread_('/mnt/moonfs/dengjiaqi-m2/OSWorld-G/layout_crawling/systhesis/cropped_data_v4/cropped_images/fb453aac7c2707847c85c554290bb3f7.png'): can't open/read file: check file path/integrity\n",
      "过滤图片:  33%|███▎      | 41814/125807 [01:55<02:39, 525.56it/s][ WARN:8@121.159] global loadsave.cpp:241 findDecoder imread_('/mnt/moonfs/dengjiaqi-m2/OSWorld-G/layout_crawling/systhesis/cropped_data_v4/cropped_images/acd63ce9fa6f138e99537e9017a8e27c.png'): can't open/read file: check file path/integrity\n",
      "[ WARN:16@121.161] global loadsave.cpp:241 findDecoder imread_('/mnt/moonfs/dengjiaqi-m2/OSWorld-G/layout_crawling/systhesis/cropped_data_v4/cropped_images/ab43badf63f7e091ec7d7a3ba9f60b6c.png'): can't open/read file: check file path/integrity\n",
      "[ WARN:18@121.239] global loadsave.cpp:241 findDecoder imread_('/mnt/moonfs/dengjiaqi-m2/OSWorld-G/layout_crawling/systhesis/cropped_data_v4/cropped_images/46b20be15c5dfb7054b7488611459e17.png'): can't open/read file: check file path/integrity\n"
     ]
    },
    {
     "name": "stdout",
     "output_type": "stream",
     "text": [
      "处理图片 fb453aac7c2707847c85c554290bb3f7.png 时出错: 无法读取图片\n",
      "处理图片 acd63ce9fa6f138e99537e9017a8e27c.png 时出错: 无法读取图片\n",
      "处理图片 ab43badf63f7e091ec7d7a3ba9f60b6c.png 时出错: 无法读取图片\n",
      "处理图片 46b20be15c5dfb7054b7488611459e17.png 时出错: 无法读取图片\n"
     ]
    },
    {
     "name": "stderr",
     "output_type": "stream",
     "text": [
      "[ WARN:27@121.257] global loadsave.cpp:241 findDecoder imread_('/mnt/moonfs/dengjiaqi-m2/OSWorld-G/layout_crawling/systhesis/cropped_data_v4/cropped_images/64c84fa802cc28c4a84aff066ade815d.png'): can't open/read file: check file path/integrity\n",
      "[ WARN:14@121.277] global loadsave.cpp:241 findDecoder imread_('/mnt/moonfs/dengjiaqi-m2/OSWorld-G/layout_crawling/systhesis/cropped_data_v4/cropped_images/ee27b4b69a75d84274c3d121f92f7ad5.png'): can't open/read file: check file path/integrity\n",
      "[ WARN:2@121.288] global loadsave.cpp:241 findDecoder imread_('/mnt/moonfs/dengjiaqi-m2/OSWorld-G/layout_crawling/systhesis/cropped_data_v4/cropped_images/6be53f80fa015ed1d5bc0c3e14c47887.png'): can't open/read file: check file path/integrity\n",
      "[ WARN:7@121.299] global loadsave.cpp:241 findDecoder imread_('/mnt/moonfs/dengjiaqi-m2/OSWorld-G/layout_crawling/systhesis/cropped_data_v4/cropped_images/a41d5185b16bb1bd11fd64bff7cabd13.png'): can't open/read file: check file path/integrity\n",
      "[ WARN:6@121.304] global loadsave.cpp:241 findDecoder imread_('/mnt/moonfs/dengjiaqi-m2/OSWorld-G/layout_crawling/systhesis/cropped_data_v4/cropped_images/01c6b956fab2930396dd1dd73952433d.png'): can't open/read file: check file path/integrity\n",
      "[ WARN:25@121.320] global loadsave.cpp:241 findDecoder imread_('/mnt/moonfs/dengjiaqi-m2/OSWorld-G/layout_crawling/systhesis/cropped_data_v4/cropped_images/fb44388e2d7eefe13de2299c5a559254.png'): can't open/read file: check file path/integrity\n",
      "[ WARN:23@121.357] global loadsave.cpp:241 findDecoder imread_('/mnt/moonfs/dengjiaqi-m2/OSWorld-G/layout_crawling/systhesis/cropped_data_v4/cropped_images/debfc849cc0507d0a83072671c895fda.png'): can't open/read file: check file path/integrity\n",
      "[ WARN:6@121.364] global loadsave.cpp:241 findDecoder imread_('/mnt/moonfs/dengjiaqi-m2/OSWorld-G/layout_crawling/systhesis/cropped_data_v4/cropped_images/e0e361bb5ba8f4a70171cddbff76ce9c.png'): can't open/read file: check file path/integrity\n",
      "过滤图片:  33%|███▎      | 41904/125807 [01:55<02:57, 472.86it/s]"
     ]
    },
    {
     "name": "stdout",
     "output_type": "stream",
     "text": [
      "处理图片 64c84fa802cc28c4a84aff066ade815d.png 时出错: 无法读取图片\n",
      "处理图片 ee27b4b69a75d84274c3d121f92f7ad5.png 时出错: 无法读取图片\n",
      "处理图片 6be53f80fa015ed1d5bc0c3e14c47887.png 时出错: 无法读取图片\n",
      "处理图片 a41d5185b16bb1bd11fd64bff7cabd13.png 时出错: 无法读取图片\n",
      "处理图片 01c6b956fab2930396dd1dd73952433d.png 时出错: 无法读取图片\n",
      "处理图片 fb44388e2d7eefe13de2299c5a559254.png 时出错: 无法读取图片\n",
      "处理图片 debfc849cc0507d0a83072671c895fda.png 时出错: 无法读取图片\n",
      "处理图片 e0e361bb5ba8f4a70171cddbff76ce9c.png 时出错: 无法读取图片\n"
     ]
    },
    {
     "name": "stderr",
     "output_type": "stream",
     "text": [
      "过滤图片:  38%|███▊      | 47661/125807 [02:09<02:50, 459.55it/s][ WARN:14@135.256] global loadsave.cpp:241 findDecoder imread_('/mnt/moonfs/dengjiaqi-m2/OSWorld-G/layout_crawling/systhesis/cropped_data_v4/cropped_images/aa6315e7cc515bb53975c0aeefd69cc3.png'): can't open/read file: check file path/integrity\n",
      "[ WARN:28@135.301] global loadsave.cpp:241 findDecoder imread_('/mnt/moonfs/dengjiaqi-m2/OSWorld-G/layout_crawling/systhesis/cropped_data_v4/cropped_images/a66279d58331ef36d99ca83740f56501.png'): can't open/read file: check file path/integrity\n",
      "[ WARN:1@135.314] global loadsave.cpp:241 findDecoder imread_('/mnt/moonfs/dengjiaqi-m2/OSWorld-G/layout_crawling/systhesis/cropped_data_v4/cropped_images/ca2a551e836828317ba40c991be53981.png'): can't open/read file: check file path/integrity\n"
     ]
    },
    {
     "name": "stdout",
     "output_type": "stream",
     "text": [
      "处理图片 aa6315e7cc515bb53975c0aeefd69cc3.png 时出错: 无法读取图片\n",
      "处理图片 a66279d58331ef36d99ca83740f56501.png 时出错: 无法读取图片\n",
      "处理图片 ca2a551e836828317ba40c991be53981.png 时出错: 无法读取图片\n"
     ]
    },
    {
     "name": "stderr",
     "output_type": "stream",
     "text": [
      "过滤图片:  38%|███▊      | 47711/125807 [02:09<04:22, 297.52it/s][ WARN:4@135.705] global loadsave.cpp:241 findDecoder imread_('/mnt/moonfs/dengjiaqi-m2/OSWorld-G/layout_crawling/systhesis/cropped_data_v4/cropped_images/a820107591f8c65d48c6b67a2c2ae52a.png'): can't open/read file: check file path/integrity\n",
      "过滤图片:  38%|███▊      | 47810/125807 [02:10<04:12, 308.32it/s]"
     ]
    },
    {
     "name": "stdout",
     "output_type": "stream",
     "text": [
      "处理图片 a820107591f8c65d48c6b67a2c2ae52a.png 时出错: 无法读取图片\n"
     ]
    },
    {
     "name": "stderr",
     "output_type": "stream",
     "text": [
      "过滤图片:  39%|███▉      | 49029/125807 [02:12<02:47, 458.30it/s][ WARN:18@138.592] global loadsave.cpp:241 findDecoder imread_('/mnt/moonfs/dengjiaqi-m2/OSWorld-G/layout_crawling/systhesis/cropped_data_v4/cropped_images/53ecb3ebd90247ab47b05ae7d68b3602.png'): can't open/read file: check file path/integrity\n",
      "[ WARN:30@138.597] global loadsave.cpp:241 findDecoder imread_('/mnt/moonfs/dengjiaqi-m2/OSWorld-G/layout_crawling/systhesis/cropped_data_v4/cropped_images/d2e72f471864d106d30e66616be4a718.png'): can't open/read file: check file path/integrity\n",
      "[ WARN:4@138.620] global loadsave.cpp:241 findDecoder imread_('/mnt/moonfs/dengjiaqi-m2/OSWorld-G/layout_crawling/systhesis/cropped_data_v4/cropped_images/8409ba66262cad54e52314cec25e4a3a.png'): can't open/read file: check file path/integrity\n",
      "[ WARN:14@138.624] global loadsave.cpp:241 findDecoder imread_('/mnt/moonfs/dengjiaqi-m2/OSWorld-G/layout_crawling/systhesis/cropped_data_v4/cropped_images/50bb23934b4c4784e13d0c77e2819610.png'): can't open/read file: check file path/integrity\n",
      "[ WARN:25@138.632] global loadsave.cpp:241 findDecoder imread_('/mnt/moonfs/dengjiaqi-m2/OSWorld-G/layout_crawling/systhesis/cropped_data_v4/cropped_images/3c876b41a51faabe686bf3c476495972.png'): can't open/read file: check file path/integrity\n",
      "[ WARN:24@138.647] global loadsave.cpp:241 findDecoder imread_('/mnt/moonfs/dengjiaqi-m2/OSWorld-G/layout_crawling/systhesis/cropped_data_v4/cropped_images/323222fe781e50b42c97586eed2821ba.png'): can't open/read file: check file path/integrity\n",
      "[ WARN:9@138.658] global loadsave.cpp:241 findDecoder imread_('/mnt/moonfs/dengjiaqi-m2/OSWorld-G/layout_crawling/systhesis/cropped_data_v4/cropped_images/7806b89a0317df4072cd71e68c7def02.png'): can't open/read file: check file path/integrity\n",
      "[ WARN:20@138.664] global loadsave.cpp:241 findDecoder imread_('/mnt/moonfs/dengjiaqi-m2/OSWorld-G/layout_crawling/systhesis/cropped_data_v4/cropped_images/c56da6f48dc70bc5b1fd0d20ab2d5c2b.png'): can't open/read file: check file path/integrity\n",
      "[ WARN:24@138.677] global loadsave.cpp:241 findDecoder imread_('/mnt/moonfs/dengjiaqi-m2/OSWorld-G/layout_crawling/systhesis/cropped_data_v4/cropped_images/73199be60723681dead895a4cc80b378.png'): can't open/read file: check file path/integrity\n",
      "过滤图片:  39%|███▉      | 49085/125807 [02:12<02:56, 434.40it/s][ WARN:31@138.696] global loadsave.cpp:241 findDecoder imread_('/mnt/moonfs/dengjiaqi-m2/OSWorld-G/layout_crawling/systhesis/cropped_data_v4/cropped_images/01fc05b6747b26321c7c82dbd8fa3cec.png'): can't open/read file: check file path/integrity\n",
      "[ WARN:30@138.707] global loadsave.cpp:241 findDecoder imread_('/mnt/moonfs/dengjiaqi-m2/OSWorld-G/layout_crawling/systhesis/cropped_data_v4/cropped_images/2cd9756d731f5bfc93a6173b6941692c.png'): can't open/read file: check file path/integrity\n",
      "[ WARN:19@138.710] global loadsave.cpp:241 findDecoder imread_('/mnt/moonfs/dengjiaqi-m2/OSWorld-G/layout_crawling/systhesis/cropped_data_v4/cropped_images/725babf3215c80bc49aa037595d9efd7.png'): can't open/read file: check file path/integrity\n",
      "[ WARN:14@138.731] global loadsave.cpp:241 findDecoder imread_('/mnt/moonfs/dengjiaqi-m2/OSWorld-G/layout_crawling/systhesis/cropped_data_v4/cropped_images/f85c2b645dc1552f93efdf4932485562.png'): can't open/read file: check file path/integrity\n",
      "[ WARN:0@138.743] global loadsave.cpp:241 findDecoder imread_('/mnt/moonfs/dengjiaqi-m2/OSWorld-G/layout_crawling/systhesis/cropped_data_v4/cropped_images/2b6c8c60190d1401d433e400de539d1f.png'): can't open/read file: check file path/integrity\n",
      "过滤图片:  39%|███▉      | 49136/125807 [02:13<02:54, 438.44it/s]"
     ]
    },
    {
     "name": "stdout",
     "output_type": "stream",
     "text": [
      "处理图片 53ecb3ebd90247ab47b05ae7d68b3602.png 时出错: 无法读取图片\n",
      "处理图片 d2e72f471864d106d30e66616be4a718.png 时出错: 无法读取图片\n",
      "处理图片 8409ba66262cad54e52314cec25e4a3a.png 时出错: 无法读取图片\n",
      "处理图片 50bb23934b4c4784e13d0c77e2819610.png 时出错: 无法读取图片\n",
      "处理图片 3c876b41a51faabe686bf3c476495972.png 时出错: 无法读取图片\n",
      "处理图片 323222fe781e50b42c97586eed2821ba.png 时出错: 无法读取图片\n",
      "处理图片 7806b89a0317df4072cd71e68c7def02.png 时出错: 无法读取图片\n",
      "处理图片 c56da6f48dc70bc5b1fd0d20ab2d5c2b.png 时出错: 无法读取图片\n",
      "处理图片 73199be60723681dead895a4cc80b378.png 时出错: 无法读取图片\n",
      "处理图片 01fc05b6747b26321c7c82dbd8fa3cec.png 时出错: 无法读取图片\n",
      "处理图片 2cd9756d731f5bfc93a6173b6941692c.png 时出错: 无法读取图片\n",
      "处理图片 725babf3215c80bc49aa037595d9efd7.png 时出错: 无法读取图片\n",
      "处理图片 f85c2b645dc1552f93efdf4932485562.png 时出错: 无法读取图片\n",
      "处理图片 2b6c8c60190d1401d433e400de539d1f.png 时出错: 无法读取图片\n"
     ]
    },
    {
     "name": "stderr",
     "output_type": "stream",
     "text": [
      "过滤图片:  39%|███▉      | 49485/125807 [02:13<02:49, 450.55it/s][ WARN:22@139.631] global loadsave.cpp:241 findDecoder imread_('/mnt/moonfs/dengjiaqi-m2/OSWorld-G/layout_crawling/systhesis/cropped_data_v4/cropped_images/873d6a20d0ba894be98306a431d29093.png'): can't open/read file: check file path/integrity\n",
      "过滤图片:  39%|███▉      | 49533/125807 [02:14<03:40, 345.44it/s]"
     ]
    },
    {
     "name": "stdout",
     "output_type": "stream",
     "text": [
      "处理图片 873d6a20d0ba894be98306a431d29093.png 时出错: 无法读取图片\n"
     ]
    },
    {
     "name": "stderr",
     "output_type": "stream",
     "text": [
      "过滤图片:  40%|████      | 50466/125807 [02:16<02:47, 448.62it/s][ WARN:26@142.082] global loadsave.cpp:241 findDecoder imread_('/mnt/moonfs/dengjiaqi-m2/OSWorld-G/layout_crawling/systhesis/cropped_data_v4/cropped_images/29e79e1fd2d11f54faa7fb0dee7b38cc.png'): can't open/read file: check file path/integrity\n",
      "过滤图片:  40%|████      | 50570/125807 [02:16<02:59, 418.77it/s]"
     ]
    },
    {
     "name": "stdout",
     "output_type": "stream",
     "text": [
      "处理图片 29e79e1fd2d11f54faa7fb0dee7b38cc.png 时出错: 无法读取图片\n"
     ]
    },
    {
     "name": "stderr",
     "output_type": "stream",
     "text": [
      "过滤图片:  41%|████      | 51490/125807 [02:18<02:44, 452.74it/s][ WARN:15@144.597] global loadsave.cpp:241 findDecoder imread_('/mnt/moonfs/dengjiaqi-m2/OSWorld-G/layout_crawling/systhesis/cropped_data_v4/cropped_images/9925fb055ab97d1cfdd621bb97911e2d.png'): can't open/read file: check file path/integrity\n",
      "[ WARN:29@144.603] global loadsave.cpp:241 findDecoder imread_('/mnt/moonfs/dengjiaqi-m2/OSWorld-G/layout_crawling/systhesis/cropped_data_v4/cropped_images/5967926b08842c3dea71ceaee7093c76.png'): can't open/read file: check file path/integrity\n",
      "过滤图片:  41%|████      | 51546/125807 [02:18<03:26, 359.67it/s]"
     ]
    },
    {
     "name": "stdout",
     "output_type": "stream",
     "text": [
      "处理图片 9925fb055ab97d1cfdd621bb97911e2d.png 时出错: 无法读取图片\n",
      "处理图片 5967926b08842c3dea71ceaee7093c76.png 时出错: 无法读取图片\n"
     ]
    },
    {
     "name": "stderr",
     "output_type": "stream",
     "text": [
      "过滤图片:  42%|████▏     | 52264/125807 [02:20<02:58, 410.93it/s][ WARN:5@146.595] global loadsave.cpp:241 findDecoder imread_('/mnt/moonfs/dengjiaqi-m2/OSWorld-G/layout_crawling/systhesis/cropped_data_v4/cropped_images/c73d509c67ddca01b8d34fe89700b672.png'): can't open/read file: check file path/integrity\n",
      "过滤图片:  42%|████▏     | 52432/125807 [02:21<02:50, 429.44it/s]"
     ]
    },
    {
     "name": "stdout",
     "output_type": "stream",
     "text": [
      "处理图片 c73d509c67ddca01b8d34fe89700b672.png 时出错: 无法读取图片\n"
     ]
    },
    {
     "name": "stderr",
     "output_type": "stream",
     "text": [
      "过滤图片:  42%|████▏     | 52875/125807 [02:22<02:34, 472.91it/s][ WARN:15@147.831] global loadsave.cpp:241 findDecoder imread_('/mnt/moonfs/dengjiaqi-m2/OSWorld-G/layout_crawling/systhesis/cropped_data_v4/cropped_images/6adbd16368914cc6ffa0a7dce761bb3d.png'): can't open/read file: check file path/integrity\n",
      "[ WARN:5@147.879] global loadsave.cpp:241 findDecoder imread_('/mnt/moonfs/dengjiaqi-m2/OSWorld-G/layout_crawling/systhesis/cropped_data_v4/cropped_images/20b779e6ae73c64e664ea4c94b9047ff.png'): can't open/read file: check file path/integrity\n",
      "[ WARN:21@147.886] global loadsave.cpp:241 findDecoder imread_('/mnt/moonfs/dengjiaqi-m2/OSWorld-G/layout_crawling/systhesis/cropped_data_v4/cropped_images/8fa5f81e658ecdc77392a2bbc7b31390.png'): can't open/read file: check file path/integrity\n",
      "过滤图片:  42%|████▏     | 52945/125807 [02:22<02:25, 501.08it/s]"
     ]
    },
    {
     "name": "stdout",
     "output_type": "stream",
     "text": [
      "处理图片 6adbd16368914cc6ffa0a7dce761bb3d.png 时出错: 无法读取图片\n",
      "处理图片 20b779e6ae73c64e664ea4c94b9047ff.png 时出错: 无法读取图片\n",
      "处理图片 8fa5f81e658ecdc77392a2bbc7b31390.png 时出错: 无法读取图片\n"
     ]
    },
    {
     "name": "stderr",
     "output_type": "stream",
     "text": [
      "过滤图片:  43%|████▎     | 53505/125807 [02:23<02:43, 442.26it/s][ WARN:13@149.278] global loadsave.cpp:241 findDecoder imread_('/mnt/moonfs/dengjiaqi-m2/OSWorld-G/layout_crawling/systhesis/cropped_data_v4/cropped_images/64a55f3eb923f32911af877adc28726e.png'): can't open/read file: check file path/integrity\n",
      "过滤图片:  43%|████▎     | 53553/125807 [02:23<02:43, 440.90it/s]"
     ]
    },
    {
     "name": "stdout",
     "output_type": "stream",
     "text": [
      "处理图片 64a55f3eb923f32911af877adc28726e.png 时出错: 无法读取图片\n"
     ]
    },
    {
     "name": "stderr",
     "output_type": "stream",
     "text": [
      "过滤图片:  43%|████▎     | 53600/125807 [02:23<02:54, 414.51it/s][ WARN:27@149.522] global loadsave.cpp:241 findDecoder imread_('/mnt/moonfs/dengjiaqi-m2/OSWorld-G/layout_crawling/systhesis/cropped_data_v4/cropped_images/129b19be4f3da616e92236a5ab99174b.png'): can't open/read file: check file path/integrity\n",
      "过滤图片:  43%|████▎     | 53703/125807 [02:24<02:43, 442.32it/s]"
     ]
    },
    {
     "name": "stdout",
     "output_type": "stream",
     "text": [
      "处理图片 129b19be4f3da616e92236a5ab99174b.png 时出错: 无法读取图片\n"
     ]
    },
    {
     "name": "stderr",
     "output_type": "stream",
     "text": [
      "过滤图片:  44%|████▍     | 55983/125807 [02:29<03:11, 364.75it/s][ WARN:5@155.118] global loadsave.cpp:241 findDecoder imread_('/mnt/moonfs/dengjiaqi-m2/OSWorld-G/layout_crawling/systhesis/cropped_data_v4/cropped_images/f0a23f25d0fbb0b54c694295e2e60625.png'): can't open/read file: check file path/integrity\n",
      "[ WARN:18@155.136] global loadsave.cpp:241 findDecoder imread_('/mnt/moonfs/dengjiaqi-m2/OSWorld-G/layout_crawling/systhesis/cropped_data_v4/cropped_images/e6528ff6553002c6b5184f1e10fa288d.png'): can't open/read file: check file path/integrity\n",
      "[ WARN:16@155.153] global loadsave.cpp:241 findDecoder imread_('/mnt/moonfs/dengjiaqi-m2/OSWorld-G/layout_crawling/systhesis/cropped_data_v4/cropped_images/8ee7aa151c747f08293f4df1b67ae68d.png'): can't open/read file: check file path/integrity\n",
      "过滤图片:  45%|████▍     | 56070/125807 [02:29<02:38, 441.13it/s][ WARN:26@155.222] global loadsave.cpp:241 findDecoder imread_('/mnt/moonfs/dengjiaqi-m2/OSWorld-G/layout_crawling/systhesis/cropped_data_v4/cropped_images/68350cc0c7226105225e8c400cb85950.png'): can't open/read file: check file path/integrity\n",
      "[ WARN:3@155.228] global loadsave.cpp:241 findDecoder imread_('/mnt/moonfs/dengjiaqi-m2/OSWorld-G/layout_crawling/systhesis/cropped_data_v4/cropped_images/22f412d7a650dac7dc80d0f53282b3c4.png'): can't open/read file: check file path/integrity\n"
     ]
    },
    {
     "name": "stdout",
     "output_type": "stream",
     "text": [
      "处理图片 f0a23f25d0fbb0b54c694295e2e60625.png 时出错: 无法读取图片\n",
      "处理图片 e6528ff6553002c6b5184f1e10fa288d.png 时出错: 无法读取图片\n",
      "处理图片 8ee7aa151c747f08293f4df1b67ae68d.png 时出错: 无法读取图片\n",
      "处理图片 68350cc0c7226105225e8c400cb85950.png 时出错: 无法读取图片\n",
      "处理图片 22f412d7a650dac7dc80d0f53282b3c4.png 时出错: 无法读取图片\n"
     ]
    },
    {
     "name": "stderr",
     "output_type": "stream",
     "text": [
      "过滤图片:  45%|████▍     | 56581/125807 [02:30<02:45, 418.81it/s][ WARN:3@156.361] global loadsave.cpp:241 findDecoder imread_('/mnt/moonfs/dengjiaqi-m2/OSWorld-G/layout_crawling/systhesis/cropped_data_v4/cropped_images/c06c4c17842b750ed427f6a6d550152f.png'): can't open/read file: check file path/integrity\n",
      "[ WARN:1@156.406] global loadsave.cpp:241 findDecoder imread_('/mnt/moonfs/dengjiaqi-m2/OSWorld-G/layout_crawling/systhesis/cropped_data_v4/cropped_images/5a3df24990c6f1c1a3bb907db91c4194.png'): can't open/read file: check file path/integrity\n",
      "[ WARN:19@156.441] global loadsave.cpp:241 findDecoder imread_('/mnt/moonfs/dengjiaqi-m2/OSWorld-G/layout_crawling/systhesis/cropped_data_v4/cropped_images/d1272b36f41639731f4b8ba65a80e9cc.png'): can't open/read file: check file path/integrity\n"
     ]
    },
    {
     "name": "stdout",
     "output_type": "stream",
     "text": [
      "处理图片 c06c4c17842b750ed427f6a6d550152f.png 时出错: 无法读取图片\n",
      "处理图片 5a3df24990c6f1c1a3bb907db91c4194.png 时出错: 无法读取图片\n",
      "处理图片 d1272b36f41639731f4b8ba65a80e9cc.png 时出错: 无法读取图片\n"
     ]
    },
    {
     "name": "stderr",
     "output_type": "stream",
     "text": [
      "过滤图片:  46%|████▌     | 57503/125807 [02:32<03:38, 312.11it/s][ WARN:16@158.656] global loadsave.cpp:241 findDecoder imread_('/mnt/moonfs/dengjiaqi-m2/OSWorld-G/layout_crawling/systhesis/cropped_data_v4/cropped_images/7fdf670d6df7c9de830f8b0fc8287626.png'): can't open/read file: check file path/integrity\n",
      "[ WARN:29@158.658] global loadsave.cpp:241 findDecoder imread_('/mnt/moonfs/dengjiaqi-m2/OSWorld-G/layout_crawling/systhesis/cropped_data_v4/cropped_images/233667daff4a6bd5c0f47b59d842bffa.png'): can't open/read file: check file path/integrity\n",
      "[ WARN:22@158.680] global loadsave.cpp:241 findDecoder imread_('/mnt/moonfs/dengjiaqi-m2/OSWorld-G/layout_crawling/systhesis/cropped_data_v4/cropped_images/4204c270006b4dc5e9f462651e925af7.png'): can't open/read file: check file path/integrity\n",
      "[ WARN:9@158.682] global loadsave.cpp:241 findDecoder imread_('/mnt/moonfs/dengjiaqi-m2/OSWorld-G/layout_crawling/systhesis/cropped_data_v4/cropped_images/76071d4d01c36703a5a67be29ec14d42.png'): can't open/read file: check file path/integrity\n",
      "[ WARN:10@158.695] global loadsave.cpp:241 findDecoder imread_('/mnt/moonfs/dengjiaqi-m2/OSWorld-G/layout_crawling/systhesis/cropped_data_v4/cropped_images/0708c9839e0c6416c8a33b5c237ca180.png'): can't open/read file: check file path/integrity\n",
      "[ WARN:31@158.697] global loadsave.cpp:241 findDecoder imread_('/mnt/moonfs/dengjiaqi-m2/OSWorld-G/layout_crawling/systhesis/cropped_data_v4/cropped_images/a6a6393f6a0086aa445901c544d4152d.png'): can't open/read file: check file path/integrity\n",
      "[ WARN:28@158.699] global loadsave.cpp:241 findDecoder imread_('/mnt/moonfs/dengjiaqi-m2/OSWorld-G/layout_crawling/systhesis/cropped_data_v4/cropped_images/7bcbf11467df1a3f5e396263cc2dc01c.png'): can't open/read file: check file path/integrity\n",
      "[ WARN:7@158.712] global loadsave.cpp:241 findDecoder imread_('/mnt/moonfs/dengjiaqi-m2/OSWorld-G/layout_crawling/systhesis/cropped_data_v4/cropped_images/617aee7f5e3c0226209f443edd5cd4cc.png'): can't open/read file: check file path/integrity\n",
      "[ WARN:22@158.741] global loadsave.cpp:241 findDecoder imread_('/mnt/moonfs/dengjiaqi-m2/OSWorld-G/layout_crawling/systhesis/cropped_data_v4/cropped_images/418e3c51d455e9880dcd6fb411618d35.png'): can't open/read file: check file path/integrity\n",
      "过滤图片:  46%|████▌     | 57692/125807 [02:33<02:05, 544.10it/s][ WARN:27@158.745] global loadsave.cpp:241 findDecoder imread_('/mnt/moonfs/dengjiaqi-m2/OSWorld-G/layout_crawling/systhesis/cropped_data_v4/cropped_images/b5d9d5556fe604dfc605c3dfb07b1cd2.png'): can't open/read file: check file path/integrity\n",
      "[ WARN:19@158.762] global loadsave.cpp:241 findDecoder imread_('/mnt/moonfs/dengjiaqi-m2/OSWorld-G/layout_crawling/systhesis/cropped_data_v4/cropped_images/849dae3c0240a963d73b48e3ae46c61e.png'): can't open/read file: check file path/integrity\n",
      "[ WARN:28@158.781] global loadsave.cpp:241 findDecoder imread_('/mnt/moonfs/dengjiaqi-m2/OSWorld-G/layout_crawling/systhesis/cropped_data_v4/cropped_images/4d5e87f9056dba7d3f5a4a1a26a06603.png'): can't open/read file: check file path/integrity\n",
      "[ WARN:14@158.789] global loadsave.cpp:241 findDecoder imread_('/mnt/moonfs/dengjiaqi-m2/OSWorld-G/layout_crawling/systhesis/cropped_data_v4/cropped_images/08e7513d38412f5ecf99926d94de7c2c.png'): can't open/read file: check file path/integrity\n"
     ]
    },
    {
     "name": "stdout",
     "output_type": "stream",
     "text": [
      "处理图片 7fdf670d6df7c9de830f8b0fc8287626.png 时出错: 无法读取图片\n",
      "处理图片 233667daff4a6bd5c0f47b59d842bffa.png 时出错: 无法读取图片\n",
      "处理图片 4204c270006b4dc5e9f462651e925af7.png 时出错: 无法读取图片\n",
      "处理图片 76071d4d01c36703a5a67be29ec14d42.png 时出错: 无法读取图片\n",
      "处理图片 0708c9839e0c6416c8a33b5c237ca180.png 时出错: 无法读取图片\n",
      "处理图片 a6a6393f6a0086aa445901c544d4152d.png 时出错: 无法读取图片\n",
      "处理图片 7bcbf11467df1a3f5e396263cc2dc01c.png 时出错: 无法读取图片\n",
      "处理图片 617aee7f5e3c0226209f443edd5cd4cc.png 时出错: 无法读取图片\n",
      "处理图片 418e3c51d455e9880dcd6fb411618d35.png 时出错: 无法读取图片\n",
      "处理图片 b5d9d5556fe604dfc605c3dfb07b1cd2.png 时出错: 无法读取图片\n",
      "处理图片 849dae3c0240a963d73b48e3ae46c61e.png 时出错: 无法读取图片\n",
      "处理图片 4d5e87f9056dba7d3f5a4a1a26a06603.png 时出错: 无法读取图片\n",
      "处理图片 08e7513d38412f5ecf99926d94de7c2c.png 时出错: 无法读取图片\n"
     ]
    },
    {
     "name": "stderr",
     "output_type": "stream",
     "text": [
      "过滤图片:  47%|████▋     | 58588/125807 [02:35<02:30, 445.16it/s][ WARN:24@160.805] global loadsave.cpp:241 findDecoder imread_('/mnt/moonfs/dengjiaqi-m2/OSWorld-G/layout_crawling/systhesis/cropped_data_v4/cropped_images/eeeeec4433b0d18618577e3d2d8ac166.png'): can't open/read file: check file path/integrity\n",
      "[ WARN:27@160.815] global loadsave.cpp:241 findDecoder imread_('/mnt/moonfs/dengjiaqi-m2/OSWorld-G/layout_crawling/systhesis/cropped_data_v4/cropped_images/3c0ac03870c69d6e495441f412ccab0a.png'): can't open/read file: check file path/integrity\n",
      "[ WARN:17@160.820] global loadsave.cpp:241 findDecoder imread_('/mnt/moonfs/dengjiaqi-m2/OSWorld-G/layout_crawling/systhesis/cropped_data_v4/cropped_images/5a21268c7dc88a0b5c1d80f1177bc498.png'): can't open/read file: check file path/integrity\n",
      "[ WARN:16@160.830] global loadsave.cpp:241 findDecoder imread_('/mnt/moonfs/dengjiaqi-m2/OSWorld-G/layout_crawling/systhesis/cropped_data_v4/cropped_images/19e57cbff138d467b5e3cddc6cc23ef0.png'): can't open/read file: check file path/integrity\n",
      "[ WARN:31@160.833] global loadsave.cpp:241 findDecoder imread_('/mnt/moonfs/dengjiaqi-m2/OSWorld-G/layout_crawling/systhesis/cropped_data_v4/cropped_images/9f1fbd8e73e1edec5256e51e91b2e0ae.png'): can't open/read file: check file path/integrity\n",
      "[ WARN:8@160.841] global loadsave.cpp:241 findDecoder imread_('/mnt/moonfs/dengjiaqi-m2/OSWorld-G/layout_crawling/systhesis/cropped_data_v4/cropped_images/36bd35af5023d0288674adf2e03d1ef3.png'): can't open/read file: check file path/integrity\n",
      "[ WARN:10@160.879] global loadsave.cpp:241 findDecoder imread_('/mnt/moonfs/dengjiaqi-m2/OSWorld-G/layout_crawling/systhesis/cropped_data_v4/cropped_images/2bb03ded63783dc67b061cad497df9fc.png'): can't open/read file: check file path/integrity\n",
      "[ WARN:17@160.902] global loadsave.cpp:241 findDecoder imread_('/mnt/moonfs/dengjiaqi-m2/OSWorld-G/layout_crawling/systhesis/cropped_data_v4/cropped_images/ac97e5c2893b29cce10638c0bed32718.png'): can't open/read file: check file path/integrity\n",
      "[ WARN:8@160.907] global loadsave.cpp:241 findDecoder imread_('/mnt/moonfs/dengjiaqi-m2/OSWorld-G/layout_crawling/systhesis/cropped_data_v4/cropped_images/58fe92b34c75ef36bb66236e86f9e6d6.png'): can't open/read file: check file path/integrity\n",
      "[ WARN:31@160.911] global loadsave.cpp:241 findDecoder imread_('/mnt/moonfs/dengjiaqi-m2/OSWorld-G/layout_crawling/systhesis/cropped_data_v4/cropped_images/1c9d9bbd3f21eb667f6d2cce8582c242.png'): can't open/read file: check file path/integrity\n",
      "过滤图片:  47%|████▋     | 58644/125807 [02:35<02:38, 424.09it/s]"
     ]
    },
    {
     "name": "stdout",
     "output_type": "stream",
     "text": [
      "处理图片 eeeeec4433b0d18618577e3d2d8ac166.png 时出错: 无法读取图片\n",
      "处理图片 3c0ac03870c69d6e495441f412ccab0a.png 时出错: 无法读取图片\n",
      "处理图片 5a21268c7dc88a0b5c1d80f1177bc498.png 时出错: 无法读取图片\n",
      "处理图片 19e57cbff138d467b5e3cddc6cc23ef0.png 时出错: 无法读取图片\n",
      "处理图片 9f1fbd8e73e1edec5256e51e91b2e0ae.png 时出错: 无法读取图片\n",
      "处理图片 36bd35af5023d0288674adf2e03d1ef3.png 时出错: 无法读取图片\n",
      "处理图片 2bb03ded63783dc67b061cad497df9fc.png 时出错: 无法读取图片\n",
      "处理图片 ac97e5c2893b29cce10638c0bed32718.png 时出错: 无法读取图片\n",
      "处理图片 58fe92b34c75ef36bb66236e86f9e6d6.png 时出错: 无法读取图片\n",
      "处理图片 1c9d9bbd3f21eb667f6d2cce8582c242.png 时出错: 无法读取图片\n"
     ]
    },
    {
     "name": "stderr",
     "output_type": "stream",
     "text": [
      "过滤图片:  47%|████▋     | 58974/125807 [02:35<02:19, 477.50it/s][ WARN:29@161.714] global loadsave.cpp:241 findDecoder imread_('/mnt/moonfs/dengjiaqi-m2/OSWorld-G/layout_crawling/systhesis/cropped_data_v4/cropped_images/ae6462a411176ed0eac8b6937f827f35.png'): can't open/read file: check file path/integrity\n",
      "[ WARN:27@161.729] global loadsave.cpp:241 findDecoder imread_('/mnt/moonfs/dengjiaqi-m2/OSWorld-G/layout_crawling/systhesis/cropped_data_v4/cropped_images/70cecd60c549287e52bb8492bcdda73b.png'): can't open/read file: check file path/integrity\n",
      "过滤图片:  47%|████▋     | 59070/125807 [02:36<02:36, 425.21it/s]"
     ]
    },
    {
     "name": "stdout",
     "output_type": "stream",
     "text": [
      "处理图片 ae6462a411176ed0eac8b6937f827f35.png 时出错: 无法读取图片\n",
      "处理图片 70cecd60c549287e52bb8492bcdda73b.png 时出错: 无法读取图片\n"
     ]
    },
    {
     "name": "stderr",
     "output_type": "stream",
     "text": [
      "过滤图片:  48%|████▊     | 59853/125807 [02:37<02:15, 488.08it/s][ WARN:3@163.690] global loadsave.cpp:241 findDecoder imread_('/mnt/moonfs/dengjiaqi-m2/OSWorld-G/layout_crawling/systhesis/cropped_data_v4/cropped_images/42f4f97e2d014828b6b305f9224c5c22.png'): can't open/read file: check file path/integrity\n",
      "过滤图片:  48%|████▊     | 59911/125807 [02:38<02:37, 417.54it/s]"
     ]
    },
    {
     "name": "stdout",
     "output_type": "stream",
     "text": [
      "处理图片 42f4f97e2d014828b6b305f9224c5c22.png 时出错: 无法读取图片\n"
     ]
    },
    {
     "name": "stderr",
     "output_type": "stream",
     "text": [
      "过滤图片:  48%|████▊     | 60661/125807 [02:39<02:20, 462.76it/s][ WARN:0@165.653] global loadsave.cpp:241 findDecoder imread_('/mnt/moonfs/dengjiaqi-m2/OSWorld-G/layout_crawling/systhesis/cropped_data_v4/cropped_images/5f6e960d0a85eeae7afe1c48813285df.png'): can't open/read file: check file path/integrity\n",
      "过滤图片:  48%|████▊     | 60712/125807 [02:40<03:08, 345.20it/s]"
     ]
    },
    {
     "name": "stdout",
     "output_type": "stream",
     "text": [
      "处理图片 5f6e960d0a85eeae7afe1c48813285df.png 时出错: 无法读取图片\n"
     ]
    },
    {
     "name": "stderr",
     "output_type": "stream",
     "text": [
      "过滤图片:  48%|████▊     | 60893/125807 [02:40<02:04, 520.21it/s][ WARN:10@166.113] global loadsave.cpp:241 findDecoder imread_('/mnt/moonfs/dengjiaqi-m2/OSWorld-G/layout_crawling/systhesis/cropped_data_v4/cropped_images/f43bca7df53fcd20def4d4a7b52fe936.png'): can't open/read file: check file path/integrity\n",
      "过滤图片:  48%|████▊     | 61011/125807 [02:40<02:19, 463.36it/s]"
     ]
    },
    {
     "name": "stdout",
     "output_type": "stream",
     "text": [
      "处理图片 f43bca7df53fcd20def4d4a7b52fe936.png 时出错: 无法读取图片\n"
     ]
    },
    {
     "name": "stderr",
     "output_type": "stream",
     "text": [
      "过滤图片:  49%|████▉     | 62047/125807 [02:43<03:00, 353.12it/s][ WARN:4@168.844] global loadsave.cpp:241 findDecoder imread_('/mnt/moonfs/dengjiaqi-m2/OSWorld-G/layout_crawling/systhesis/cropped_data_v4/cropped_images/f82e655f4ab8f17c8e53de1d66b06636.png'): can't open/read file: check file path/integrity\n",
      "过滤图片:  49%|████▉     | 62193/125807 [02:43<02:11, 485.48it/s]"
     ]
    },
    {
     "name": "stdout",
     "output_type": "stream",
     "text": [
      "处理图片 f82e655f4ab8f17c8e53de1d66b06636.png 时出错: 无法读取图片\n"
     ]
    },
    {
     "name": "stderr",
     "output_type": "stream",
     "text": [
      "过滤图片:  50%|█████     | 63048/125807 [02:45<02:00, 522.65it/s][ WARN:26@171.077] global loadsave.cpp:241 findDecoder imread_('/mnt/moonfs/dengjiaqi-m2/OSWorld-G/layout_crawling/systhesis/cropped_data_v4/cropped_images/5582314f2f6873f3fa159734cd0bcf35.png'): can't open/read file: check file path/integrity\n",
      "[ WARN:17@171.086] global loadsave.cpp:241 findDecoder imread_('/mnt/moonfs/dengjiaqi-m2/OSWorld-G/layout_crawling/systhesis/cropped_data_v4/cropped_images/7a76b951774470a52769846f6abbcc72.png'): can't open/read file: check file path/integrity\n",
      "过滤图片:  50%|█████     | 63108/125807 [02:45<02:01, 514.53it/s][ WARN:10@171.116] global loadsave.cpp:241 findDecoder imread_('/mnt/moonfs/dengjiaqi-m2/OSWorld-G/layout_crawling/systhesis/cropped_data_v4/cropped_images/b456828142da8e27ffacf1c9696886e1.png'): can't open/read file: check file path/integrity\n",
      "过滤图片:  50%|█████     | 63165/125807 [02:45<02:08, 486.48it/s]"
     ]
    },
    {
     "name": "stdout",
     "output_type": "stream",
     "text": [
      "处理图片 5582314f2f6873f3fa159734cd0bcf35.png 时出错: 无法读取图片\n",
      "处理图片 7a76b951774470a52769846f6abbcc72.png 时出错: 无法读取图片\n",
      "处理图片 b456828142da8e27ffacf1c9696886e1.png 时出错: 无法读取图片\n"
     ]
    },
    {
     "name": "stderr",
     "output_type": "stream",
     "text": [
      "过滤图片:  51%|█████     | 63545/125807 [02:46<02:11, 473.07it/s][ WARN:24@172.387] global loadsave.cpp:241 findDecoder imread_('/mnt/moonfs/dengjiaqi-m2/OSWorld-G/layout_crawling/systhesis/cropped_data_v4/cropped_images/7ffff6884d50dbb017b13801fd9a4941.png'): can't open/read file: check file path/integrity\n",
      "[ WARN:29@172.427] global loadsave.cpp:241 findDecoder imread_('/mnt/moonfs/dengjiaqi-m2/OSWorld-G/layout_crawling/systhesis/cropped_data_v4/cropped_images/f07cd13b80e89557cfec32d3f9b3f063.png'): can't open/read file: check file path/integrity\n",
      "[ WARN:2@172.460] global loadsave.cpp:241 findDecoder imread_('/mnt/moonfs/dengjiaqi-m2/OSWorld-G/layout_crawling/systhesis/cropped_data_v4/cropped_images/e7ddeea301bab55eb353514bd28f783f.png'): can't open/read file: check file path/integrity\n",
      "[ WARN:4@172.466] global loadsave.cpp:241 findDecoder imread_('/mnt/moonfs/dengjiaqi-m2/OSWorld-G/layout_crawling/systhesis/cropped_data_v4/cropped_images/bf3e74c6d3e115a4a9d646d54cb706a4.png'): can't open/read file: check file path/integrity\n",
      "过滤图片:  51%|█████     | 63599/125807 [02:46<03:34, 290.42it/s]"
     ]
    },
    {
     "name": "stdout",
     "output_type": "stream",
     "text": [
      "处理图片 7ffff6884d50dbb017b13801fd9a4941.png 时出错: 无法读取图片\n",
      "处理图片 f07cd13b80e89557cfec32d3f9b3f063.png 时出错: 无法读取图片\n",
      "处理图片 e7ddeea301bab55eb353514bd28f783f.png 时出错: 无法读取图片\n",
      "处理图片 bf3e74c6d3e115a4a9d646d54cb706a4.png 时出错: 无法读取图片\n"
     ]
    },
    {
     "name": "stderr",
     "output_type": "stream",
     "text": [
      "过滤图片:  51%|█████     | 63814/125807 [02:47<02:10, 474.53it/s][ WARN:18@172.783] global loadsave.cpp:241 findDecoder imread_('/mnt/moonfs/dengjiaqi-m2/OSWorld-G/layout_crawling/systhesis/cropped_data_v4/cropped_images/7c2ba0af6f60f44cf6192907070d4a3c.png'): can't open/read file: check file path/integrity\n",
      "过滤图片:  51%|█████     | 63874/125807 [02:47<02:16, 453.56it/s][ WARN:27@172.936] global loadsave.cpp:241 findDecoder imread_('/mnt/moonfs/dengjiaqi-m2/OSWorld-G/layout_crawling/systhesis/cropped_data_v4/cropped_images/00f654ae2e23f276ac990a69cde300b3.png'): can't open/read file: check file path/integrity\n",
      "[ WARN:28@172.955] global loadsave.cpp:241 findDecoder imread_('/mnt/moonfs/dengjiaqi-m2/OSWorld-G/layout_crawling/systhesis/cropped_data_v4/cropped_images/4eac1e3527445bf20b80c417e578a009.png'): can't open/read file: check file path/integrity\n"
     ]
    },
    {
     "name": "stdout",
     "output_type": "stream",
     "text": [
      "处理图片 7c2ba0af6f60f44cf6192907070d4a3c.png 时出错: 无法读取图片\n",
      "处理图片 00f654ae2e23f276ac990a69cde300b3.png 时出错: 无法读取图片\n",
      "处理图片 4eac1e3527445bf20b80c417e578a009.png 时出错: 无法读取图片\n",
      "处理图片 01e3cc61c90d498b265c40cb4398cc5b.png 时出错: 无法读取图片\n",
      "处理图片 3a17a6342fb6263c977f0f2d82c0b9ee.png 时出错: 无法读取图片\n"
     ]
    },
    {
     "name": "stderr",
     "output_type": "stream",
     "text": [
      "[ WARN:10@172.978] global loadsave.cpp:241 findDecoder imread_('/mnt/moonfs/dengjiaqi-m2/OSWorld-G/layout_crawling/systhesis/cropped_data_v4/cropped_images/01e3cc61c90d498b265c40cb4398cc5b.png'): can't open/read file: check file path/integrity\n",
      "[ WARN:11@172.982] global loadsave.cpp:241 findDecoder imread_('/mnt/moonfs/dengjiaqi-m2/OSWorld-G/layout_crawling/systhesis/cropped_data_v4/cropped_images/3a17a6342fb6263c977f0f2d82c0b9ee.png'): can't open/read file: check file path/integrity\n",
      "[ WARN:7@173.006] global loadsave.cpp:241 findDecoder imread_('/mnt/moonfs/dengjiaqi-m2/OSWorld-G/layout_crawling/systhesis/cropped_data_v4/cropped_images/e493fabf2bc332211250f874a40b32af.png'): can't open/read file: check file path/integrity\n",
      "[ WARN:26@173.018] global loadsave.cpp:241 findDecoder imread_('/mnt/moonfs/dengjiaqi-m2/OSWorld-G/layout_crawling/systhesis/cropped_data_v4/cropped_images/692d1f4ba1d697c440a18e30d672e287.png'): can't open/read file: check file path/integrity\n",
      "[ WARN:30@173.031] global loadsave.cpp:241 findDecoder imread_('/mnt/moonfs/dengjiaqi-m2/OSWorld-G/layout_crawling/systhesis/cropped_data_v4/cropped_images/cdb5308f57af42d95c8a2fd04c7814ef.png'): can't open/read file: check file path/integrity\n",
      "过滤图片:  51%|█████     | 63929/125807 [02:47<02:18, 447.16it/s][ WARN:17@173.062] global loadsave.cpp:241 findDecoder imread_('/mnt/moonfs/dengjiaqi-m2/OSWorld-G/layout_crawling/systhesis/cropped_data_v4/cropped_images/92e5f7a1a16ece2e195d8d60bf06dc26.png'): can't open/read file: check file path/integrity\n",
      "过滤图片:  51%|█████     | 63997/125807 [02:47<02:04, 494.49it/s]"
     ]
    },
    {
     "name": "stdout",
     "output_type": "stream",
     "text": [
      "处理图片 e493fabf2bc332211250f874a40b32af.png 时出错: 无法读取图片\n",
      "处理图片 692d1f4ba1d697c440a18e30d672e287.png 时出错: 无法读取图片\n",
      "处理图片 cdb5308f57af42d95c8a2fd04c7814ef.png 时出错: 无法读取图片\n",
      "处理图片 92e5f7a1a16ece2e195d8d60bf06dc26.png 时出错: 无法读取图片\n"
     ]
    },
    {
     "name": "stderr",
     "output_type": "stream",
     "text": [
      "过滤图片:  51%|█████▏    | 64642/125807 [02:49<03:03, 333.11it/s][ WARN:31@175.005] global loadsave.cpp:241 findDecoder imread_('/mnt/moonfs/dengjiaqi-m2/OSWorld-G/layout_crawling/systhesis/cropped_data_v4/cropped_images/cb525fcab8cbebe8c688bd166bbf840e.png'): can't open/read file: check file path/integrity\n",
      "过滤图片:  52%|█████▏    | 64797/125807 [02:49<02:10, 468.91it/s]"
     ]
    },
    {
     "name": "stdout",
     "output_type": "stream",
     "text": [
      "处理图片 cb525fcab8cbebe8c688bd166bbf840e.png 时出错: 无法读取图片\n"
     ]
    },
    {
     "name": "stderr",
     "output_type": "stream",
     "text": [
      "过滤图片:  52%|█████▏    | 65091/125807 [02:50<02:16, 444.11it/s][ WARN:22@175.869] global loadsave.cpp:241 findDecoder imread_('/mnt/moonfs/dengjiaqi-m2/OSWorld-G/layout_crawling/systhesis/cropped_data_v4/cropped_images/18e4104c0ec47f9045c0b8097c9e80cd.png'): can't open/read file: check file path/integrity\n",
      "[ WARN:5@175.933] global loadsave.cpp:241 findDecoder imread_('/mnt/moonfs/dengjiaqi-m2/OSWorld-G/layout_crawling/systhesis/cropped_data_v4/cropped_images/bdce5a55188a3c1046ba0f7d4d7679e9.png'): can't open/read file: check file path/integrity\n",
      "[ WARN:17@175.950] global loadsave.cpp:241 findDecoder imread_('/mnt/moonfs/dengjiaqi-m2/OSWorld-G/layout_crawling/systhesis/cropped_data_v4/cropped_images/1750a8b36ff1dd215bb1cce6595f1837.png'): can't open/read file: check file path/integrity\n",
      "过滤图片:  52%|█████▏    | 65190/125807 [02:50<02:08, 470.97it/s]"
     ]
    },
    {
     "name": "stdout",
     "output_type": "stream",
     "text": [
      "处理图片 18e4104c0ec47f9045c0b8097c9e80cd.png 时出错: 无法读取图片\n",
      "处理图片 bdce5a55188a3c1046ba0f7d4d7679e9.png 时出错: 无法读取图片\n",
      "处理图片 1750a8b36ff1dd215bb1cce6595f1837.png 时出错: 无法读取图片\n"
     ]
    },
    {
     "name": "stderr",
     "output_type": "stream",
     "text": [
      "过滤图片:  52%|█████▏    | 65915/125807 [02:51<02:18, 431.41it/s][ WARN:2@177.676] global loadsave.cpp:241 findDecoder imread_('/mnt/moonfs/dengjiaqi-m2/OSWorld-G/layout_crawling/systhesis/cropped_data_v4/cropped_images/19248d00cb8a1068492a9d57a695d1c8.png'): can't open/read file: check file path/integrity\n",
      "过滤图片:  52%|█████▏    | 65964/125807 [02:52<02:46, 358.84it/s]"
     ]
    },
    {
     "name": "stdout",
     "output_type": "stream",
     "text": [
      "处理图片 19248d00cb8a1068492a9d57a695d1c8.png 时出错: 无法读取图片\n"
     ]
    },
    {
     "name": "stderr",
     "output_type": "stream",
     "text": [
      "过滤图片:  53%|█████▎    | 67122/125807 [02:54<01:58, 496.62it/s][ WARN:19@180.287] global loadsave.cpp:241 findDecoder imread_('/mnt/moonfs/dengjiaqi-m2/OSWorld-G/layout_crawling/systhesis/cropped_data_v4/cropped_images/de600cd14fdd331be8ce8071df5d4f0f.png'): can't open/read file: check file path/integrity\n"
     ]
    },
    {
     "name": "stdout",
     "output_type": "stream",
     "text": [
      "处理图片 de600cd14fdd331be8ce8071df5d4f0f.png 时出错: 无法读取图片\n"
     ]
    },
    {
     "name": "stderr",
     "output_type": "stream",
     "text": [
      "过滤图片:  54%|█████▎    | 67325/125807 [02:55<01:51, 523.93it/s][ WARN:14@180.766] global loadsave.cpp:241 findDecoder imread_('/mnt/moonfs/dengjiaqi-m2/OSWorld-G/layout_crawling/systhesis/cropped_data_v4/cropped_images/9d74098c45c039f9d80e9ad420b54dbf.png'): can't open/read file: check file path/integrity\n"
     ]
    },
    {
     "name": "stdout",
     "output_type": "stream",
     "text": [
      "处理图片 9d74098c45c039f9d80e9ad420b54dbf.png 时出错: 无法读取图片\n"
     ]
    },
    {
     "name": "stderr",
     "output_type": "stream",
     "text": [
      "过滤图片:  55%|█████▌    | 69308/125807 [02:59<02:00, 468.25it/s][ WARN:16@185.473] global loadsave.cpp:241 findDecoder imread_('/mnt/moonfs/dengjiaqi-m2/OSWorld-G/layout_crawling/systhesis/cropped_data_v4/cropped_images/f7a77cef2659feff76b04e77f36483b9.png'): can't open/read file: check file path/integrity\n"
     ]
    },
    {
     "name": "stdout",
     "output_type": "stream",
     "text": [
      "处理图片 f7a77cef2659feff76b04e77f36483b9.png 时出错: 无法读取图片\n",
      "处理图片 c2e9831623e15339f93d65e99cb52f65.png 时出错: 无法读取图片\n",
      "处理图片 3916bb758fc72b7894b31e3065b59901.png 时出错: 无法读取图片\n"
     ]
    },
    {
     "name": "stderr",
     "output_type": "stream",
     "text": [
      "[ WARN:27@185.509] global loadsave.cpp:241 findDecoder imread_('/mnt/moonfs/dengjiaqi-m2/OSWorld-G/layout_crawling/systhesis/cropped_data_v4/cropped_images/c2e9831623e15339f93d65e99cb52f65.png'): can't open/read file: check file path/integrity\n",
      "[ WARN:28@185.517] global loadsave.cpp:241 findDecoder imread_('/mnt/moonfs/dengjiaqi-m2/OSWorld-G/layout_crawling/systhesis/cropped_data_v4/cropped_images/3916bb758fc72b7894b31e3065b59901.png'): can't open/read file: check file path/integrity\n",
      "过滤图片:  56%|█████▌    | 70564/125807 [03:02<01:44, 527.45it/s][ WARN:3@188.407] global loadsave.cpp:241 findDecoder imread_('/mnt/moonfs/dengjiaqi-m2/OSWorld-G/layout_crawling/systhesis/cropped_data_v4/cropped_images/4266b2745aa8502755058b58625f28b1.png'): can't open/read file: check file path/integrity\n",
      "过滤图片:  56%|█████▌    | 70632/125807 [03:02<03:03, 300.31it/s]"
     ]
    },
    {
     "name": "stdout",
     "output_type": "stream",
     "text": [
      "处理图片 4266b2745aa8502755058b58625f28b1.png 时出错: 无法读取图片\n"
     ]
    },
    {
     "name": "stderr",
     "output_type": "stream",
     "text": [
      "过滤图片:  56%|█████▋    | 70841/125807 [03:03<01:51, 493.72it/s][ WARN:8@188.962] global loadsave.cpp:241 findDecoder imread_('/mnt/moonfs/dengjiaqi-m2/OSWorld-G/layout_crawling/systhesis/cropped_data_v4/cropped_images/4fbf69c4a397462452df017790827425.png'): can't open/read file: check file path/integrity\n",
      "过滤图片:  56%|█████▋    | 71026/125807 [03:03<01:39, 548.05it/s]"
     ]
    },
    {
     "name": "stdout",
     "output_type": "stream",
     "text": [
      "处理图片 4fbf69c4a397462452df017790827425.png 时出错: 无法读取图片\n"
     ]
    },
    {
     "name": "stderr",
     "output_type": "stream",
     "text": [
      "过滤图片:  57%|█████▋    | 71167/125807 [03:03<01:51, 489.10it/s][ WARN:16@189.505] global loadsave.cpp:241 findDecoder imread_('/mnt/moonfs/dengjiaqi-m2/OSWorld-G/layout_crawling/systhesis/cropped_data_v4/cropped_images/e13cd54396d692396fba109f28bbf171.png'): can't open/read file: check file path/integrity\n",
      "过滤图片:  57%|█████▋    | 71226/125807 [03:03<01:50, 495.53it/s]"
     ]
    },
    {
     "name": "stdout",
     "output_type": "stream",
     "text": [
      "处理图片 e13cd54396d692396fba109f28bbf171.png 时出错: 无法读取图片\n"
     ]
    },
    {
     "name": "stderr",
     "output_type": "stream",
     "text": [
      "过滤图片:  57%|█████▋    | 71556/125807 [03:04<02:00, 450.08it/s][ WARN:30@190.458] global loadsave.cpp:241 findDecoder imread_('/mnt/moonfs/dengjiaqi-m2/OSWorld-G/layout_crawling/systhesis/cropped_data_v4/cropped_images/ca354c8b1fdb3e21adaeb269c5f47884.png'): can't open/read file: check file path/integrity\n",
      "[ WARN:29@190.467] global loadsave.cpp:241 findDecoder imread_('/mnt/moonfs/dengjiaqi-m2/OSWorld-G/layout_crawling/systhesis/cropped_data_v4/cropped_images/03b0610e1db8d86aa0ae3735396e0c0b.png'): can't open/read file: check file path/integrity\n",
      "[ WARN:21@190.471] global loadsave.cpp:241 findDecoder imread_('/mnt/moonfs/dengjiaqi-m2/OSWorld-G/layout_crawling/systhesis/cropped_data_v4/cropped_images/12141a28cec0261b2e2b77cc3233ce02.png'): can't open/read file: check file path/integrity\n",
      "[ WARN:10@190.473] global loadsave.cpp:241 findDecoder imread_('/mnt/moonfs/dengjiaqi-m2/OSWorld-G/layout_crawling/systhesis/cropped_data_v4/cropped_images/2f0a10e85e5ee56ac8830db016c4f53d.png'): can't open/read file: check file path/integrity\n",
      "[ WARN:8@190.521] global loadsave.cpp:241 findDecoder imread_('/mnt/moonfs/dengjiaqi-m2/OSWorld-G/layout_crawling/systhesis/cropped_data_v4/cropped_images/e957e90b3351e671844f9029dfa404ac.png'): can't open/read file: check file path/integrity\n"
     ]
    },
    {
     "name": "stdout",
     "output_type": "stream",
     "text": [
      "处理图片 ca354c8b1fdb3e21adaeb269c5f47884.png 时出错: 无法读取图片\n",
      "处理图片 03b0610e1db8d86aa0ae3735396e0c0b.png 时出错: 无法读取图片\n",
      "处理图片 12141a28cec0261b2e2b77cc3233ce02.png 时出错: 无法读取图片\n",
      "处理图片 2f0a10e85e5ee56ac8830db016c4f53d.png 时出错: 无法读取图片\n",
      "处理图片 e957e90b3351e671844f9029dfa404ac.png 时出错: 无法读取图片\n",
      "处理图片 a7f325abf31f5140246cabcd480cbf17.png 时出错: 无法读取图片\n",
      "处理图片 dad4dc349d81128ce197c99891da3a83.png 时出错: 无法读取图片\n",
      "处理图片 afb899dbd62aac70761eb69929bae18f.png 时出错: 无法读取图片\n"
     ]
    },
    {
     "name": "stderr",
     "output_type": "stream",
     "text": [
      "[ WARN:30@190.544] global loadsave.cpp:241 findDecoder imread_('/mnt/moonfs/dengjiaqi-m2/OSWorld-G/layout_crawling/systhesis/cropped_data_v4/cropped_images/a7f325abf31f5140246cabcd480cbf17.png'): can't open/read file: check file path/integrity\n",
      "[ WARN:21@190.553] global loadsave.cpp:241 findDecoder imread_('/mnt/moonfs/dengjiaqi-m2/OSWorld-G/layout_crawling/systhesis/cropped_data_v4/cropped_images/dad4dc349d81128ce197c99891da3a83.png'): can't open/read file: check file path/integrity\n",
      "[ WARN:26@190.558] global loadsave.cpp:241 findDecoder imread_('/mnt/moonfs/dengjiaqi-m2/OSWorld-G/layout_crawling/systhesis/cropped_data_v4/cropped_images/afb899dbd62aac70761eb69929bae18f.png'): can't open/read file: check file path/integrity\n",
      "过滤图片:  58%|█████▊    | 73458/125807 [03:09<01:51, 469.89it/s][ WARN:8@194.736] global loadsave.cpp:241 findDecoder imread_('/mnt/moonfs/dengjiaqi-m2/OSWorld-G/layout_crawling/systhesis/cropped_data_v4/cropped_images/c84374907c6927a292b81dd717155456.png'): can't open/read file: check file path/integrity\n",
      "[ WARN:11@194.768] global loadsave.cpp:241 findDecoder imread_('/mnt/moonfs/dengjiaqi-m2/OSWorld-G/layout_crawling/systhesis/cropped_data_v4/cropped_images/b9d428d3ea6761fa8023d1ede192f43e.png'): can't open/read file: check file path/integrity\n",
      "[ WARN:13@194.818] global loadsave.cpp:241 findDecoder imread_('/mnt/moonfs/dengjiaqi-m2/OSWorld-G/layout_crawling/systhesis/cropped_data_v4/cropped_images/a16bc569f3fe71813064068c2d26f0ae.png'): can't open/read file: check file path/integrity\n"
     ]
    },
    {
     "name": "stdout",
     "output_type": "stream",
     "text": [
      "处理图片 c84374907c6927a292b81dd717155456.png 时出错: 无法读取图片\n",
      "处理图片 b9d428d3ea6761fa8023d1ede192f43e.png 时出错: 无法读取图片\n",
      "处理图片 a16bc569f3fe71813064068c2d26f0ae.png 时出错: 无法读取图片\n"
     ]
    },
    {
     "name": "stderr",
     "output_type": "stream",
     "text": [
      "过滤图片:  59%|█████▊    | 73889/125807 [03:09<01:53, 458.17it/s][ WARN:0@195.731] global loadsave.cpp:241 findDecoder imread_('/mnt/moonfs/dengjiaqi-m2/OSWorld-G/layout_crawling/systhesis/cropped_data_v4/cropped_images/7fe8db803f9c15cdd2003dcebd8112f2.png'): can't open/read file: check file path/integrity\n",
      "[ WARN:14@195.744] global loadsave.cpp:241 findDecoder imread_('/mnt/moonfs/dengjiaqi-m2/OSWorld-G/layout_crawling/systhesis/cropped_data_v4/cropped_images/ee4085e0ecabedf64226cfa6b59949f6.png'): can't open/read file: check file path/integrity\n",
      "[ WARN:26@195.780] global loadsave.cpp:241 findDecoder imread_('/mnt/moonfs/dengjiaqi-m2/OSWorld-G/layout_crawling/systhesis/cropped_data_v4/cropped_images/6fd26640c6e00f21cbaf87caba6511c0.png'): can't open/read file: check file path/integrity\n",
      "过滤图片:  59%|█████▉    | 73983/125807 [03:10<02:00, 429.02it/s]"
     ]
    },
    {
     "name": "stdout",
     "output_type": "stream",
     "text": [
      "处理图片 7fe8db803f9c15cdd2003dcebd8112f2.png 时出错: 无法读取图片\n",
      "处理图片 ee4085e0ecabedf64226cfa6b59949f6.png 时出错: 无法读取图片\n",
      "处理图片 6fd26640c6e00f21cbaf87caba6511c0.png 时出错: 无法读取图片\n"
     ]
    },
    {
     "name": "stderr",
     "output_type": "stream",
     "text": [
      "过滤图片:  59%|█████▉    | 74615/125807 [03:11<01:56, 437.71it/s][ WARN:22@197.382] global loadsave.cpp:241 findDecoder imread_('/mnt/moonfs/dengjiaqi-m2/OSWorld-G/layout_crawling/systhesis/cropped_data_v4/cropped_images/1f5279927541c5689483156d56d1320e.png'): can't open/read file: check file path/integrity\n",
      "[ WARN:21@197.427] global loadsave.cpp:241 findDecoder imread_('/mnt/moonfs/dengjiaqi-m2/OSWorld-G/layout_crawling/systhesis/cropped_data_v4/cropped_images/b6fc287d2c738047d987922266afe07e.png'): can't open/read file: check file path/integrity\n",
      "[ WARN:12@197.498] global loadsave.cpp:241 findDecoder imread_('/mnt/moonfs/dengjiaqi-m2/OSWorld-G/layout_crawling/systhesis/cropped_data_v4/cropped_images/825e0adb6e5cdb0243c81b7b04c34584.png'): can't open/read file: check file path/integrity\n",
      "过滤图片:  59%|█████▉    | 74664/125807 [03:11<02:05, 408.94it/s]"
     ]
    },
    {
     "name": "stdout",
     "output_type": "stream",
     "text": [
      "处理图片 1f5279927541c5689483156d56d1320e.png 时出错: 无法读取图片\n",
      "处理图片 b6fc287d2c738047d987922266afe07e.png 时出错: 无法读取图片\n",
      "处理图片 825e0adb6e5cdb0243c81b7b04c34584.png 时出错: 无法读取图片\n"
     ]
    },
    {
     "name": "stderr",
     "output_type": "stream",
     "text": [
      "过滤图片:  59%|█████▉    | 74795/125807 [03:12<02:10, 391.15it/s][ WARN:31@197.909] global loadsave.cpp:241 findDecoder imread_('/mnt/moonfs/dengjiaqi-m2/OSWorld-G/layout_crawling/systhesis/cropped_data_v4/cropped_images/e1374ed157d764ebd547db73607cd898.png'): can't open/read file: check file path/integrity\n",
      "过滤图片:  60%|█████▉    | 74915/125807 [03:12<01:51, 457.78it/s]"
     ]
    },
    {
     "name": "stdout",
     "output_type": "stream",
     "text": [
      "处理图片 e1374ed157d764ebd547db73607cd898.png 时出错: 无法读取图片\n"
     ]
    },
    {
     "name": "stderr",
     "output_type": "stream",
     "text": [
      "过滤图片:  60%|█████▉    | 75118/125807 [03:12<01:41, 500.21it/s][ WARN:12@198.649] global loadsave.cpp:241 findDecoder imread_('/mnt/moonfs/dengjiaqi-m2/OSWorld-G/layout_crawling/systhesis/cropped_data_v4/cropped_images/a213a6c00606b802a04366894b7b24d0.png'): can't open/read file: check file path/integrity\n",
      "[ WARN:13@198.651] global loadsave.cpp:241 findDecoder imread_('/mnt/moonfs/dengjiaqi-m2/OSWorld-G/layout_crawling/systhesis/cropped_data_v4/cropped_images/362db9d46b2e474fb966d1ce5c9ef4d0.png'): can't open/read file: check file path/integrity\n",
      "[ WARN:0@198.655] global loadsave.cpp:241 findDecoder imread_('/mnt/moonfs/dengjiaqi-m2/OSWorld-G/layout_crawling/systhesis/cropped_data_v4/cropped_images/6f56883392459dae50510f4d392ecb8a.png'): can't open/read file: check file path/integrity\n",
      "[ WARN:12@198.674] global loadsave.cpp:241 findDecoder imread_('/mnt/moonfs/dengjiaqi-m2/OSWorld-G/layout_crawling/systhesis/cropped_data_v4/cropped_images/4026eb5c79f89adf7a107336fc42443b.png'): can't open/read file: check file path/integrity\n",
      "[ WARN:9@198.680] global loadsave.cpp:241 findDecoder imread_('/mnt/moonfs/dengjiaqi-m2/OSWorld-G/layout_crawling/systhesis/cropped_data_v4/cropped_images/86b5e0843259bced8ece04a8250a795a.png'): can't open/read file: check file path/integrity\n",
      "[ WARN:7@198.697] global loadsave.cpp:241 findDecoder imread_('/mnt/moonfs/dengjiaqi-m2/OSWorld-G/layout_crawling/systhesis/cropped_data_v4/cropped_images/01200e8c1b7cf90f334fc3788d6968fd.png'): can't open/read file: check file path/integrity\n",
      "[ WARN:0@198.720] global loadsave.cpp:241 findDecoder imread_('/mnt/moonfs/dengjiaqi-m2/OSWorld-G/layout_crawling/systhesis/cropped_data_v4/cropped_images/fc196a47ff3914c596b5fec4806b42bf.png'): can't open/read file: check file path/integrity\n",
      "[ WARN:29@198.722] global loadsave.cpp:241 findDecoder imread_('/mnt/moonfs/dengjiaqi-m2/OSWorld-G/layout_crawling/systhesis/cropped_data_v4/cropped_images/6ce1c47982dbb0a1caa891d2ab90d95b.png'): can't open/read file: check file path/integrity\n",
      "[ WARN:4@198.724] global loadsave.cpp:241 findDecoder imread_('/mnt/moonfs/dengjiaqi-m2/OSWorld-G/layout_crawling/systhesis/cropped_data_v4/cropped_images/c45046513d4877ad29dbb41486d45d97.png'): can't open/read file: check file path/integrity\n",
      "[ WARN:6@198.739] global loadsave.cpp:241 findDecoder imread_('/mnt/moonfs/dengjiaqi-m2/OSWorld-G/layout_crawling/systhesis/cropped_data_v4/cropped_images/13b328392e7bb69da009be5b0b352ba9.png'): can't open/read file: check file path/integrity\n",
      "[ WARN:3@198.745] global loadsave.cpp:241 findDecoder imread_('/mnt/moonfs/dengjiaqi-m2/OSWorld-G/layout_crawling/systhesis/cropped_data_v4/cropped_images/42746a77fca20945985a011d181e8fa3.png'): can't open/read file: check file path/integrity\n",
      "过滤图片:  60%|█████▉    | 75258/125807 [03:13<01:45, 477.52it/s]"
     ]
    },
    {
     "name": "stdout",
     "output_type": "stream",
     "text": [
      "处理图片 a213a6c00606b802a04366894b7b24d0.png 时出错: 无法读取图片\n",
      "处理图片 362db9d46b2e474fb966d1ce5c9ef4d0.png 时出错: 无法读取图片\n",
      "处理图片 6f56883392459dae50510f4d392ecb8a.png 时出错: 无法读取图片\n",
      "处理图片 4026eb5c79f89adf7a107336fc42443b.png 时出错: 无法读取图片\n",
      "处理图片 86b5e0843259bced8ece04a8250a795a.png 时出错: 无法读取图片\n",
      "处理图片 01200e8c1b7cf90f334fc3788d6968fd.png 时出错: 无法读取图片\n",
      "处理图片 fc196a47ff3914c596b5fec4806b42bf.png 时出错: 无法读取图片\n",
      "处理图片 6ce1c47982dbb0a1caa891d2ab90d95b.png 时出错: 无法读取图片\n",
      "处理图片 c45046513d4877ad29dbb41486d45d97.png 时出错: 无法读取图片\n",
      "处理图片 13b328392e7bb69da009be5b0b352ba9.png 时出错: 无法读取图片\n",
      "处理图片 42746a77fca20945985a011d181e8fa3.png 时出错: 无法读取图片\n"
     ]
    },
    {
     "name": "stderr",
     "output_type": "stream",
     "text": [
      "过滤图片:  62%|██████▏   | 77471/125807 [03:18<01:36, 500.97it/s][ WARN:13@204.024] global loadsave.cpp:241 findDecoder imread_('/mnt/moonfs/dengjiaqi-m2/OSWorld-G/layout_crawling/systhesis/cropped_data_v4/cropped_images/02dfc02f4e9f5366a54f499ecbc0ed0d.png'): can't open/read file: check file path/integrity\n",
      "过滤图片:  62%|██████▏   | 77591/125807 [03:18<01:40, 479.00it/s]"
     ]
    },
    {
     "name": "stdout",
     "output_type": "stream",
     "text": [
      "处理图片 02dfc02f4e9f5366a54f499ecbc0ed0d.png 时出错: 无法读取图片\n"
     ]
    },
    {
     "name": "stderr",
     "output_type": "stream",
     "text": [
      "过滤图片:  67%|██████▋   | 84594/125807 [03:37<01:44, 395.14it/s][ WARN:8@224.042] global loadsave.cpp:241 findDecoder imread_('/mnt/moonfs/dengjiaqi-m2/OSWorld-G/layout_crawling/systhesis/cropped_data_v4/cropped_images/61a3bb90ba78c4a648820b73abfb8bd5.png'): can't open/read file: check file path/integrity\n",
      "过滤图片:  68%|██████▊   | 84985/125807 [03:38<01:13, 558.25it/s]"
     ]
    },
    {
     "name": "stdout",
     "output_type": "stream",
     "text": [
      "处理图片 61a3bb90ba78c4a648820b73abfb8bd5.png 时出错: 无法读取图片\n"
     ]
    },
    {
     "name": "stderr",
     "output_type": "stream",
     "text": [
      "过滤图片:  81%|████████  | 101507/125807 [04:15<00:49, 488.72it/s][ WARN:6@262.932] global loadsave.cpp:241 findDecoder imread_('/mnt/moonfs/dengjiaqi-m2/OSWorld-G/layout_crawling/systhesis/cropped_data_v4/cropped_images/4ff323e4ad41cf0ee1ea43e26ba1af71.png'): can't open/read file: check file path/integrity\n",
      "[ WARN:18@262.938] global loadsave.cpp:241 findDecoder imread_('/mnt/moonfs/dengjiaqi-m2/OSWorld-G/layout_crawling/systhesis/cropped_data_v4/cropped_images/425fb380416d670a3068cb4d5efdb323.png'): can't open/read file: check file path/integrity\n",
      "[ WARN:5@262.951] global loadsave.cpp:241 findDecoder imread_('/mnt/moonfs/dengjiaqi-m2/OSWorld-G/layout_crawling/systhesis/cropped_data_v4/cropped_images/5b9f8607e2d56e1ec43894fbcf779923.png'): can't open/read file: check file path/integrity\n"
     ]
    },
    {
     "name": "stdout",
     "output_type": "stream",
     "text": [
      "处理图片 4ff323e4ad41cf0ee1ea43e26ba1af71.png 时出错: 无法读取图片\n",
      "处理图片 425fb380416d670a3068cb4d5efdb323.png 时出错: 无法读取图片\n",
      "处理图片 5b9f8607e2d56e1ec43894fbcf779923.png 时出错: 无法读取图片\n"
     ]
    },
    {
     "name": "stderr",
     "output_type": "stream",
     "text": [
      "过滤图片:  82%|████████▏ | 102880/125807 [04:18<00:45, 501.75it/s][ WARN:7@264.565] global loadsave.cpp:241 findDecoder imread_('/mnt/moonfs/dengjiaqi-m2/OSWorld-G/layout_crawling/systhesis/cropped_data_v4/cropped_images/7518f2f7e6aca62896da7b87fadce385.png'): can't open/read file: check file path/integrity\n",
      "[ WARN:27@264.584] global loadsave.cpp:241 findDecoder imread_('/mnt/moonfs/dengjiaqi-m2/OSWorld-G/layout_crawling/systhesis/cropped_data_v4/cropped_images/2855adcab7e5e8d9bfd04476639c5bc5.png'): can't open/read file: check file path/integrity\n",
      "[ WARN:1@264.595] global loadsave.cpp:241 findDecoder imread_('/mnt/moonfs/dengjiaqi-m2/OSWorld-G/layout_crawling/systhesis/cropped_data_v4/cropped_images/4e6ed3dbcf1aadd765c61e1bcef43f1e.png'): can't open/read file: check file path/integrity\n",
      "过滤图片:  82%|████████▏ | 102985/125807 [04:18<00:43, 527.36it/s]"
     ]
    },
    {
     "name": "stdout",
     "output_type": "stream",
     "text": [
      "处理图片 7518f2f7e6aca62896da7b87fadce385.png 时出错: 无法读取图片\n",
      "处理图片 2855adcab7e5e8d9bfd04476639c5bc5.png 时出错: 无法读取图片\n",
      "处理图片 4e6ed3dbcf1aadd765c61e1bcef43f1e.png 时出错: 无法读取图片\n"
     ]
    },
    {
     "name": "stderr",
     "output_type": "stream",
     "text": [
      "过滤图片:  83%|████████▎ | 104171/125807 [04:21<00:48, 447.89it/s][ WARN:14@267.408] global loadsave.cpp:241 findDecoder imread_('/mnt/moonfs/dengjiaqi-m2/OSWorld-G/layout_crawling/systhesis/cropped_data_v4/cropped_images/4f47cde52cd9ae7952492637d40399d7.png'): can't open/read file: check file path/integrity\n",
      "[ WARN:18@267.416] global loadsave.cpp:241 findDecoder imread_('/mnt/moonfs/dengjiaqi-m2/OSWorld-G/layout_crawling/systhesis/cropped_data_v4/cropped_images/a044815351ad9c63e2638c4802afdfed.png'): can't open/read file: check file path/integrity\n",
      "[ WARN:3@267.445] global loadsave.cpp:241 findDecoder imread_('/mnt/moonfs/dengjiaqi-m2/OSWorld-G/layout_crawling/systhesis/cropped_data_v4/cropped_images/b6f880c845645f7801a7a24a6c8419d8.png'): can't open/read file: check file path/integrity\n",
      "过滤图片:  83%|████████▎ | 104224/125807 [04:21<00:52, 411.67it/s]"
     ]
    },
    {
     "name": "stdout",
     "output_type": "stream",
     "text": [
      "处理图片 4f47cde52cd9ae7952492637d40399d7.png 时出错: 无法读取图片\n",
      "处理图片 a044815351ad9c63e2638c4802afdfed.png 时出错: 无法读取图片\n",
      "处理图片 b6f880c845645f7801a7a24a6c8419d8.png 时出错: 无法读取图片\n"
     ]
    },
    {
     "name": "stderr",
     "output_type": "stream",
     "text": [
      "过滤图片:  83%|████████▎ | 104271/125807 [04:22<01:00, 354.19it/s][ WARN:30@267.799] global loadsave.cpp:241 findDecoder imread_('/mnt/moonfs/dengjiaqi-m2/OSWorld-G/layout_crawling/systhesis/cropped_data_v4/cropped_images/43463b785d8c326577a0067d69f46aa6.png'): can't open/read file: check file path/integrity\n",
      "[ WARN:5@267.840] global loadsave.cpp:241 findDecoder imread_('/mnt/moonfs/dengjiaqi-m2/OSWorld-G/layout_crawling/systhesis/cropped_data_v4/cropped_images/78f886b46b39462dd6fb32a45f2bcf96.png'): can't open/read file: check file path/integrity\n",
      "[ WARN:6@267.879] global loadsave.cpp:241 findDecoder imread_('/mnt/moonfs/dengjiaqi-m2/OSWorld-G/layout_crawling/systhesis/cropped_data_v4/cropped_images/4d8b0cf19d01d0884e525f04bab2627d.png'): can't open/read file: check file path/integrity\n"
     ]
    },
    {
     "name": "stdout",
     "output_type": "stream",
     "text": [
      "处理图片 43463b785d8c326577a0067d69f46aa6.png 时出错: 无法读取图片\n",
      "处理图片 78f886b46b39462dd6fb32a45f2bcf96.png 时出错: 无法读取图片\n",
      "处理图片 4d8b0cf19d01d0884e525f04bab2627d.png 时出错: 无法读取图片\n"
     ]
    },
    {
     "name": "stderr",
     "output_type": "stream",
     "text": [
      "过滤图片:  83%|████████▎ | 104366/125807 [04:22<00:58, 363.92it/s][ WARN:29@268.016] global loadsave.cpp:241 findDecoder imread_('/mnt/moonfs/dengjiaqi-m2/OSWorld-G/layout_crawling/systhesis/cropped_data_v4/cropped_images/9e957a283dc012e212952426cca03fee.png'): can't open/read file: check file path/integrity\n",
      "[ WARN:21@268.019] global loadsave.cpp:241 findDecoder imread_('/mnt/moonfs/dengjiaqi-m2/OSWorld-G/layout_crawling/systhesis/cropped_data_v4/cropped_images/48552c05f738ceeff433e331941b94a9.png'): can't open/read file: check file path/integrity\n",
      "[ WARN:20@268.029] global loadsave.cpp:241 findDecoder imread_('/mnt/moonfs/dengjiaqi-m2/OSWorld-G/layout_crawling/systhesis/cropped_data_v4/cropped_images/86d3b202687ffe8ffa09ea3af578e990.png'): can't open/read file: check file path/integrity\n",
      "过滤图片:  83%|████████▎ | 104440/125807 [04:22<00:50, 423.50it/s]"
     ]
    },
    {
     "name": "stdout",
     "output_type": "stream",
     "text": [
      "处理图片 9e957a283dc012e212952426cca03fee.png 时出错: 无法读取图片\n",
      "处理图片 48552c05f738ceeff433e331941b94a9.png 时出错: 无法读取图片\n",
      "处理图片 86d3b202687ffe8ffa09ea3af578e990.png 时出错: 无法读取图片\n"
     ]
    },
    {
     "name": "stderr",
     "output_type": "stream",
     "text": [
      "过滤图片:  83%|████████▎ | 104525/125807 [04:22<00:43, 487.07it/s][ WARN:26@269.185] global loadsave.cpp:241 findDecoder imread_('/mnt/moonfs/dengjiaqi-m2/OSWorld-G/layout_crawling/systhesis/cropped_data_v4/cropped_images/9ed798ce45a066309412489d0dfdca3d.png'): can't open/read file: check file path/integrity\n",
      "[ WARN:8@269.192] global loadsave.cpp:241 findDecoder imread_('/mnt/moonfs/dengjiaqi-m2/OSWorld-G/layout_crawling/systhesis/cropped_data_v4/cropped_images/08f53739b01bf8783418bc5bbb4c1fed.png'): can't open/read file: check file path/integrity\n",
      "[ WARN:0@269.195] global loadsave.cpp:241 findDecoder imread_('/mnt/moonfs/dengjiaqi-m2/OSWorld-G/layout_crawling/systhesis/cropped_data_v4/cropped_images/2881605b0459045568a4ba56d775d472.png'): can't open/read file: check file path/integrity\n"
     ]
    },
    {
     "name": "stdout",
     "output_type": "stream",
     "text": [
      "处理图片 9ed798ce45a066309412489d0dfdca3d.png 时出错: 无法读取图片处理图片 08f53739b01bf8783418bc5bbb4c1fed.png 时出错: 无法读取图片\n",
      "处理图片 2881605b0459045568a4ba56d775d472.png 时出错: 无法读取图片\n",
      "\n"
     ]
    },
    {
     "name": "stderr",
     "output_type": "stream",
     "text": [
      "过滤图片:  84%|████████▎ | 105284/125807 [04:24<00:41, 489.50it/s][ WARN:16@270.128] global loadsave.cpp:241 findDecoder imread_('/mnt/moonfs/dengjiaqi-m2/OSWorld-G/layout_crawling/systhesis/cropped_data_v4/cropped_images/184aabb3f1968f27f33ac0309f1fe9a8.png'): can't open/read file: check file path/integrity\n",
      "[ WARN:23@270.134] global loadsave.cpp:241 findDecoder imread_('/mnt/moonfs/dengjiaqi-m2/OSWorld-G/layout_crawling/systhesis/cropped_data_v4/cropped_images/a50022ae6ab9713c83c97120732c2b68.png'): can't open/read file: check file path/integrity\n",
      "[ WARN:9@270.137] global loadsave.cpp:241 findDecoder imread_('/mnt/moonfs/dengjiaqi-m2/OSWorld-G/layout_crawling/systhesis/cropped_data_v4/cropped_images/de11398520cf2a22472a2232dd8e2dba.png'): can't open/read file: check file path/integrity\n",
      "[ WARN:31@270.165] global loadsave.cpp:241 findDecoder imread_('/mnt/moonfs/dengjiaqi-m2/OSWorld-G/layout_crawling/systhesis/cropped_data_v4/cropped_images/8edfbc0aadc729d570922901a5cfebbf.png'): can't open/read file: check file path/integrity\n",
      "[ WARN:26@270.175] global loadsave.cpp:241 findDecoder imread_('/mnt/moonfs/dengjiaqi-m2/OSWorld-G/layout_crawling/systhesis/cropped_data_v4/cropped_images/e612545651a768052e018be2b4e80190.png'): can't open/read file: check file path/integrity\n"
     ]
    },
    {
     "name": "stdout",
     "output_type": "stream",
     "text": [
      "处理图片 184aabb3f1968f27f33ac0309f1fe9a8.png 时出错: 无法读取图片\n",
      "处理图片 a50022ae6ab9713c83c97120732c2b68.png 时出错: 无法读取图片\n",
      "处理图片 de11398520cf2a22472a2232dd8e2dba.png 时出错: 无法读取图片\n",
      "处理图片 8edfbc0aadc729d570922901a5cfebbf.png 时出错: 无法读取图片\n",
      "处理图片 e612545651a768052e018be2b4e80190.png 时出错: 无法读取图片\n"
     ]
    },
    {
     "name": "stderr",
     "output_type": "stream",
     "text": [
      "过滤图片:  84%|████████▍ | 105717/125807 [04:25<00:45, 445.19it/s][ WARN:15@271.358] global loadsave.cpp:241 findDecoder imread_('/mnt/moonfs/dengjiaqi-m2/OSWorld-G/layout_crawling/systhesis/cropped_data_v4/cropped_images/1e8d86cd4de0ab3de466b19d8d5eeec9.png'): can't open/read file: check file path/integrity\n",
      "[ WARN:12@271.360] global loadsave.cpp:241 findDecoder imread_('/mnt/moonfs/dengjiaqi-m2/OSWorld-G/layout_crawling/systhesis/cropped_data_v4/cropped_images/15552827795f7cc8d34587601f929a75.png'): can't open/read file: check file path/integrity\n",
      "[ WARN:1@271.387] global loadsave.cpp:241 findDecoder imread_('/mnt/moonfs/dengjiaqi-m2/OSWorld-G/layout_crawling/systhesis/cropped_data_v4/cropped_images/4ae3710ae434918bebb53aa08ccd55bc.png'): can't open/read file: check file path/integrity\n",
      "[ WARN:24@271.421] global loadsave.cpp:241 findDecoder imread_('/mnt/moonfs/dengjiaqi-m2/OSWorld-G/layout_crawling/systhesis/cropped_data_v4/cropped_images/9ce8046b5f2dd36cced4e18f8cc71a86.png'): can't open/read file: check file path/integrity\n",
      "[ WARN:19@271.436] global loadsave.cpp:241 findDecoder imread_('/mnt/moonfs/dengjiaqi-m2/OSWorld-G/layout_crawling/systhesis/cropped_data_v4/cropped_images/fd29b7216c96ae81b4d54ef5180764fd.png'): can't open/read file: check file path/integrity\n",
      "过滤图片:  84%|████████▍ | 105803/125807 [04:25<00:46, 431.73it/s]"
     ]
    },
    {
     "name": "stdout",
     "output_type": "stream",
     "text": [
      "处理图片 1e8d86cd4de0ab3de466b19d8d5eeec9.png 时出错: 无法读取图片\n",
      "处理图片 15552827795f7cc8d34587601f929a75.png 时出错: 无法读取图片\n",
      "处理图片 4ae3710ae434918bebb53aa08ccd55bc.png 时出错: 无法读取图片\n",
      "处理图片 9ce8046b5f2dd36cced4e18f8cc71a86.png 时出错: 无法读取图片\n",
      "处理图片 fd29b7216c96ae81b4d54ef5180764fd.png 时出错: 无法读取图片\n"
     ]
    },
    {
     "name": "stderr",
     "output_type": "stream",
     "text": [
      "过滤图片:  93%|█████████▎| 117023/125807 [04:50<00:19, 446.87it/s][ WARN:20@296.574] global loadsave.cpp:241 findDecoder imread_('/mnt/moonfs/dengjiaqi-m2/OSWorld-G/layout_crawling/systhesis/cropped_data_v4/cropped_images/c51527c24ef4c663ed8b681ac67ef77e.png'): can't open/read file: check file path/integrity\n",
      "过滤图片:  93%|█████████▎| 117100/125807 [04:50<00:19, 453.87it/s]"
     ]
    },
    {
     "name": "stdout",
     "output_type": "stream",
     "text": [
      "处理图片 c51527c24ef4c663ed8b681ac67ef77e.png 时出错: 无法读取图片\n"
     ]
    },
    {
     "name": "stderr",
     "output_type": "stream",
     "text": [
      "过滤图片:  98%|█████████▊| 122719/125807 [05:05<00:09, 312.99it/s]"
     ]
    },
    {
     "name": "stdout",
     "output_type": "stream",
     "text": [
      "处理图片 b5a1d3be9e98afd8e0bf74b7a2a89554.png 时出错: 无法读取图片\n",
      "处理图片 9652e8c81539259a2fc1943812ba1fe5.png 时出错: 无法读取图片\n",
      "处理图片 df4936aa09b624f34aff55625d57d87a.png 时出错: 无法读取图片\n",
      "处理图片 8501249f4ae4c4dcc2a1451513d6e11c.png 时出错: 无法读取图片\n",
      "处理图片 77942c4d646e6bba1df48ecb7db0e800.png 时出错: 无法读取图片\n",
      "处理图片 2680ffe91019566bb2b65d5d3b2a7040.png 时出错: 无法读取图片\n"
     ]
    },
    {
     "name": "stderr",
     "output_type": "stream",
     "text": [
      "[ WARN:24@311.250] global loadsave.cpp:241 findDecoder imread_('/mnt/moonfs/dengjiaqi-m2/OSWorld-G/layout_crawling/systhesis/cropped_data_v4/cropped_images/b5a1d3be9e98afd8e0bf74b7a2a89554.png'): can't open/read file: check file path/integrity\n",
      "[ WARN:0@311.254] global loadsave.cpp:241 findDecoder imread_('/mnt/moonfs/dengjiaqi-m2/OSWorld-G/layout_crawling/systhesis/cropped_data_v4/cropped_images/9652e8c81539259a2fc1943812ba1fe5.png'): can't open/read file: check file path/integrity\n",
      "[ WARN:25@311.257] global loadsave.cpp:241 findDecoder imread_('/mnt/moonfs/dengjiaqi-m2/OSWorld-G/layout_crawling/systhesis/cropped_data_v4/cropped_images/df4936aa09b624f34aff55625d57d87a.png'): can't open/read file: check file path/integrity\n",
      "[ WARN:21@311.267] global loadsave.cpp:241 findDecoder imread_('/mnt/moonfs/dengjiaqi-m2/OSWorld-G/layout_crawling/systhesis/cropped_data_v4/cropped_images/8501249f4ae4c4dcc2a1451513d6e11c.png'): can't open/read file: check file path/integrity\n",
      "[ WARN:3@311.282] global loadsave.cpp:241 findDecoder imread_('/mnt/moonfs/dengjiaqi-m2/OSWorld-G/layout_crawling/systhesis/cropped_data_v4/cropped_images/77942c4d646e6bba1df48ecb7db0e800.png'): can't open/read file: check file path/integrity\n",
      "[ WARN:31@311.284] global loadsave.cpp:241 findDecoder imread_('/mnt/moonfs/dengjiaqi-m2/OSWorld-G/layout_crawling/systhesis/cropped_data_v4/cropped_images/2680ffe91019566bb2b65d5d3b2a7040.png'): can't open/read file: check file path/integrity\n",
      "过滤图片:  98%|█████████▊| 122881/125807 [05:05<00:10, 285.78it/s]"
     ]
    },
    {
     "name": "stdout",
     "output_type": "stream",
     "text": [
      "处理图片 643d3544afe981ad2e3a0485dad1b728.png 时出错: 无法读取图片\n",
      "处理图片 16d0c2519ac151b5bd4df9cdc146d068.png 时出错: 无法读取图片\n",
      "处理图片 13d0a47008d513254a2628fea1217552.png 时出错: 无法读取图片\n",
      "处理图片 e30d1058478fe2729d192d49fff2b6c2.png 时出错: 无法读取图片\n",
      "处理图片 48cf02a6adfceb319a77a17b57ea6ce8.png 时出错: 无法读取图片\n",
      "处理图片 7f8f9ea991ebd29bc09fe6faad8b180c.png 时出错: 无法读取图片\n",
      "处理图片 521c7304b620523621ce95888f0dc072.png 时出错: 无法读取图片\n",
      "处理图片 27f28644ba3e875a6142d79eeb79d47a.png 时出错: 无法读取图片\n",
      "处理图片 1768f328926c10e8be7a13b03b565cb4.png 时出错: 无法读取图片\n",
      "处理图片 822a5b631bcafab4ad381bbf5a5c42cb.png 时出错: 无法读取图片\n",
      "处理图片 c961441ee73671ff62d2a5f60a488e88.png 时出错: 无法读取图片\n",
      "处理图片 8085accf6e33326e5a81d4b749fd3f5f.png 时出错: 无法读取图片\n",
      "处理图片 e1aebf28e0e36089894d1198963b4f40.png 时出错: 无法读取图片\n",
      "处理图片 d21f2adbe350d10b09b85553eabf56fb.png 时出错: 无法读取图片\n",
      "处理图片 7af013260ded354c657fae7583fb1844.png 时出错: 无法读取图片\n",
      "处理图片 e0f4468ec399d91eb448d31051be1d25.png 时出错: 无法读取图片\n",
      "处理图片 511ae8b4987391bfe5def3e2041d77ef.png 时出错: 无法读取图片\n",
      "处理图片 fd3e5232a63a5372e0f4bd627c8da7c9.png 时出错: 无法读取图片\n",
      "处理图片 152ae188f067dc8a266756fa07cf811e.png 时出错: 无法读取图片\n",
      "处理图片 9605a9b8a7febdda48ea3939805750dd.png 时出错: 无法读取图片\n",
      "处理图片 3731d171f8a2e602319de12f242243e6.png 时出错: 无法读取图片\n",
      "处理图片 bccd0d7df626a1f4984355079039f2e4.png 时出错: 无法读取图片\n",
      "处理图片 c3b71613738333adf162657973fe53eb.png 时出错: 无法读取图片\n",
      "处理图片 3af475f56477658cf96c4089b8eada3d.png 时出错: 无法读取图片\n",
      "处理图片 c55c24e9b3a9d8c4d66a674f7339e895.png 时出错: 无法读取图片\n",
      "处理图片 ac3452ad7f234dfc51a5326b2b91503b.png 时出错: 无法读取图片\n",
      "处理图片 069591d1061d9f30e37ed1c5ace32579.png 时出错: 无法读取图片\n",
      "处理图片 391282c3d49ebdb0826405a9c0785454.png 时出错: 无法读取图片\n",
      "处理图片 ad47d8ef1643c78cc3687357d1cf7755.png 时出错: 无法读取图片\n",
      "处理图片 7ba686b088dc235248d7673db79f0a98.png 时出错: 无法读取图片\n",
      "处理图片 b64de953e74d704ed1720a1a4bc79e28.png 时出错: 无法读取图片\n",
      "处理图片 796b7943783f8c8bdd68589578506931.png 时出错: 无法读取图片\n",
      "处理图片 0654a8bf324c82b01da632123c9d2e72.png 时出错: 无法读取图片\n",
      "处理图片 323fa5fd938aae9eaa1e170f3d5073e8.png 时出错: 无法读取图片\n",
      "处理图片 905a63f5a9ba423008fbef6f0e7af92c.png 时出错: 无法读取图片\n",
      "处理图片 0e86d59f8d22d8596cfbb3da79f7953d.png 时出错: 无法读取图片\n",
      "处理图片 e5b9c491b1562aafeed11fa60d14d854.png 时出错: 无法读取图片\n",
      "处理图片 32e0975c99a0bc10766c932055349fbb.png 时出错: 无法读取图片\n",
      "处理图片 1aef125bc6f182a7589afa6d53cc9fe2.png 时出错: 无法读取图片\n",
      "处理图片 16698fa6e69a46bc76a0a5a9b0b39dc8.png 时出错: 无法读取图片\n",
      "处理图片 5a7bbe2971ff9b8c2c1f2f71099f1680.png 时出错: 无法读取图片\n",
      "处理图片 63d1d8f4fcee7f1a4390a055e1a6224e.png 时出错: 无法读取图片\n",
      "处理图片 0d7a3f4d6164d1be56484fc97c4cc3d9.png 时出错: 无法读取图片\n",
      "处理图片 b0eaa9471b1b4340f61df5f23cac1051.png 时出错: 无法读取图片\n",
      "处理图片 a7136ee6b91637e0a393619d20a07db6.png 时出错: 无法读取图片\n",
      "处理图片 b93cd9cb6eb29f4bb002c4d1503e9c7d.png 时出错: 无法读取图片\n",
      "处理图片 9c42eb03fa3deb273785fd333a39dc37.png 时出错: 无法读取图片\n",
      "处理图片 d7a17642bcc89e114ce2143802a4848e.png 时出错: 无法读取图片\n",
      "处理图片 f020ca6f0fdfe0f84284935aeca30f86.png 时出错: 无法读取图片\n"
     ]
    },
    {
     "name": "stderr",
     "output_type": "stream",
     "text": [
      "[ WARN:0@312.060] global loadsave.cpp:241 findDecoder imread_('/mnt/moonfs/dengjiaqi-m2/OSWorld-G/layout_crawling/systhesis/cropped_data_v4/cropped_images/643d3544afe981ad2e3a0485dad1b728.png'): can't open/read file: check file path/integrity\n",
      "[ WARN:15@312.063] global loadsave.cpp:241 findDecoder imread_('/mnt/moonfs/dengjiaqi-m2/OSWorld-G/layout_crawling/systhesis/cropped_data_v4/cropped_images/16d0c2519ac151b5bd4df9cdc146d068.png'): can't open/read file: check file path/integrity\n",
      "[ WARN:30@312.078] global loadsave.cpp:241 findDecoder imread_('/mnt/moonfs/dengjiaqi-m2/OSWorld-G/layout_crawling/systhesis/cropped_data_v4/cropped_images/48cf02a6adfceb319a77a17b57ea6ce8.png'): can't open/read file: check file path/integrity\n",
      "[ WARN:27@312.081] global loadsave.cpp:241 findDecoder imread_('/mnt/moonfs/dengjiaqi-m2/OSWorld-G/layout_crawling/systhesis/cropped_data_v4/cropped_images/7f8f9ea991ebd29bc09fe6faad8b180c.png'): can't open/read file: check file path/integrity\n",
      "[ WARN:14@312.083] global loadsave.cpp:241 findDecoder imread_('/mnt/moonfs/dengjiaqi-m2/OSWorld-G/layout_crawling/systhesis/cropped_data_v4/cropped_images/13d0a47008d513254a2628fea1217552.png'): can't open/read file: check file path/integrity\n",
      "[ WARN:9@312.087] global loadsave.cpp:241 findDecoder imread_('/mnt/moonfs/dengjiaqi-m2/OSWorld-G/layout_crawling/systhesis/cropped_data_v4/cropped_images/e30d1058478fe2729d192d49fff2b6c2.png'): can't open/read file: check file path/integrity\n",
      "[ WARN:25@312.092] global loadsave.cpp:241 findDecoder imread_('/mnt/moonfs/dengjiaqi-m2/OSWorld-G/layout_crawling/systhesis/cropped_data_v4/cropped_images/521c7304b620523621ce95888f0dc072.png'): can't open/read file: check file path/integrity\n",
      "[ WARN:13@312.100] global loadsave.cpp:241 findDecoder imread_('/mnt/moonfs/dengjiaqi-m2/OSWorld-G/layout_crawling/systhesis/cropped_data_v4/cropped_images/27f28644ba3e875a6142d79eeb79d47a.png'): can't open/read file: check file path/integrity\n",
      "[ WARN:31@312.107] global loadsave.cpp:241 findDecoder imread_('/mnt/moonfs/dengjiaqi-m2/OSWorld-G/layout_crawling/systhesis/cropped_data_v4/cropped_images/1768f328926c10e8be7a13b03b565cb4.png'): can't open/read file: check file path/integrity\n",
      "[ WARN:19@312.109] global loadsave.cpp:241 findDecoder imread_('/mnt/moonfs/dengjiaqi-m2/OSWorld-G/layout_crawling/systhesis/cropped_data_v4/cropped_images/822a5b631bcafab4ad381bbf5a5c42cb.png'): can't open/read file: check file path/integrity\n",
      "[ WARN:14@312.116] global loadsave.cpp:241 findDecoder imread_('/mnt/moonfs/dengjiaqi-m2/OSWorld-G/layout_crawling/systhesis/cropped_data_v4/cropped_images/c961441ee73671ff62d2a5f60a488e88.png'): can't open/read file: check file path/integrity\n",
      "[ WARN:9@312.118] global loadsave.cpp:241 findDecoder imread_('/mnt/moonfs/dengjiaqi-m2/OSWorld-G/layout_crawling/systhesis/cropped_data_v4/cropped_images/8085accf6e33326e5a81d4b749fd3f5f.png'): can't open/read file: check file path/integrity\n",
      "[ WARN:18@312.127] global loadsave.cpp:241 findDecoder imread_('/mnt/moonfs/dengjiaqi-m2/OSWorld-G/layout_crawling/systhesis/cropped_data_v4/cropped_images/e1aebf28e0e36089894d1198963b4f40.png'): can't open/read file: check file path/integrity\n",
      "[ WARN:17@312.138] global loadsave.cpp:241 findDecoder imread_('/mnt/moonfs/dengjiaqi-m2/OSWorld-G/layout_crawling/systhesis/cropped_data_v4/cropped_images/d21f2adbe350d10b09b85553eabf56fb.png'): can't open/read file: check file path/integrity\n",
      "[ WARN:24@312.140] global loadsave.cpp:241 findDecoder imread_('/mnt/moonfs/dengjiaqi-m2/OSWorld-G/layout_crawling/systhesis/cropped_data_v4/cropped_images/7af013260ded354c657fae7583fb1844.png'): can't open/read file: check file path/integrity\n",
      "[ WARN:26@312.142] global loadsave.cpp:241 findDecoder imread_('/mnt/moonfs/dengjiaqi-m2/OSWorld-G/layout_crawling/systhesis/cropped_data_v4/cropped_images/e0f4468ec399d91eb448d31051be1d25.png'): can't open/read file: check file path/integrity\n",
      "[ WARN:25@312.146] global loadsave.cpp:241 findDecoder imread_('/mnt/moonfs/dengjiaqi-m2/OSWorld-G/layout_crawling/systhesis/cropped_data_v4/cropped_images/511ae8b4987391bfe5def3e2041d77ef.png'): can't open/read file: check file path/integrity\n",
      "[ WARN:27@312.149] global loadsave.cpp:241 findDecoder imread_('/mnt/moonfs/dengjiaqi-m2/OSWorld-G/layout_crawling/systhesis/cropped_data_v4/cropped_images/fd3e5232a63a5372e0f4bd627c8da7c9.png'): can't open/read file: check file path/integrity\n",
      "[ WARN:31@312.152] global loadsave.cpp:241 findDecoder imread_('/mnt/moonfs/dengjiaqi-m2/OSWorld-G/layout_crawling/systhesis/cropped_data_v4/cropped_images/152ae188f067dc8a266756fa07cf811e.png'): can't open/read file: check file path/integrity\n",
      "[ WARN:29@312.154] global loadsave.cpp:241 findDecoder imread_('/mnt/moonfs/dengjiaqi-m2/OSWorld-G/layout_crawling/systhesis/cropped_data_v4/cropped_images/9605a9b8a7febdda48ea3939805750dd.png'): can't open/read file: check file path/integrity\n",
      "[ WARN:30@312.156] global loadsave.cpp:241 findDecoder imread_('/mnt/moonfs/dengjiaqi-m2/OSWorld-G/layout_crawling/systhesis/cropped_data_v4/cropped_images/3731d171f8a2e602319de12f242243e6.png'): can't open/read file: check file path/integrity\n",
      "[ WARN:3@312.159] global loadsave.cpp:241 findDecoder imread_('/mnt/moonfs/dengjiaqi-m2/OSWorld-G/layout_crawling/systhesis/cropped_data_v4/cropped_images/bccd0d7df626a1f4984355079039f2e4.png'): can't open/read file: check file path/integrity\n",
      "[ WARN:16@312.161] global loadsave.cpp:241 findDecoder imread_('/mnt/moonfs/dengjiaqi-m2/OSWorld-G/layout_crawling/systhesis/cropped_data_v4/cropped_images/c3b71613738333adf162657973fe53eb.png'): can't open/read file: check file path/integrity\n",
      "[ WARN:23@312.165] global loadsave.cpp:241 findDecoder imread_('/mnt/moonfs/dengjiaqi-m2/OSWorld-G/layout_crawling/systhesis/cropped_data_v4/cropped_images/3af475f56477658cf96c4089b8eada3d.png'): can't open/read file: check file path/integrity\n",
      "[ WARN:5@312.167] global loadsave.cpp:241 findDecoder imread_('/mnt/moonfs/dengjiaqi-m2/OSWorld-G/layout_crawling/systhesis/cropped_data_v4/cropped_images/c55c24e9b3a9d8c4d66a674f7339e895.png'): can't open/read file: check file path/integrity\n",
      "[ WARN:0@312.169] global loadsave.cpp:241 findDecoder imread_('/mnt/moonfs/dengjiaqi-m2/OSWorld-G/layout_crawling/systhesis/cropped_data_v4/cropped_images/ac3452ad7f234dfc51a5326b2b91503b.png'): can't open/read file: check file path/integrity\n",
      "[ WARN:27@312.174] global loadsave.cpp:241 findDecoder imread_('/mnt/moonfs/dengjiaqi-m2/OSWorld-G/layout_crawling/systhesis/cropped_data_v4/cropped_images/069591d1061d9f30e37ed1c5ace32579.png'): can't open/read file: check file path/integrity\n",
      "[ WARN:18@312.180] global loadsave.cpp:241 findDecoder imread_('/mnt/moonfs/dengjiaqi-m2/OSWorld-G/layout_crawling/systhesis/cropped_data_v4/cropped_images/391282c3d49ebdb0826405a9c0785454.png'): can't open/read file: check file path/integrity\n",
      "[ WARN:17@312.181] global loadsave.cpp:241 findDecoder imread_('/mnt/moonfs/dengjiaqi-m2/OSWorld-G/layout_crawling/systhesis/cropped_data_v4/cropped_images/ad47d8ef1643c78cc3687357d1cf7755.png'): can't open/read file: check file path/integrity\n",
      "[ WARN:26@312.185] global loadsave.cpp:241 findDecoder imread_('/mnt/moonfs/dengjiaqi-m2/OSWorld-G/layout_crawling/systhesis/cropped_data_v4/cropped_images/7ba686b088dc235248d7673db79f0a98.png'): can't open/read file: check file path/integrity\n",
      "[ WARN:19@312.187] global loadsave.cpp:241 findDecoder imread_('/mnt/moonfs/dengjiaqi-m2/OSWorld-G/layout_crawling/systhesis/cropped_data_v4/cropped_images/b64de953e74d704ed1720a1a4bc79e28.png'): can't open/read file: check file path/integrity\n",
      "[ WARN:25@312.189] global loadsave.cpp:241 findDecoder imread_('/mnt/moonfs/dengjiaqi-m2/OSWorld-G/layout_crawling/systhesis/cropped_data_v4/cropped_images/796b7943783f8c8bdd68589578506931.png'): can't open/read file: check file path/integrity\n",
      "[ WARN:3@312.191] global loadsave.cpp:241 findDecoder imread_('/mnt/moonfs/dengjiaqi-m2/OSWorld-G/layout_crawling/systhesis/cropped_data_v4/cropped_images/0654a8bf324c82b01da632123c9d2e72.png'): can't open/read file: check file path/integrity\n",
      "[ WARN:14@312.193] global loadsave.cpp:241 findDecoder imread_('/mnt/moonfs/dengjiaqi-m2/OSWorld-G/layout_crawling/systhesis/cropped_data_v4/cropped_images/323fa5fd938aae9eaa1e170f3d5073e8.png'): can't open/read file: check file path/integrity\n",
      "[ WARN:24@312.195] global loadsave.cpp:241 findDecoder imread_('/mnt/moonfs/dengjiaqi-m2/OSWorld-G/layout_crawling/systhesis/cropped_data_v4/cropped_images/905a63f5a9ba423008fbef6f0e7af92c.png'): can't open/read file: check file path/integrity\n",
      "[ WARN:21@312.198] global loadsave.cpp:241 findDecoder imread_('/mnt/moonfs/dengjiaqi-m2/OSWorld-G/layout_crawling/systhesis/cropped_data_v4/cropped_images/0e86d59f8d22d8596cfbb3da79f7953d.png'): can't open/read file: check file path/integrity\n",
      "[ WARN:31@312.202] global loadsave.cpp:241 findDecoder imread_('/mnt/moonfs/dengjiaqi-m2/OSWorld-G/layout_crawling/systhesis/cropped_data_v4/cropped_images/e5b9c491b1562aafeed11fa60d14d854.png'): can't open/read file: check file path/integrity\n",
      "[ WARN:20@312.206] global loadsave.cpp:241 findDecoder imread_('/mnt/moonfs/dengjiaqi-m2/OSWorld-G/layout_crawling/systhesis/cropped_data_v4/cropped_images/32e0975c99a0bc10766c932055349fbb.png'): can't open/read file: check file path/integrity\n",
      "[ WARN:27@312.215] global loadsave.cpp:241 findDecoder imread_('/mnt/moonfs/dengjiaqi-m2/OSWorld-G/layout_crawling/systhesis/cropped_data_v4/cropped_images/1aef125bc6f182a7589afa6d53cc9fe2.png'): can't open/read file: check file path/integrity\n",
      "[ WARN:5@312.217] global loadsave.cpp:241 findDecoder imread_('/mnt/moonfs/dengjiaqi-m2/OSWorld-G/layout_crawling/systhesis/cropped_data_v4/cropped_images/16698fa6e69a46bc76a0a5a9b0b39dc8.png'): can't open/read file: check file path/integrity\n",
      "[ WARN:18@312.219] global loadsave.cpp:241 findDecoder imread_('/mnt/moonfs/dengjiaqi-m2/OSWorld-G/layout_crawling/systhesis/cropped_data_v4/cropped_images/5a7bbe2971ff9b8c2c1f2f71099f1680.png'): can't open/read file: check file path/integrity\n",
      "[ WARN:8@312.228] global loadsave.cpp:241 findDecoder imread_('/mnt/moonfs/dengjiaqi-m2/OSWorld-G/layout_crawling/systhesis/cropped_data_v4/cropped_images/63d1d8f4fcee7f1a4390a055e1a6224e.png'): can't open/read file: check file path/integrity\n",
      "[ WARN:21@312.230] global loadsave.cpp:241 findDecoder imread_('/mnt/moonfs/dengjiaqi-m2/OSWorld-G/layout_crawling/systhesis/cropped_data_v4/cropped_images/0d7a3f4d6164d1be56484fc97c4cc3d9.png'): can't open/read file: check file path/integrity\n",
      "[ WARN:22@312.232] global loadsave.cpp:241 findDecoder imread_('/mnt/moonfs/dengjiaqi-m2/OSWorld-G/layout_crawling/systhesis/cropped_data_v4/cropped_images/b0eaa9471b1b4340f61df5f23cac1051.png'): can't open/read file: check file path/integrity\n",
      "[ WARN:25@312.241] global loadsave.cpp:241 findDecoder imread_('/mnt/moonfs/dengjiaqi-m2/OSWorld-G/layout_crawling/systhesis/cropped_data_v4/cropped_images/a7136ee6b91637e0a393619d20a07db6.png'): can't open/read file: check file path/integrity\n",
      "[ WARN:14@312.249] global loadsave.cpp:241 findDecoder imread_('/mnt/moonfs/dengjiaqi-m2/OSWorld-G/layout_crawling/systhesis/cropped_data_v4/cropped_images/b93cd9cb6eb29f4bb002c4d1503e9c7d.png'): can't open/read file: check file path/integrity\n",
      "[ WARN:6@312.251] global loadsave.cpp:241 findDecoder imread_('/mnt/moonfs/dengjiaqi-m2/OSWorld-G/layout_crawling/systhesis/cropped_data_v4/cropped_images/9c42eb03fa3deb273785fd333a39dc37.png'): can't open/read file: check file path/integrity\n",
      "[ WARN:26@312.254] global loadsave.cpp:241 findDecoder imread_('/mnt/moonfs/dengjiaqi-m2/OSWorld-G/layout_crawling/systhesis/cropped_data_v4/cropped_images/d7a17642bcc89e114ce2143802a4848e.png'): can't open/read file: check file path/integrity\n",
      "[ WARN:30@312.258] global loadsave.cpp:241 findDecoder imread_('/mnt/moonfs/dengjiaqi-m2/OSWorld-G/layout_crawling/systhesis/cropped_data_v4/cropped_images/f020ca6f0fdfe0f84284935aeca30f86.png'): can't open/read file: check file path/integrity\n",
      "[ WARN:9@312.265] global loadsave.cpp:241 findDecoder imread_('/mnt/moonfs/dengjiaqi-m2/OSWorld-G/layout_crawling/systhesis/cropped_data_v4/cropped_images/eb9edb830732f48e5cdecf8cfbc2438b.png'): can't open/read file: check file path/integrity\n",
      "[ WARN:3@312.267] global loadsave.cpp:241 findDecoder imread_('/mnt/moonfs/dengjiaqi-m2/OSWorld-G/layout_crawling/systhesis/cropped_data_v4/cropped_images/d1bd2f6f09593d278336a5a4681151ea.png'): can't open/read file: check file path/integrity\n",
      "[ WARN:25@312.269] global loadsave.cpp:241 findDecoder imread_('/mnt/moonfs/dengjiaqi-m2/OSWorld-G/layout_crawling/systhesis/cropped_data_v4/cropped_images/efb1fa20eb44c73b3eff81b8ef14da51.png'): can't open/read file: check file path/integrity\n",
      "[ WARN:13@312.275] global loadsave.cpp:241 findDecoder imread_('/mnt/moonfs/dengjiaqi-m2/OSWorld-G/layout_crawling/systhesis/cropped_data_v4/cropped_images/e7cd5c200cfb12aee77eac094883bde4.png'): can't open/read file: check file path/integrity\n",
      "[ WARN:14@312.278] global loadsave.cpp:241 findDecoder imread_('/mnt/moonfs/dengjiaqi-m2/OSWorld-G/layout_crawling/systhesis/cropped_data_v4/cropped_images/c8e6ea4424a3bdd39a1fc7f759a71ffb.png'): can't open/read file: check file path/integrity\n",
      "[ WARN:6@312.284] global loadsave.cpp:241 findDecoder imread_('/mnt/moonfs/dengjiaqi-m2/OSWorld-G/layout_crawling/systhesis/cropped_data_v4/cropped_images/9b45bb2f76c2da50426b6f099916108f.png'): can't open/read file: check file path/integrity\n",
      "[ WARN:18@312.288] global loadsave.cpp:241 findDecoder imread_('/mnt/moonfs/dengjiaqi-m2/OSWorld-G/layout_crawling/systhesis/cropped_data_v4/cropped_images/1a6f1ce04cabcb333b917936e63854d5.png'): can't open/read file: check file path/integrity\n",
      "[ WARN:11@312.290] global loadsave.cpp:241 findDecoder imread_('/mnt/moonfs/dengjiaqi-m2/OSWorld-G/layout_crawling/systhesis/cropped_data_v4/cropped_images/59d4f51f9f70b92f56d986047a00c58b.png'): can't open/read file: check file path/integrity\n",
      "[ WARN:20@312.294] global loadsave.cpp:241 findDecoder imread_('/mnt/moonfs/dengjiaqi-m2/OSWorld-G/layout_crawling/systhesis/cropped_data_v4/cropped_images/e9b46b7809178a23309cd01eb91fc204.png'): can't open/read file: check file path/integrity\n",
      "[ WARN:5@312.299] global loadsave.cpp:241 findDecoder imread_('/mnt/moonfs/dengjiaqi-m2/OSWorld-G/layout_crawling/systhesis/cropped_data_v4/cropped_images/9ed1132e4c01af98ecd3d40e07c72a29.png'): can't open/read file: check file path/integrity\n",
      "[ WARN:29@312.303] global loadsave.cpp:241 findDecoder imread_('/mnt/moonfs/dengjiaqi-m2/OSWorld-G/layout_crawling/systhesis/cropped_data_v4/cropped_images/9cc9c399d16693de319ba9f7c9f15df3.png'): can't open/read file: check file path/integrity\n",
      "[ WARN:8@312.305] global loadsave.cpp:241 findDecoder imread_('/mnt/moonfs/dengjiaqi-m2/OSWorld-G/layout_crawling/systhesis/cropped_data_v4/cropped_images/45c9fd9826455eb7ae7596e904d68b9d.png'): can't open/read file: check file path/integrity\n",
      "[ WARN:21@312.309] global loadsave.cpp:241 findDecoder imread_('/mnt/moonfs/dengjiaqi-m2/OSWorld-G/layout_crawling/systhesis/cropped_data_v4/cropped_images/5c4da814ee4fecd427602f214213684e.png'): can't open/read file: check file path/integrity\n",
      "[ WARN:22@312.311] global loadsave.cpp:241 findDecoder imread_('/mnt/moonfs/dengjiaqi-m2/OSWorld-G/layout_crawling/systhesis/cropped_data_v4/cropped_images/528e4886d11d9be9c384d915cc0f82d8.png'): can't open/read file: check file path/integrity\n",
      "[ WARN:16@312.330] global loadsave.cpp:241 findDecoder imread_('/mnt/moonfs/dengjiaqi-m2/OSWorld-G/layout_crawling/systhesis/cropped_data_v4/cropped_images/6e7af37ba460b50ab768073788606435.png'): can't open/read file: check file path/integrity\n"
     ]
    },
    {
     "name": "stdout",
     "output_type": "stream",
     "text": [
      "处理图片 efb1fa20eb44c73b3eff81b8ef14da51.png 时出错: 无法读取图片\n",
      "处理图片 e7cd5c200cfb12aee77eac094883bde4.png 时出错: 无法读取图片\n",
      "处理图片 d1bd2f6f09593d278336a5a4681151ea.png 时出错: 无法读取图片\n",
      "处理图片 9cc9c399d16693de319ba9f7c9f15df3.png 时出错: 无法读取图片\n",
      "处理图片 c8e6ea4424a3bdd39a1fc7f759a71ffb.png 时出错: 无法读取图片\n",
      "处理图片 9ed1132e4c01af98ecd3d40e07c72a29.png 时出错: 无法读取图片\n",
      "处理图片 9b45bb2f76c2da50426b6f099916108f.png 时出错: 无法读取图片\n",
      "处理图片 e9b46b7809178a23309cd01eb91fc204.png 时出错: 无法读取图片\n",
      "处理图片 eb9edb830732f48e5cdecf8cfbc2438b.png 时出错: 无法读取图片\n",
      "处理图片 6e7af37ba460b50ab768073788606435.png 时出错: 无法读取图片\n",
      "处理图片 528e4886d11d9be9c384d915cc0f82d8.png 时出错: 无法读取图片\n",
      "处理图片 1a6f1ce04cabcb333b917936e63854d5.png 时出错: 无法读取图片\n",
      "处理图片 45c9fd9826455eb7ae7596e904d68b9d.png 时出错: 无法读取图片\n",
      "处理图片 59d4f51f9f70b92f56d986047a00c58b.png 时出错: 无法读取图片\n",
      "处理图片 5c4da814ee4fecd427602f214213684e.png 时出错: 无法读取图片\n"
     ]
    },
    {
     "name": "stderr",
     "output_type": "stream",
     "text": [
      "过滤图片:  98%|█████████▊| 123806/125807 [05:08<00:04, 434.30it/s][ WARN:30@314.278] global loadsave.cpp:241 findDecoder imread_('/mnt/moonfs/dengjiaqi-m2/OSWorld-G/layout_crawling/systhesis/cropped_data_v4/cropped_images/ff9cc903978d66d45d0c75d537f1dab0.png'): can't open/read file: check file path/integrity\n"
     ]
    },
    {
     "name": "stdout",
     "output_type": "stream",
     "text": [
      "处理图片 ff9cc903978d66d45d0c75d537f1dab0.png 时出错: 无法读取图片\n",
      "处理图片 b701dfe9a7fb53082f52a4e6cdff08d4.png 时出错: 无法读取图片\n",
      "处理图片 c73bf359292e30859be2a2b8eba90f59.png 时出错: 无法读取图片\n",
      "处理图片 3a3ff9f948fb4cb01c1ced8252d5da4b.png 时出错: 无法读取图片\n",
      "处理图片 ecf4a1dd923512888e829e3fcc006e9d.png 时出错: 无法读取图片\n",
      "处理图片 bf3c4109f26b5e8878ded8f234f03c02.png 时出错: 无法读取图片\n",
      "处理图片 c233ec191861c8a176ccd533119e7380.png 时出错: 无法读取图片\n",
      "处理图片 aa45c8f4750f65e77a25c50ef50dac75.png 时出错: 无法读取图片\n",
      "处理图片 ea6c833127ce95693b84f1ee095f9b24.png 时出错: 无法读取图片\n",
      "处理图片 957ffcf6382253fbe587fbc36b6f5588.png 时出错: 无法读取图片\n",
      "处理图片 daf988d4b959e1308851745ede4f1fc0.png 时出错: 无法读取图片\n",
      "处理图片 68d5e35f195d831787608e5ea4c2dcab.png 时出错: 无法读取图片\n",
      "处理图片 1b979edd70bed346ef6daa5ba1d388cd.png 时出错: 无法读取图片\n",
      "处理图片 078540a1e1e44cce08edc41a2fee57a3.png 时出错: 无法读取图片\n",
      "处理图片 2bab2280cc3533145dcd22f3c26b1a89.png 时出错: 无法读取图片\n",
      "处理图片 e7388c151f5d3fa3d6ce12635ae8e566.png 时出错: 无法读取图片\n",
      "处理图片 0d65799186eb463f283c87712836fcc0.png 时出错: 无法读取图片\n",
      "处理图片 6d1280f4f6af86b61656a7cddca0cf17.png 时出错: 无法读取图片\n",
      "处理图片 090f34376fd238a4c48f6edb42bb0511.png 时出错: 无法读取图片\n",
      "处理图片 a9b8e7a5193175477dcfe797df160c10.png 时出错: 无法读取图片\n",
      "处理图片 9a84852a53844fd09e365b40b16db159.png 时出错: 无法读取图片\n",
      "处理图片 db2b39beda46f6b0d3b080cbb40f42ce.png 时出错: 无法读取图片\n",
      "处理图片 663b9b5de5dea70cc19a90a111128b45.png 时出错: 无法读取图片\n"
     ]
    },
    {
     "name": "stderr",
     "output_type": "stream",
     "text": [
      "[ WARN:6@315.304] global loadsave.cpp:241 findDecoder imread_('/mnt/moonfs/dengjiaqi-m2/OSWorld-G/layout_crawling/systhesis/cropped_data_v4/cropped_images/b701dfe9a7fb53082f52a4e6cdff08d4.png'): can't open/read file: check file path/integrity\n",
      "[ WARN:8@315.332] global loadsave.cpp:241 findDecoder imread_('/mnt/moonfs/dengjiaqi-m2/OSWorld-G/layout_crawling/systhesis/cropped_data_v4/cropped_images/c73bf359292e30859be2a2b8eba90f59.png'): can't open/read file: check file path/integrity\n",
      "[ WARN:0@315.352] global loadsave.cpp:241 findDecoder imread_('/mnt/moonfs/dengjiaqi-m2/OSWorld-G/layout_crawling/systhesis/cropped_data_v4/cropped_images/3a3ff9f948fb4cb01c1ced8252d5da4b.png'): can't open/read file: check file path/integrity\n",
      "[ WARN:6@315.355] global loadsave.cpp:241 findDecoder imread_('/mnt/moonfs/dengjiaqi-m2/OSWorld-G/layout_crawling/systhesis/cropped_data_v4/cropped_images/ecf4a1dd923512888e829e3fcc006e9d.png'): can't open/read file: check file path/integrity\n",
      "[ WARN:24@315.357] global loadsave.cpp:241 findDecoder imread_('/mnt/moonfs/dengjiaqi-m2/OSWorld-G/layout_crawling/systhesis/cropped_data_v4/cropped_images/bf3c4109f26b5e8878ded8f234f03c02.png'): can't open/read file: check file path/integrity\n",
      "[ WARN:0@315.387] global loadsave.cpp:241 findDecoder imread_('/mnt/moonfs/dengjiaqi-m2/OSWorld-G/layout_crawling/systhesis/cropped_data_v4/cropped_images/c233ec191861c8a176ccd533119e7380.png'): can't open/read file: check file path/integrity\n",
      "[ WARN:9@315.391] global loadsave.cpp:241 findDecoder imread_('/mnt/moonfs/dengjiaqi-m2/OSWorld-G/layout_crawling/systhesis/cropped_data_v4/cropped_images/aa45c8f4750f65e77a25c50ef50dac75.png'): can't open/read file: check file path/integrity\n",
      "[ WARN:24@315.400] global loadsave.cpp:241 findDecoder imread_('/mnt/moonfs/dengjiaqi-m2/OSWorld-G/layout_crawling/systhesis/cropped_data_v4/cropped_images/ea6c833127ce95693b84f1ee095f9b24.png'): can't open/read file: check file path/integrity\n",
      "[ WARN:4@315.412] global loadsave.cpp:241 findDecoder imread_('/mnt/moonfs/dengjiaqi-m2/OSWorld-G/layout_crawling/systhesis/cropped_data_v4/cropped_images/957ffcf6382253fbe587fbc36b6f5588.png'): can't open/read file: check file path/integrity\n",
      "[ WARN:29@315.423] global loadsave.cpp:241 findDecoder imread_('/mnt/moonfs/dengjiaqi-m2/OSWorld-G/layout_crawling/systhesis/cropped_data_v4/cropped_images/daf988d4b959e1308851745ede4f1fc0.png'): can't open/read file: check file path/integrity\n",
      "[ WARN:26@315.436] global loadsave.cpp:241 findDecoder imread_('/mnt/moonfs/dengjiaqi-m2/OSWorld-G/layout_crawling/systhesis/cropped_data_v4/cropped_images/68d5e35f195d831787608e5ea4c2dcab.png'): can't open/read file: check file path/integrity\n",
      "[ WARN:10@315.441] global loadsave.cpp:241 findDecoder imread_('/mnt/moonfs/dengjiaqi-m2/OSWorld-G/layout_crawling/systhesis/cropped_data_v4/cropped_images/1b979edd70bed346ef6daa5ba1d388cd.png'): can't open/read file: check file path/integrity\n",
      "[ WARN:20@315.445] global loadsave.cpp:241 findDecoder imread_('/mnt/moonfs/dengjiaqi-m2/OSWorld-G/layout_crawling/systhesis/cropped_data_v4/cropped_images/078540a1e1e44cce08edc41a2fee57a3.png'): can't open/read file: check file path/integrity\n",
      "[ WARN:21@315.455] global loadsave.cpp:241 findDecoder imread_('/mnt/moonfs/dengjiaqi-m2/OSWorld-G/layout_crawling/systhesis/cropped_data_v4/cropped_images/2bab2280cc3533145dcd22f3c26b1a89.png'): can't open/read file: check file path/integrity\n",
      "[ WARN:24@315.457] global loadsave.cpp:241 findDecoder imread_('/mnt/moonfs/dengjiaqi-m2/OSWorld-G/layout_crawling/systhesis/cropped_data_v4/cropped_images/e7388c151f5d3fa3d6ce12635ae8e566.png'): can't open/read file: check file path/integrity\n",
      "[ WARN:26@315.473] global loadsave.cpp:241 findDecoder imread_('/mnt/moonfs/dengjiaqi-m2/OSWorld-G/layout_crawling/systhesis/cropped_data_v4/cropped_images/0d65799186eb463f283c87712836fcc0.png'): can't open/read file: check file path/integrity\n",
      "[ WARN:23@315.475] global loadsave.cpp:241 findDecoder imread_('/mnt/moonfs/dengjiaqi-m2/OSWorld-G/layout_crawling/systhesis/cropped_data_v4/cropped_images/6d1280f4f6af86b61656a7cddca0cf17.png'): can't open/read file: check file path/integrity\n",
      "[ WARN:4@315.479] global loadsave.cpp:241 findDecoder imread_('/mnt/moonfs/dengjiaqi-m2/OSWorld-G/layout_crawling/systhesis/cropped_data_v4/cropped_images/090f34376fd238a4c48f6edb42bb0511.png'): can't open/read file: check file path/integrity\n",
      "[ WARN:9@315.483] global loadsave.cpp:241 findDecoder imread_('/mnt/moonfs/dengjiaqi-m2/OSWorld-G/layout_crawling/systhesis/cropped_data_v4/cropped_images/a9b8e7a5193175477dcfe797df160c10.png'): can't open/read file: check file path/integrity\n",
      "[ WARN:24@315.497] global loadsave.cpp:241 findDecoder imread_('/mnt/moonfs/dengjiaqi-m2/OSWorld-G/layout_crawling/systhesis/cropped_data_v4/cropped_images/9a84852a53844fd09e365b40b16db159.png'): can't open/read file: check file path/integrity\n",
      "[ WARN:6@315.499] global loadsave.cpp:241 findDecoder imread_('/mnt/moonfs/dengjiaqi-m2/OSWorld-G/layout_crawling/systhesis/cropped_data_v4/cropped_images/db2b39beda46f6b0d3b080cbb40f42ce.png'): can't open/read file: check file path/integrity\n",
      "[ WARN:28@315.501] global loadsave.cpp:241 findDecoder imread_('/mnt/moonfs/dengjiaqi-m2/OSWorld-G/layout_crawling/systhesis/cropped_data_v4/cropped_images/663b9b5de5dea70cc19a90a111128b45.png'): can't open/read file: check file path/integrity\n"
     ]
    },
    {
     "name": "stdout",
     "output_type": "stream",
     "text": [
      "处理图片 86d17f2b445af300ba9e02c3ee6e54c3.png 时出错: 无法读取图片\n",
      "处理图片 49f561215263aeb5974a477c86a34394.png 时出错: 无法读取图片\n",
      "处理图片 90fdb766044d5c2360efc8fb0aa3c909.png 时出错: 无法读取图片\n"
     ]
    },
    {
     "name": "stderr",
     "output_type": "stream",
     "text": [
      "[ WARN:20@315.507] global loadsave.cpp:241 findDecoder imread_('/mnt/moonfs/dengjiaqi-m2/OSWorld-G/layout_crawling/systhesis/cropped_data_v4/cropped_images/86d17f2b445af300ba9e02c3ee6e54c3.png'): can't open/read file: check file path/integrity\n",
      "[ WARN:25@315.512] global loadsave.cpp:241 findDecoder imread_('/mnt/moonfs/dengjiaqi-m2/OSWorld-G/layout_crawling/systhesis/cropped_data_v4/cropped_images/49f561215263aeb5974a477c86a34394.png'): can't open/read file: check file path/integrity\n",
      "[ WARN:11@315.519] global loadsave.cpp:241 findDecoder imread_('/mnt/moonfs/dengjiaqi-m2/OSWorld-G/layout_crawling/systhesis/cropped_data_v4/cropped_images/90fdb766044d5c2360efc8fb0aa3c909.png'): can't open/read file: check file path/integrity\n",
      "过滤图片: 100%|██████████| 125807/125807 [05:13<00:00, 401.81it/s]\n"
     ]
    },
    {
     "name": "stdout",
     "output_type": "stream",
     "text": [
      "原始数据数量: 125807\n",
      "过滤后数据数量: 110602\n"
     ]
    }
   ],
   "source": [
    "from tqdm import tqdm\n",
    "from concurrent.futures import ThreadPoolExecutor\n",
    "\n",
    "# read the image\n",
    "image_dir = \"/mnt/moonfs/dengjiaqi-m2/OSWorld-G/layout_crawling/systhesis/cropped_data_v4/cropped_images\"\n",
    "\n",
    "def process_image(obj):\n",
    "    try:\n",
    "        image_name = obj[\"processed_image_name\"]\n",
    "        image_path = os.path.join(image_dir, image_name)\n",
    "        \n",
    "        # filter out with width or height <= 0\n",
    "        if obj[\"position\"][\"width\"] <= 0 or obj[\"position\"][\"height\"] <= 0:\n",
    "            return None\n",
    "\n",
    "        if not is_solid_color_cv2(image_path):\n",
    "            return obj\n",
    "    except ValueError as e:\n",
    "        print(f\"处理图片 {image_name} 时出错: {str(e)}\")\n",
    "    return None\n",
    "\n",
    "filtered_data = []\n",
    "with ThreadPoolExecutor(max_workers=32) as executor:\n",
    "    futures = list(tqdm(\n",
    "        executor.map(process_image, data),\n",
    "        total=len(data),\n",
    "        desc=\"过滤图片\"\n",
    "    ))\n",
    "    filtered_data = [result for result in futures if result is not None]\n",
    "\n",
    "print(f\"原始数据数量: {len(data)}\")\n",
    "print(f\"过滤后数据数量: {len(filtered_data)}\")\n",
    "\n",
    "# 保存过滤后的数据到新的jsonl文件\n",
    "output_path = os.path.join(data_dir, \"layout2k_filtered.jsonl\")\n",
    "with jsonlines.open(output_path, mode='w') as writer:\n",
    "    writer.write_all(filtered_data)"
   ]
  }
 ],
 "metadata": {
  "kernelspec": {
   "display_name": "base",
   "language": "python",
   "name": "python3"
  },
  "language_info": {
   "codemirror_mode": {
    "name": "ipython",
    "version": 3
   },
   "file_extension": ".py",
   "mimetype": "text/x-python",
   "name": "python",
   "nbconvert_exporter": "python",
   "pygments_lexer": "ipython3",
   "version": "3.10.14"
  }
 },
 "nbformat": 4,
 "nbformat_minor": 2
}
